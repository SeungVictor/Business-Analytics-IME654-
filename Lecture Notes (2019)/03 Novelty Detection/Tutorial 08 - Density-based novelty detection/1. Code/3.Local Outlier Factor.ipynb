{
 "cells": [
  {
   "cell_type": "code",
   "execution_count": 1,
   "metadata": {
    "collapsed": false
   },
   "outputs": [
    {
     "name": "stdout",
     "output_type": "stream",
     "text": [
      "[1.1619346643522603, 1.0114624117730471, 0.59591471917943473, 0.91961512340540119, 0.93882142817315828, 1.4881150906711611, 1.3740625717777226, 0.67812907843971182, 1.8641585236851919, 1.0967746948501309]\n"
     ]
    }
   ],
   "source": [
    "import matplotlib.pyplot as plt\n",
    "import numpy as np\n",
    "import scipy.spatial as sc\n",
    "from scipy import stats\n",
    "import seaborn as sns\n",
    "sns.set_style(\"white\")\n",
    "import pandas as pd\n",
    "import math as mt\n",
    "from random import uniform\n",
    "import random\n",
    "\n",
    "#Data Generation (IRIS, Sepal length, Sepal Width)\n",
    "data = [[5.1, 3.5], [4.9, 3], [4.7, 3.2], [4.6, 3.1], [5, 3.6], [5.4, 3.9], [4.6, 3.4], [5, 3.4], [4.4, 2.9], [4.9, 3.1]]\n",
    "idx = [1, 2, 3, 4, 5, 6, 7, 8, 9, 10]\n",
    "df = pd.DataFrame(data, columns=['X', 'Y'], index=idx)\n",
    "\n",
    "#Array, Variables\n",
    "lrd = []\n",
    "inpointidx = []\n",
    "knnidx = []\n",
    "LOF = []\n",
    "lrdko = []\n",
    "a = 0\n",
    "\n",
    "#Euclidean distance matrix\n",
    "distance = pd.DataFrame(sc.distance_matrix(df.values, df.values), index=df.index, columns=df.index)\n",
    "\n",
    "#k-distance\n",
    "for i in range(1,11):\n",
    "    dis = np.array(distance[i])\n",
    "    dis = np.delete(dis, [i-1])\n",
    "    sortdis = np.array(distance[i])\n",
    "    sortdis = np.delete(sortdis, [i-1])\n",
    "    sortdis.sort()\n",
    "    kdis = sortdis[2]\n",
    "\n",
    "#N(k)p\n",
    "    inpointidx1 = np.where(dis<=kdis)\n",
    "    knnidx.append(inpointidx1)\n",
    "    inpointidx = inpointidx1[0]\n",
    "    nkp = np.size(inpointidx)\n",
    "\n",
    "#Rechability distance\n",
    "    for j in inpointidx:\n",
    "        dis[j] = kdis\n",
    "\n",
    "    lrdp = (nkp) / sum(dis[inpointidx])\n",
    "    lrd.append(lrdp)\n",
    "\n",
    "\n",
    "#LOF\n",
    "for k in range(0, 10):\n",
    "    nkpo = knnidx[k]\n",
    "    for l in range(0, len(nkpo[0])):\n",
    "        nkpoe = nkpo[0]\n",
    "        a = a + lrd[nkpoe[l]]\n",
    "    lrdko.append(a)\n",
    "    a = 0\n",
    "\n",
    "for t in range(0, 10):\n",
    "    lof = (lrdko[t]/lrd[t]) / nkp\n",
    "    LOF.append(lof)\n",
    "\n",
    "print(LOF)"
   ]
  },
  {
   "cell_type": "code",
   "execution_count": 2,
   "metadata": {
    "collapsed": false
   },
   "outputs": [
    {
     "data": {
      "text/html": [
       "<div>\n",
       "<table border=\"1\" class=\"dataframe\">\n",
       "  <thead>\n",
       "    <tr style=\"text-align: right;\">\n",
       "      <th></th>\n",
       "      <th>X</th>\n",
       "      <th>Y</th>\n",
       "    </tr>\n",
       "  </thead>\n",
       "  <tbody>\n",
       "    <tr>\n",
       "      <th>1</th>\n",
       "      <td>5.1</td>\n",
       "      <td>3.5</td>\n",
       "    </tr>\n",
       "    <tr>\n",
       "      <th>2</th>\n",
       "      <td>4.9</td>\n",
       "      <td>3.0</td>\n",
       "    </tr>\n",
       "    <tr>\n",
       "      <th>3</th>\n",
       "      <td>4.7</td>\n",
       "      <td>3.2</td>\n",
       "    </tr>\n",
       "    <tr>\n",
       "      <th>4</th>\n",
       "      <td>4.6</td>\n",
       "      <td>3.1</td>\n",
       "    </tr>\n",
       "    <tr>\n",
       "      <th>5</th>\n",
       "      <td>5.0</td>\n",
       "      <td>3.6</td>\n",
       "    </tr>\n",
       "    <tr>\n",
       "      <th>6</th>\n",
       "      <td>5.4</td>\n",
       "      <td>3.9</td>\n",
       "    </tr>\n",
       "    <tr>\n",
       "      <th>7</th>\n",
       "      <td>4.6</td>\n",
       "      <td>3.4</td>\n",
       "    </tr>\n",
       "    <tr>\n",
       "      <th>8</th>\n",
       "      <td>5.0</td>\n",
       "      <td>3.4</td>\n",
       "    </tr>\n",
       "    <tr>\n",
       "      <th>9</th>\n",
       "      <td>4.4</td>\n",
       "      <td>2.9</td>\n",
       "    </tr>\n",
       "    <tr>\n",
       "      <th>10</th>\n",
       "      <td>4.9</td>\n",
       "      <td>3.1</td>\n",
       "    </tr>\n",
       "  </tbody>\n",
       "</table>\n",
       "</div>"
      ],
      "text/plain": [
       "      X    Y\n",
       "1   5.1  3.5\n",
       "2   4.9  3.0\n",
       "3   4.7  3.2\n",
       "4   4.6  3.1\n",
       "5   5.0  3.6\n",
       "6   5.4  3.9\n",
       "7   4.6  3.4\n",
       "8   5.0  3.4\n",
       "9   4.4  2.9\n",
       "10  4.9  3.1"
      ]
     },
     "execution_count": 2,
     "metadata": {},
     "output_type": "execute_result"
    }
   ],
   "source": [
    "#Data Generation (IRIS, Sepal length, Sepal Width)\n",
    "data = [[5.1, 3.5], [4.9, 3], [4.7, 3.2], [4.6, 3.1], [5, 3.6], [5.4, 3.9], [4.6, 3.4], [5, 3.4], [4.4, 2.9], [4.9, 3.1]]\n",
    "idx = [1, 2, 3, 4, 5, 6, 7, 8, 9, 10]\n",
    "df = pd.DataFrame(data, columns=['X', 'Y'], index=idx)\n",
    "\n",
    "df"
   ]
  },
  {
   "cell_type": "code",
   "execution_count": 3,
   "metadata": {
    "collapsed": false
   },
   "outputs": [
    {
     "data": {
      "text/html": [
       "<div>\n",
       "<table border=\"1\" class=\"dataframe\">\n",
       "  <thead>\n",
       "    <tr style=\"text-align: right;\">\n",
       "      <th></th>\n",
       "      <th>1</th>\n",
       "      <th>2</th>\n",
       "      <th>3</th>\n",
       "      <th>4</th>\n",
       "      <th>5</th>\n",
       "      <th>6</th>\n",
       "      <th>7</th>\n",
       "      <th>8</th>\n",
       "      <th>9</th>\n",
       "      <th>10</th>\n",
       "    </tr>\n",
       "  </thead>\n",
       "  <tbody>\n",
       "    <tr>\n",
       "      <th>1</th>\n",
       "      <td>0.000000</td>\n",
       "      <td>0.538516</td>\n",
       "      <td>0.500000</td>\n",
       "      <td>0.640312</td>\n",
       "      <td>0.141421</td>\n",
       "      <td>0.500000</td>\n",
       "      <td>0.509902</td>\n",
       "      <td>0.141421</td>\n",
       "      <td>0.921954</td>\n",
       "      <td>0.447214</td>\n",
       "    </tr>\n",
       "    <tr>\n",
       "      <th>2</th>\n",
       "      <td>0.538516</td>\n",
       "      <td>0.000000</td>\n",
       "      <td>0.282843</td>\n",
       "      <td>0.316228</td>\n",
       "      <td>0.608276</td>\n",
       "      <td>1.029563</td>\n",
       "      <td>0.500000</td>\n",
       "      <td>0.412311</td>\n",
       "      <td>0.509902</td>\n",
       "      <td>0.100000</td>\n",
       "    </tr>\n",
       "    <tr>\n",
       "      <th>3</th>\n",
       "      <td>0.500000</td>\n",
       "      <td>0.282843</td>\n",
       "      <td>0.000000</td>\n",
       "      <td>0.141421</td>\n",
       "      <td>0.500000</td>\n",
       "      <td>0.989949</td>\n",
       "      <td>0.223607</td>\n",
       "      <td>0.360555</td>\n",
       "      <td>0.424264</td>\n",
       "      <td>0.223607</td>\n",
       "    </tr>\n",
       "    <tr>\n",
       "      <th>4</th>\n",
       "      <td>0.640312</td>\n",
       "      <td>0.316228</td>\n",
       "      <td>0.141421</td>\n",
       "      <td>0.000000</td>\n",
       "      <td>0.640312</td>\n",
       "      <td>1.131371</td>\n",
       "      <td>0.300000</td>\n",
       "      <td>0.500000</td>\n",
       "      <td>0.282843</td>\n",
       "      <td>0.300000</td>\n",
       "    </tr>\n",
       "    <tr>\n",
       "      <th>5</th>\n",
       "      <td>0.141421</td>\n",
       "      <td>0.608276</td>\n",
       "      <td>0.500000</td>\n",
       "      <td>0.640312</td>\n",
       "      <td>0.000000</td>\n",
       "      <td>0.500000</td>\n",
       "      <td>0.447214</td>\n",
       "      <td>0.200000</td>\n",
       "      <td>0.921954</td>\n",
       "      <td>0.509902</td>\n",
       "    </tr>\n",
       "    <tr>\n",
       "      <th>6</th>\n",
       "      <td>0.500000</td>\n",
       "      <td>1.029563</td>\n",
       "      <td>0.989949</td>\n",
       "      <td>1.131371</td>\n",
       "      <td>0.500000</td>\n",
       "      <td>0.000000</td>\n",
       "      <td>0.943398</td>\n",
       "      <td>0.640312</td>\n",
       "      <td>1.414214</td>\n",
       "      <td>0.943398</td>\n",
       "    </tr>\n",
       "    <tr>\n",
       "      <th>7</th>\n",
       "      <td>0.509902</td>\n",
       "      <td>0.500000</td>\n",
       "      <td>0.223607</td>\n",
       "      <td>0.300000</td>\n",
       "      <td>0.447214</td>\n",
       "      <td>0.943398</td>\n",
       "      <td>0.000000</td>\n",
       "      <td>0.400000</td>\n",
       "      <td>0.538516</td>\n",
       "      <td>0.424264</td>\n",
       "    </tr>\n",
       "    <tr>\n",
       "      <th>8</th>\n",
       "      <td>0.141421</td>\n",
       "      <td>0.412311</td>\n",
       "      <td>0.360555</td>\n",
       "      <td>0.500000</td>\n",
       "      <td>0.200000</td>\n",
       "      <td>0.640312</td>\n",
       "      <td>0.400000</td>\n",
       "      <td>0.000000</td>\n",
       "      <td>0.781025</td>\n",
       "      <td>0.316228</td>\n",
       "    </tr>\n",
       "    <tr>\n",
       "      <th>9</th>\n",
       "      <td>0.921954</td>\n",
       "      <td>0.509902</td>\n",
       "      <td>0.424264</td>\n",
       "      <td>0.282843</td>\n",
       "      <td>0.921954</td>\n",
       "      <td>1.414214</td>\n",
       "      <td>0.538516</td>\n",
       "      <td>0.781025</td>\n",
       "      <td>0.000000</td>\n",
       "      <td>0.538516</td>\n",
       "    </tr>\n",
       "    <tr>\n",
       "      <th>10</th>\n",
       "      <td>0.447214</td>\n",
       "      <td>0.100000</td>\n",
       "      <td>0.223607</td>\n",
       "      <td>0.300000</td>\n",
       "      <td>0.509902</td>\n",
       "      <td>0.943398</td>\n",
       "      <td>0.424264</td>\n",
       "      <td>0.316228</td>\n",
       "      <td>0.538516</td>\n",
       "      <td>0.000000</td>\n",
       "    </tr>\n",
       "  </tbody>\n",
       "</table>\n",
       "</div>"
      ],
      "text/plain": [
       "          1         2         3         4         5         6         7   \\\n",
       "1   0.000000  0.538516  0.500000  0.640312  0.141421  0.500000  0.509902   \n",
       "2   0.538516  0.000000  0.282843  0.316228  0.608276  1.029563  0.500000   \n",
       "3   0.500000  0.282843  0.000000  0.141421  0.500000  0.989949  0.223607   \n",
       "4   0.640312  0.316228  0.141421  0.000000  0.640312  1.131371  0.300000   \n",
       "5   0.141421  0.608276  0.500000  0.640312  0.000000  0.500000  0.447214   \n",
       "6   0.500000  1.029563  0.989949  1.131371  0.500000  0.000000  0.943398   \n",
       "7   0.509902  0.500000  0.223607  0.300000  0.447214  0.943398  0.000000   \n",
       "8   0.141421  0.412311  0.360555  0.500000  0.200000  0.640312  0.400000   \n",
       "9   0.921954  0.509902  0.424264  0.282843  0.921954  1.414214  0.538516   \n",
       "10  0.447214  0.100000  0.223607  0.300000  0.509902  0.943398  0.424264   \n",
       "\n",
       "          8         9         10  \n",
       "1   0.141421  0.921954  0.447214  \n",
       "2   0.412311  0.509902  0.100000  \n",
       "3   0.360555  0.424264  0.223607  \n",
       "4   0.500000  0.282843  0.300000  \n",
       "5   0.200000  0.921954  0.509902  \n",
       "6   0.640312  1.414214  0.943398  \n",
       "7   0.400000  0.538516  0.424264  \n",
       "8   0.000000  0.781025  0.316228  \n",
       "9   0.781025  0.000000  0.538516  \n",
       "10  0.316228  0.538516  0.000000  "
      ]
     },
     "execution_count": 3,
     "metadata": {},
     "output_type": "execute_result"
    }
   ],
   "source": [
    "#Euclidean distance matrix\n",
    "distance = pd.DataFrame(sc.distance_matrix(df.values, df.values), index=df.index, columns=df.index)\n",
    "\n",
    "distance"
   ]
  },
  {
   "cell_type": "code",
   "execution_count": 4,
   "metadata": {
    "collapsed": false
   },
   "outputs": [
    {
     "data": {
      "text/plain": [
       "array([ 0.1       ,  0.2236068 ,  0.3       ,  0.31622777,  0.42426407,\n",
       "        0.4472136 ,  0.50990195,  0.53851648,  0.94339811])"
      ]
     },
     "execution_count": 4,
     "metadata": {},
     "output_type": "execute_result"
    }
   ],
   "source": [
    "#k-distance\n",
    "for i in range(1,11):\n",
    "    dis = np.array(distance[i])\n",
    "    dis = np.delete(dis, [i-1])\n",
    "    sortdis = np.array(distance[i])\n",
    "    sortdis = np.delete(sortdis, [i-1])\n",
    "    sortdis.sort()\n",
    "    kdis = sortdis[2]\n",
    "\n",
    "#N(k)p\n",
    "    inpointidx1 = np.where(dis<=kdis)\n",
    "    knnidx.append(inpointidx1)\n",
    "    inpointidx = inpointidx1[0]\n",
    "    nkp = np.size(inpointidx)\n",
    "\n",
    "#Rechability distance\n",
    "    for j in inpointidx:\n",
    "        dis[j] = kdis\n",
    "\n",
    "    lrdp = (nkp) / sum(dis[inpointidx])\n",
    "    lrd.append(lrdp)\n",
    "    \n",
    "sortdis"
   ]
  },
  {
   "cell_type": "code",
   "execution_count": 6,
   "metadata": {
    "collapsed": false
   },
   "outputs": [
    {
     "data": {
      "text/plain": [
       "0.30000000000000071"
      ]
     },
     "execution_count": 6,
     "metadata": {},
     "output_type": "execute_result"
    }
   ],
   "source": [
    "kdis"
   ]
  },
  {
   "cell_type": "code",
   "execution_count": 7,
   "metadata": {
    "collapsed": false
   },
   "outputs": [
    {
     "data": {
      "text/plain": [
       "array([ 0.4472136 ,  0.3       ,  0.3       ,  0.3       ,  0.50990195,\n",
       "        0.94339811,  0.42426407,  0.31622777,  0.53851648])"
      ]
     },
     "execution_count": 7,
     "metadata": {},
     "output_type": "execute_result"
    }
   ],
   "source": [
    "dis"
   ]
  },
  {
   "cell_type": "code",
   "execution_count": 8,
   "metadata": {
    "collapsed": false
   },
   "outputs": [
    {
     "data": {
      "text/plain": [
       "[(array([3, 6, 8], dtype=int64),),\n",
       " (array([1, 2, 8], dtype=int64),),\n",
       " (array([2, 5, 8], dtype=int64),),\n",
       " (array([2, 5, 7], dtype=int64),),\n",
       " (array([0, 5, 6], dtype=int64),),\n",
       " (array([0, 4, 6], dtype=int64),),\n",
       " (array([2, 3, 6], dtype=int64),),\n",
       " (array([0, 4, 8], dtype=int64),),\n",
       " (array([1, 2, 3], dtype=int64),),\n",
       " (array([1, 2, 3], dtype=int64),)]"
      ]
     },
     "execution_count": 8,
     "metadata": {},
     "output_type": "execute_result"
    }
   ],
   "source": [
    "knnidx"
   ]
  },
  {
   "cell_type": "code",
   "execution_count": 9,
   "metadata": {
    "collapsed": false
   },
   "outputs": [
    {
     "data": {
      "text/plain": [
       "3"
      ]
     },
     "execution_count": 9,
     "metadata": {},
     "output_type": "execute_result"
    }
   ],
   "source": [
    "nkp"
   ]
  },
  {
   "cell_type": "code",
   "execution_count": 10,
   "metadata": {
    "collapsed": false
   },
   "outputs": [
    {
     "data": {
      "text/plain": [
       "[2.2360679774997916,\n",
       " 3.162277660168372,\n",
       " 4.4721359549995761,\n",
       " 3.3333333333333353,\n",
       " 2.236067977499788,\n",
       " 1.5617376188860601,\n",
       " 2.4999999999999978,\n",
       " 3.1622776601683822,\n",
       " 1.9611613513818404,\n",
       " 3.3333333333333255]"
      ]
     },
     "execution_count": 10,
     "metadata": {},
     "output_type": "execute_result"
    }
   ],
   "source": [
    "lrd"
   ]
  },
  {
   "cell_type": "code",
   "execution_count": 11,
   "metadata": {
    "collapsed": false
   },
   "outputs": [
    {
     "data": {
      "text/plain": [
       "[1.1619346643522603,\n",
       " 1.0114624117730471,\n",
       " 0.59591471917943473,\n",
       " 0.91961512340540119,\n",
       " 0.93882142817315828,\n",
       " 1.4881150906711611,\n",
       " 1.3740625717777226,\n",
       " 0.67812907843971182,\n",
       " 1.8641585236851919,\n",
       " 1.0967746948501309]"
      ]
     },
     "execution_count": 11,
     "metadata": {},
     "output_type": "execute_result"
    }
   ],
   "source": [
    "#LOF\n",
    "for k in range(0, 10):\n",
    "    nkpo = knnidx[k]\n",
    "    for l in range(0, len(nkpo[0])):\n",
    "        nkpoe = nkpo[0]\n",
    "        a = a + lrd[nkpoe[l]]\n",
    "    lrdko.append(a)\n",
    "    a = 0\n",
    "\n",
    "for t in range(0, 10):\n",
    "    lof = (lrdko[t]/lrd[t]) / nkp\n",
    "    LOF.append(lof)\n",
    "\n",
    "print(LOF)\n",
    "\n",
    "LOF"
   ]
  }
 ],
 "metadata": {
  "kernelspec": {
   "display_name": "Python [conda root]",
   "language": "python",
   "name": "conda-root-py"
  },
  "language_info": {
   "codemirror_mode": {
    "name": "ipython",
    "version": 3
   },
   "file_extension": ".py",
   "mimetype": "text/x-python",
   "name": "python",
   "nbconvert_exporter": "python",
   "pygments_lexer": "ipython3",
   "version": "3.5.2"
  }
 },
 "nbformat": 4,
 "nbformat_minor": 1
}
