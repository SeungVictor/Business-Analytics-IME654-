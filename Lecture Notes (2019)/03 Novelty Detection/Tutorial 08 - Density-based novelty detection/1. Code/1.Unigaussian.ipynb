{
 "cells": [
  {
   "cell_type": "code",
   "execution_count": 1,
   "metadata": {
    "collapsed": true
   },
   "outputs": [],
   "source": [
    "#For plotting\n",
    "import matplotlib.pyplot as plt\n",
    "#for matrix math\n",
    "import numpy as np\n",
    "#for normalization + probability density function computation\n",
    "from scipy import stats\n",
    "#for plotting\n",
    "import seaborn as sns\n",
    "sns.set_style(\"white\")\n",
    "%matplotlib inline"
   ]
  },
  {
   "cell_type": "code",
   "execution_count": 2,
   "metadata": {
    "collapsed": false
   },
   "outputs": [
    {
     "data": {
      "text/plain": [
       "[<matplotlib.lines.Line2D at 0x2432258d358>]"
      ]
     },
     "execution_count": 2,
     "metadata": {},
     "output_type": "execute_result"
    },
    {
     "data": {
      "image/png": "[encoded data removed]",
      "text/plain": [
       "<matplotlib.figure.Figure at 0x24322513208>"
      ]
     },
     "metadata": {},
     "output_type": "display_data"
    }
   ],
   "source": [
    "#Return evenly spaced numbers over a specified interval.\n",
    "x = np.linspace(start=-10, stop=10, num=1000)\n",
    "#A normal continuous random variable.\n",
    "#The location (loc) keyword specifies the mean. The scale (scale) keyword specifies the standard deviation.\n",
    "y = stats.norm.pdf(x, loc=0, scale=1.5)\n",
    "#plot it!\n",
    "plt.plot(x, y)"
   ]
  },
  {
   "cell_type": "code",
   "execution_count": 3,
   "metadata": {
    "collapsed": true
   },
   "outputs": [],
   "source": [
    "import pandas as pd"
   ]
  },
  {
   "cell_type": "code",
   "execution_count": 5,
   "metadata": {
    "collapsed": false
   },
   "outputs": [
    {
     "data": {
      "text/html": [
       "<div>\n",
       "<table border=\"1\" class=\"dataframe\">\n",
       "  <thead>\n",
       "    <tr style=\"text-align: right;\">\n",
       "      <th></th>\n",
       "      <th>sepallength</th>\n",
       "      <th>sepalwidth</th>\n",
       "      <th>petallength</th>\n",
       "      <th>petalwidth</th>\n",
       "      <th>label</th>\n",
       "    </tr>\n",
       "  </thead>\n",
       "  <tbody>\n",
       "    <tr>\n",
       "      <th>0</th>\n",
       "      <td>5.1</td>\n",
       "      <td>3.5</td>\n",
       "      <td>1.4</td>\n",
       "      <td>0.2</td>\n",
       "      <td>outlier</td>\n",
       "    </tr>\n",
       "    <tr>\n",
       "      <th>1</th>\n",
       "      <td>4.9</td>\n",
       "      <td>3.0</td>\n",
       "      <td>1.4</td>\n",
       "      <td>0.2</td>\n",
       "      <td>outlier</td>\n",
       "    </tr>\n",
       "    <tr>\n",
       "      <th>2</th>\n",
       "      <td>4.7</td>\n",
       "      <td>3.2</td>\n",
       "      <td>1.3</td>\n",
       "      <td>0.2</td>\n",
       "      <td>outlier</td>\n",
       "    </tr>\n",
       "    <tr>\n",
       "      <th>3</th>\n",
       "      <td>4.6</td>\n",
       "      <td>3.1</td>\n",
       "      <td>1.5</td>\n",
       "      <td>0.2</td>\n",
       "      <td>outlier</td>\n",
       "    </tr>\n",
       "    <tr>\n",
       "      <th>4</th>\n",
       "      <td>5.0</td>\n",
       "      <td>3.6</td>\n",
       "      <td>1.4</td>\n",
       "      <td>0.2</td>\n",
       "      <td>outlier</td>\n",
       "    </tr>\n",
       "  </tbody>\n",
       "</table>\n",
       "</div>"
      ],
      "text/plain": [
       "   sepallength  sepalwidth   petallength  petalwidth     label\n",
       "0          5.1          3.5          1.4          0.2  outlier\n",
       "1          4.9          3.0          1.4          0.2  outlier\n",
       "2          4.7          3.2          1.3          0.2  outlier\n",
       "3          4.6          3.1          1.5          0.2  outlier\n",
       "4          5.0          3.6          1.4          0.2  outlier"
      ]
     },
     "execution_count": 5,
     "metadata": {},
     "output_type": "execute_result"
    }
   ],
   "source": [
    "df = pd.read_csv(\"C:/bizanal/1_iris_virginica.csv\")\n",
    "df.head(n=5)"
   ]
  },
  {
   "cell_type": "code",
   "execution_count": 6,
   "metadata": {
    "collapsed": false
   },
   "outputs": [
    {
     "name": "stdout",
     "output_type": "stream",
     "text": [
      "(150, 1)\n",
      "[[ 5.1]\n",
      " [ 4.9]\n",
      " [ 4.7]\n",
      " [ 4.6]\n",
      " [ 5. ]]\n"
     ]
    }
   ],
   "source": [
    "#단별량 데이터 구현\n",
    "y = pd.DataFrame.as_matrix(df[['sepallength']])\n",
    "print(y.shape)\n",
    "print(y[0:5])"
   ]
  },
  {
   "cell_type": "code",
   "execution_count": 7,
   "metadata": {
    "collapsed": false
   },
   "outputs": [
    {
     "data": {
      "text/plain": [
       "<matplotlib.axes._subplots.AxesSubplot at 0x243227ed588>"
      ]
     },
     "execution_count": 7,
     "metadata": {},
     "output_type": "execute_result"
    },
    {
     "data": {
      "image/png": "[encoded data removed]",
      "text/plain": [
       "<matplotlib.figure.Figure at 0x243227ce748>"
      ]
     },
     "metadata": {},
     "output_type": "display_data"
    }
   ],
   "source": [
    "sns.distplot(y, bins=20, kde = False)"
   ]
  },
  {
   "cell_type": "code",
   "execution_count": 12,
   "metadata": {
    "collapsed": false
   },
   "outputs": [
    {
     "data": {
      "text/plain": [
       "<matplotlib.axes._subplots.AxesSubplot at 0x24322ea15f8>"
      ]
     },
     "execution_count": 12,
     "metadata": {},
     "output_type": "execute_result"
    },
    {
     "data": {
      "image/png": "[encoded data removed]",
      "text/plain": [
       "<matplotlib.figure.Figure at 0x24322da87b8>"
      ]
     },
     "metadata": {},
     "output_type": "display_data"
    }
   ],
   "source": [
    "#package seabon을 이용하여 gaussian분포 추정\n",
    "sns.distplot(y, fit=stats.norm, bins=20, kde=False,)"
   ]
  },
  {
   "cell_type": "code",
   "execution_count": 15,
   "metadata": {
    "collapsed": true
   },
   "outputs": [],
   "source": [
    "class Gaussian:\n",
    "    def __init__(self, mu, sigma):\n",
    "        self.mu = mu\n",
    "        self.sigma = sigma\n",
    "\n",
    "    def pdf(self, data): # 가우시안 분포 pdf 값 return\n",
    "        u = (data - self.mu) / abs(self.sigma)\n",
    "        y = (1 / (sqrt(2 * pi) * abs(self.sigma))) * exp(-u * u / 2)\n",
    "        return y"
   ]
  },
  {
   "cell_type": "code",
   "execution_count": 16,
   "metadata": {
    "collapsed": false
   },
   "outputs": [
    {
     "name": "stdout",
     "output_type": "stream",
     "text": [
      "best mu= 5.84333333333\n",
      "best sigma= 0.825301291785\n"
     ]
    }
   ],
   "source": [
    "# pdf 값 즉 정규 분포의 확률값이 최대 값이 되는 mu와 sigma는 평균과 분산이다.\n",
    "best= Gaussian(np.mean(y), np.std(y))\n",
    "print(\"best mu=\" , best.mu)\n",
    "print(\"best sigma=\", best.sigma)"
   ]
  },
  {
   "cell_type": "code",
   "execution_count": 20,
   "metadata": {
    "collapsed": false
   },
   "outputs": [
    {
     "name": "stdout",
     "output_type": "stream",
     "text": [
      "[[ 5.1]\n",
      " [ 4.9]\n",
      " [ 4.7]\n",
      " [ 4.6]\n",
      " [ 5. ]]\n"
     ]
    },
    {
     "data": {
      "image/png": "[encoded data removed]",
      "text/plain": [
       "<matplotlib.figure.Figure at 0x243240e8320>"
      ]
     },
     "metadata": {},
     "output_type": "display_data"
    }
   ],
   "source": [
    "# 가우시안 분포 그리기\n",
    "x = np.linspace(3,9,200)\n",
    "g_single = stats.norm(best.mu, best.sigma).pdf(x)\n",
    "sns.distplot(y, bins=20, kde = False, norm_hist= True)\n",
    "plt.plot(x,g_single, label = 'Single Gaussian')\n",
    "plt.legend()\n",
    "\n",
    "print(y[0:5])"
   ]
  },
  {
   "cell_type": "code",
   "execution_count": 21,
   "metadata": {
    "collapsed": false
   },
   "outputs": [
    {
     "name": "stdout",
     "output_type": "stream",
     "text": [
      "[ 5.1] = normal\n",
      "[ 4.9] = normal\n",
      "[ 4.7] = normal\n",
      "[ 4.6] = normal\n",
      "[ 5.] = normal\n",
      "[ 5.4] = normal\n",
      "[ 4.6] = normal\n",
      "[ 5.] = normal\n",
      "[ 4.4] = normal\n",
      "[ 4.9] = normal\n",
      "[ 5.4] = normal\n",
      "[ 4.8] = normal\n",
      "[ 4.8] = normal\n",
      "[ 4.3] = normal\n",
      "[ 5.8] = normal\n",
      "[ 5.7] = normal\n",
      "[ 5.4] = normal\n",
      "[ 5.1] = normal\n",
      "[ 5.7] = normal\n",
      "[ 5.1] = normal\n",
      "[ 5.4] = normal\n",
      "[ 5.1] = normal\n",
      "[ 4.6] = normal\n",
      "[ 5.1] = normal\n",
      "[ 4.8] = normal\n",
      "[ 5.] = normal\n",
      "[ 5.] = normal\n",
      "[ 5.2] = normal\n",
      "[ 5.2] = normal\n",
      "[ 4.7] = normal\n",
      "[ 4.8] = normal\n",
      "[ 5.4] = normal\n",
      "[ 5.2] = normal\n",
      "[ 5.5] = normal\n",
      "[ 4.9] = normal\n",
      "[ 5.] = normal\n",
      "[ 5.5] = normal\n",
      "[ 4.9] = normal\n",
      "[ 4.4] = normal\n",
      "[ 5.1] = normal\n",
      "[ 5.] = normal\n",
      "[ 4.5] = normal\n",
      "[ 4.4] = normal\n",
      "[ 5.] = normal\n",
      "[ 5.1] = normal\n",
      "[ 4.8] = normal\n",
      "[ 5.1] = normal\n",
      "[ 4.6] = normal\n",
      "[ 5.3] = normal\n",
      "[ 5.] = normal\n",
      "[ 7.] = normal\n",
      "[ 6.4] = normal\n",
      "[ 6.9] = normal\n",
      "[ 5.5] = normal\n",
      "[ 6.5] = normal\n",
      "[ 5.7] = normal\n",
      "[ 6.3] = normal\n",
      "[ 4.9] = normal\n",
      "[ 6.6] = normal\n",
      "[ 5.2] = normal\n",
      "[ 5.] = normal\n",
      "[ 5.9] = normal\n",
      "[ 6.] = normal\n",
      "[ 6.1] = normal\n",
      "[ 5.6] = normal\n",
      "[ 6.7] = normal\n",
      "[ 5.6] = normal\n",
      "[ 5.8] = normal\n",
      "[ 6.2] = normal\n",
      "[ 5.6] = normal\n",
      "[ 5.9] = normal\n",
      "[ 6.1] = normal\n",
      "[ 6.3] = normal\n",
      "[ 6.1] = normal\n",
      "[ 6.4] = normal\n",
      "[ 6.6] = normal\n",
      "[ 6.8] = normal\n",
      "[ 6.7] = normal\n",
      "[ 6.] = normal\n",
      "[ 5.7] = normal\n",
      "[ 5.5] = normal\n",
      "[ 5.5] = normal\n",
      "[ 5.8] = normal\n",
      "[ 6.] = normal\n",
      "[ 5.4] = normal\n",
      "[ 6.] = normal\n",
      "[ 6.7] = normal\n",
      "[ 6.3] = normal\n",
      "[ 5.6] = normal\n",
      "[ 5.5] = normal\n",
      "[ 5.5] = normal\n",
      "[ 6.1] = normal\n",
      "[ 5.8] = normal\n",
      "[ 5.] = normal\n",
      "[ 5.6] = normal\n",
      "[ 5.7] = normal\n",
      "[ 5.7] = normal\n",
      "[ 6.2] = normal\n",
      "[ 5.1] = normal\n",
      "[ 5.7] = normal\n",
      "[ 6.3] = normal\n",
      "[ 5.8] = normal\n",
      "[ 7.1] = normal\n",
      "[ 6.3] = normal\n",
      "[ 6.5] = normal\n",
      "[ 7.6] = normal\n",
      "[ 4.9] = normal\n",
      "[ 7.3] = normal\n",
      "[ 6.7] = normal\n",
      "[ 7.2] = normal\n",
      "[ 6.5] = normal\n",
      "[ 6.4] = normal\n",
      "[ 6.8] = normal\n",
      "[ 5.7] = normal\n",
      "[ 5.8] = normal\n",
      "[ 6.4] = normal\n",
      "[ 6.5] = normal\n",
      "[ 7.7] =abnormal\n",
      "[ 7.7] =abnormal\n",
      "[ 6.] = normal\n",
      "[ 6.9] = normal\n",
      "[ 5.6] = normal\n",
      "[ 7.7] =abnormal\n",
      "[ 6.3] = normal\n",
      "[ 6.7] = normal\n",
      "[ 7.2] = normal\n",
      "[ 6.2] = normal\n",
      "[ 6.1] = normal\n",
      "[ 6.4] = normal\n",
      "[ 7.2] = normal\n",
      "[ 7.4] = normal\n",
      "[ 7.9] =abnormal\n",
      "[ 6.4] = normal\n",
      "[ 6.3] = normal\n",
      "[ 6.1] = normal\n",
      "[ 7.7] =abnormal\n",
      "[ 6.3] = normal\n",
      "[ 6.4] = normal\n",
      "[ 6.] = normal\n",
      "[ 6.9] = normal\n",
      "[ 6.7] = normal\n",
      "[ 6.9] = normal\n",
      "[ 5.8] = normal\n",
      "[ 6.8] = normal\n",
      "[ 6.7] = normal\n",
      "[ 6.7] = normal\n",
      "[ 6.3] = normal\n",
      "[ 6.5] = normal\n",
      "[ 6.2] = normal\n",
      "[ 5.9] = normal\n",
      "normal= 145\n",
      "abnormal= 5\n"
     ]
    }
   ],
   "source": [
    "#정상 boundary 외 outlier filtering\n",
    "n = 0\n",
    "b=0\n",
    "for i in range(0,y.shape[0]):\n",
    "    if (stats.norm(best.mu, best.sigma).pdf(y[i])) >0.05 and (stats.norm(best.mu, best.sigma).pdf(y[i])) < 0.995:\n",
    "        print(y[i],\"= normal\")\n",
    "        n=n+1\n",
    "    else:\n",
    "        print(y[i],\"=abnormal\")\n",
    "        b=b+1\n",
    "\n",
    "print(\"normal=\",n)\n",
    "print(\"abnormal=\",b)"
   ]
  },
  {
   "cell_type": "code",
   "execution_count": null,
   "metadata": {
    "collapsed": true
   },
   "outputs": [],
   "source": []
  }
 ],
 "metadata": {
  "anaconda-cloud": {},
  "kernelspec": {
   "display_name": "Python [default]",
   "language": "python",
   "name": "python3"
  },
  "language_info": {
   "codemirror_mode": {
    "name": "ipython",
    "version": 3
   },
   "file_extension": ".py",
   "mimetype": "text/x-python",
   "name": "python",
   "nbconvert_exporter": "python",
   "pygments_lexer": "ipython3",
   "version": "3.5.2"
  }
 },
 "nbformat": 4,
 "nbformat_minor": 1
}
