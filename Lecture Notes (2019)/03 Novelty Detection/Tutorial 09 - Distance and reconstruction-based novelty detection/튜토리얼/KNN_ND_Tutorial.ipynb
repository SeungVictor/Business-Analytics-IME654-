{
 "cells": [
  {
   "cell_type": "markdown",
   "metadata": {},
   "source": [
    "# Distance/Reconstruction기반 Novelty Detection"
   ]
  },
  {
   "cell_type": "markdown",
   "metadata": {},
   "source": [
    "![title](http://cfile212.uf.daum.net/image/99D0F2335A1AE264149F37)"
   ]
  },
  {
   "cell_type": "markdown",
   "metadata": {},
   "source": [
    "# 1. KNN-based novelty detection"
   ]
  },
  {
   "cell_type": "markdown",
   "metadata": {},
   "source": [
    "![title](http://cfile220.uf.daum.net/image/992AB2335A1D71302D07A4)"
   ]
  },
  {
   "cell_type": "markdown",
   "metadata": {},
   "source": [
    "## Python Code"
   ]
  },
  {
   "cell_type": "markdown",
   "metadata": {},
   "source": [
    "### 1) Max,Avg Distance to the k-th Nearest Neighbor"
   ]
  },
  {
   "cell_type": "markdown",
   "metadata": {},
   "source": [
    "![title](http://cfile222.uf.daum.net/image/999B28335A1D71300D8749)"
   ]
  },
  {
   "cell_type": "code",
   "execution_count": 3,
   "metadata": {},
   "outputs": [
    {
     "name": "stdout",
     "output_type": "stream",
     "text": [
      "neighbors_inform: [array([[list([2, 2, '-']), 0.7071067811865476],\n",
      "       [list([3, 2, '-']), 0.7071067811865476],\n",
      "       [list([1, 2, '-']), 1.5811388300841898],\n",
      "       [list([4, 2, '-']), 1.5811388300841898]], dtype=object), array([[list([1, 1, '-']), 0.30000000000000004],\n",
      "       [list([1, 2, '-']), 1.044030650891055],\n",
      "       [list([2, 1, '-']), 1.3],\n",
      "       [list([2, 2, '-']), 1.6401219466856727]], dtype=object)]\n",
      "knn_dist_max: [1.5811388300841898 1.6401219466856727]\n",
      "knn_dist_avg: [1.1441228056353687 1.071038149394182]\n"
     ]
    }
   ],
   "source": [
    "import numpy as np\n",
    "import math\n",
    "import operator\n",
    " \n",
    "\n",
    "def getNeighbors(trainingSet, testInstance, k):\n",
    "    distances = []\n",
    "    length = len(testInstance)-1\n",
    "\n",
    "    for x in range(len(trainingSet)):\n",
    "        dist = euclideanDistance(testInstance, trainingSet[x], length)\n",
    "        distances.append((trainingSet[x], dist))\n",
    "  \n",
    "    distances.sort(key=operator.itemgetter(1))\n",
    "    \n",
    "    neighbors = []\n",
    "    for x in range(k):\n",
    "        neighbors.append(distances[x])\n",
    " \n",
    "    return neighbors\n",
    "\n",
    "\n",
    "def euclideanDistance(instance1, instance2, length):\n",
    "    distance = 0\n",
    "    for x in range(length):\n",
    "        distance += pow((instance1[x] - instance2[x]), 2)\n",
    "\n",
    "    return math.sqrt(distance)\n",
    " \n",
    "def main():\n",
    "\t\n",
    "    # prepare data\n",
    "    trainingSet = [[1,2,'-'],[2,2,'-'],[3,2,'-'],[4,2,'-'],[1,1,'-'],[2,1,'-'],[3,1,'-'],[4,1,'-']]\n",
    "    testSet = [[2.5,2.5,'-'],[0.7,1,'-']]\n",
    "    #trainingSet = [[1,1,'-'],[2,1,'-'],[3,1,'-'],[1.5,2,'-'],[2.5,2,'-']]\n",
    "    #testSet = [[1.15,1.2,'-'],[2,2.2,'-']]\n",
    "    \n",
    "    k = 4\n",
    "\n",
    "    neighbors_inform=[]\n",
    "    for x in range(len(testSet)):\n",
    "        neighbors = getNeighbors(trainingSet, testSet[x], k)\n",
    "        neighbors=np.array(neighbors)\n",
    "        neighbors_inform.append(neighbors)\n",
    "        \n",
    "    print('neighbors_inform:',neighbors_inform)\n",
    "    \n",
    "    neighbors_dist=np.array(neighbors_inform)[:,:,1]\n",
    "    knn_dist_max=np.max(neighbors_dist,axis=1)\n",
    "    knn_dist_avg=np.mean(neighbors_dist,axis=1)\n",
    "    \n",
    "    print('knn_dist_max:',knn_dist_max)\n",
    "    print('knn_dist_avg:',knn_dist_avg)\n",
    "    \n",
    "\n",
    "main()"
   ]
  },
  {
   "cell_type": "markdown",
   "metadata": {},
   "source": [
    "![title](http://cfile225.uf.daum.net/image/990B5C335A1D713030F7E5)"
   ]
  },
  {
   "cell_type": "markdown",
   "metadata": {},
   "source": [
    "### 2) Mean Distance to the k-th Nearest Neighbor"
   ]
  },
  {
   "cell_type": "markdown",
   "metadata": {},
   "source": [
    "![title](http://cfile227.uf.daum.net/image/99C78A335A1D7131094800)"
   ]
  },
  {
   "cell_type": "code",
   "execution_count": 7,
   "metadata": {},
   "outputs": [
    {
     "name": "stdout",
     "output_type": "stream",
     "text": [
      "center: [2.5, 2.0]\n",
      "center: [1.5, 1.5]\n",
      "knn_dist_mean: [[0.5], [0.9433981132056605]]\n"
     ]
    }
   ],
   "source": [
    "import numpy as np\n",
    "import math\n",
    "import operator\n",
    " \n",
    "\n",
    "def getNeighbors(trainingSet, testInstance, k):\n",
    "    distances = []\n",
    "    length = len(testInstance)-1\n",
    "\n",
    "    for x in range(len(trainingSet)):\n",
    "        dist = euclideanDistance(testInstance, trainingSet[x], length)\n",
    "        distances.append((trainingSet[x], dist))\n",
    "  \n",
    "    distances.sort(key=operator.itemgetter(1))\n",
    "    \n",
    "    neighbors = []\n",
    "    for x in range(k):\n",
    "        neighbors.append(distances[x])\n",
    "    return neighbors\n",
    "\n",
    "\n",
    "def euclideanDistance(instance1, instance2, length):\n",
    "    distance = 0\n",
    "    for x in range(length):\n",
    "        distance += pow((instance1[x] - instance2[x]), 2)\n",
    "    return math.sqrt(distance)\n",
    "\n",
    "\n",
    "def centroid(neighborcoor,k,length):\n",
    "    centro=[]   \n",
    "    for x in range(length):\n",
    "        mean_coor=0\n",
    "        for y in range(k):\n",
    "            mean_coor += neighborcoor[y][x]\n",
    "        centro.append(mean_coor/k)\n",
    "    return centro\n",
    "\n",
    "\n",
    "def meanDistance(neighborcoor,testInstance,k):\n",
    "    meandist = []\n",
    "    length = len(testInstance)-1\n",
    "    center = centroid(neighborcoor,k,length)\n",
    "    print('center:',center)\n",
    "    dist = euclideanDistance(testInstance,center,length)\n",
    "    meandist.append(dist)\n",
    "    return meandist\n",
    "\n",
    "\n",
    "def main():\n",
    "\t\n",
    "    # prepare data\n",
    "    trainingSet = [[1,2,'-'],[2,2,'-'],[3,2,'-'],[4,2,'-'],[1,1,'-'],[2,1,'-'],[3,1,'-'],[4,1,'-']]\n",
    "    testSet = [[2.5,2.5,'-'],[0.7,1,'-']]\n",
    "    #trainingSet = [[1,1,'-'],[2,1,'-'],[3,1,'-'],[1.5,2,'-'],[2.5,2,'-']]\n",
    "    #testSet = [[1.15,1.2,'-'],[2,2.2,'-']]\n",
    "    \n",
    "    k = 4\n",
    "\n",
    "    neighbors_inform=[]\n",
    "    knn_dist_mean=[]\n",
    "    for x in range(len(testSet)):\n",
    "        neighbors = getNeighbors(trainingSet, testSet[x], k)\n",
    "        neighbors=np.array(neighbors)\n",
    "        neighbors_inform.append(neighbors)\n",
    "        \n",
    "        neighborcoordinate = np.array(neighbors)[:,0]\n",
    "        meanDist = meanDistance(neighborcoordinate,testSet[x],k)\n",
    "        knn_dist_mean.append(meanDist)\n",
    "    \n",
    "    print('knn_dist_mean:',knn_dist_mean) \n",
    "\n",
    "    #print('neighbors_inform:',neighbors_inform)\n",
    "    #neighbors_dist=np.array(neighbors_inform)[:,:,1]\n",
    "    #knn_dist_max=np.max(neighbors_dist,axis=1)\n",
    "    #knn_dist_avg=np.mean(neighbors_dist,axis=1)\n",
    "    #print('knn_dist_max:',knn_dist_max)\n",
    "    #print('knn_dist_avg:',knn_dist_avg)\n",
    "    \n",
    "\n",
    "main()"
   ]
  },
  {
   "cell_type": "markdown",
   "metadata": {},
   "source": [
    "![title](http://cfile230.uf.daum.net/image/997F3E335A1D71310F3F11)"
   ]
  },
  {
   "cell_type": "markdown",
   "metadata": {},
   "source": [
    "### 3) Hybrid(Avg+Convex) Distance to the k-th Nearest Neighbor"
   ]
  },
  {
   "cell_type": "markdown",
   "metadata": {},
   "source": [
    "![title](http://cfile235.uf.daum.net/image/99717D335A1D713425C655)"
   ]
  },
  {
   "cell_type": "markdown",
   "metadata": {},
   "source": [
    "![title](http://cfile208.uf.daum.net/image/99D1EB335A1D7131089B8A)"
   ]
  },
  {
   "cell_type": "markdown",
   "metadata": {},
   "source": [
    "======================================================================================================================="
   ]
  },
  {
   "cell_type": "markdown",
   "metadata": {},
   "source": [
    "![title](http://cfile209.uf.daum.net/image/99F206335A1D71321BAB62)"
   ]
  },
  {
   "cell_type": "markdown",
   "metadata": {},
   "source": [
    "======================================================================================================================="
   ]
  },
  {
   "cell_type": "markdown",
   "metadata": {},
   "source": [
    "![title](http://cfile230.uf.daum.net/image/99712B335A1D71332410D7)"
   ]
  },
  {
   "cell_type": "markdown",
   "metadata": {},
   "source": [
    "![title](http://cfile215.uf.daum.net/image/996434335A1D7132110D47)"
   ]
  },
  {
   "cell_type": "markdown",
   "metadata": {},
   "source": [
    "![title](http://cfile215.uf.daum.net/image/99155E335A1D71322D664D)"
   ]
  },
  {
   "cell_type": "code",
   "execution_count": 31,
   "metadata": {},
   "outputs": [
    {
     "data": {
      "image/png": "[encoded data removed]",
      "text/plain": [
       "<matplotlib.figure.Figure at 0x8a6c860>"
      ]
     },
     "metadata": {},
     "output_type": "display_data"
    },
    {
     "name": "stdout",
     "output_type": "stream",
     "text": [
      "ConvexHullPoint: [[-93 -24]\n",
      " [ 33 -99]\n",
      " [ 59 -65]\n",
      " [ 94  33]\n",
      " [-30  57]\n",
      " [-78  45]\n",
      " [-93 -24]]\n"
     ]
    }
   ],
   "source": [
    "import numpy as np\n",
    "from collections import namedtuple \n",
    "import matplotlib.pyplot as plt\n",
    "import random \n",
    "\n",
    "\n",
    "Point = namedtuple('Point', 'x y')\n",
    "\n",
    "class ConvexHull(object):  \n",
    "    _points = []\n",
    "    _hull_points = []\n",
    "\n",
    "    def __init__(self):\n",
    "        pass\n",
    "\n",
    "    def add(self, point):\n",
    "        self._points.append(point)\n",
    "\n",
    "    def _get_orientation(self, origin, p1, p2):\n",
    "        '''\n",
    "        Returns the orientation of the Point p1 with regards to Point p2 using origin.\n",
    "        Negative if p1 is clockwise of p2.\n",
    "        :param p1:\n",
    "        :param p2:\n",
    "        :return: integer\n",
    "        '''\n",
    "        difference = (\n",
    "            ((p2.x - origin.x) * (p1.y - origin.y))\n",
    "            - ((p1.x - origin.x) * (p2.y - origin.y))\n",
    "        )\n",
    "\n",
    "        return difference\n",
    "\n",
    "    def compute_hull(self):\n",
    "        '''\n",
    "        Computes the points that make up the convex hull.\n",
    "        '''\n",
    "        points = self._points\n",
    "\n",
    "        # get leftmost point\n",
    "        start = points[0]\n",
    "        min_x = start.x\n",
    "        for p in points[1:]:\n",
    "            if p.x < min_x:\n",
    "                min_x = p.x\n",
    "                start = p\n",
    "\n",
    "        point = start\n",
    "        self._hull_points.append(start)\n",
    "\n",
    "        far_point = None\n",
    "        while far_point is not start:\n",
    "            \n",
    "            # get the first point (initial max) to use to compare with others\n",
    "            p1 = None\n",
    "            for p in points:\n",
    "                if p is point:\n",
    "                    continue\n",
    "                else:\n",
    "                    p1 = p\n",
    "                    break\n",
    "\n",
    "            far_point = p1\n",
    " \n",
    "            for p2 in points:\n",
    "                # ensure we aren't comparing to self or pivot point\n",
    "                if p2 is point or p2 is p1:\n",
    "                    continue\n",
    "                else:\n",
    "                    direction = self._get_orientation(point, far_point, p2)\n",
    "                    if direction > 0:\n",
    "                        far_point = p2\n",
    "\n",
    "            self._hull_points.append(far_point)\n",
    "            point = far_point\n",
    "\n",
    "\n",
    "    def get_hull_points(self):\n",
    "        if self._points and not self._hull_points:\n",
    "            self.compute_hull()\n",
    "\n",
    "        return self._hull_points\n",
    "\n",
    "    def display(self):\n",
    "        # all points\n",
    "        x = [p.x for p in self._points]\n",
    "        y = [p.y for p in self._points]\n",
    "        plt.plot(x, y, marker='D', linestyle='None')\n",
    "\n",
    "        # hull points\n",
    "        hx = [p.x for p in self._hull_points]\n",
    "        hy = [p.y for p in self._hull_points]\n",
    "        plt.plot(hx, hy)\n",
    "\n",
    "        plt.title('Convex Hull')\n",
    "        plt.show()\n",
    "\n",
    "\n",
    "def main():  \n",
    "    ch = ConvexHull()\n",
    "\n",
    "    for _ in range(10):\n",
    "        ch.add(Point(random.randint(-100, 100), random.randint(-100, 100)))\n",
    "\n",
    "    getConvexHullPoint=np.array(ch.get_hull_points())\n",
    "    ch.display()\n",
    "\n",
    "    print('ConvexHullPoint:',getConvexHullPoint)\n",
    " \n",
    "\n",
    "main()"
   ]
  },
  {
   "cell_type": "markdown",
   "metadata": {},
   "source": [
    "### Convex Hull과의 거리 구하기"
   ]
  },
  {
   "cell_type": "markdown",
   "metadata": {},
   "source": [
    "![title](http://cfile219.uf.daum.net/image/99CEE1335A1D71331C51D4)"
   ]
  },
  {
   "cell_type": "markdown",
   "metadata": {},
   "source": [
    "![title](http://cfile223.uf.daum.net/image/99C38E335A1D713334830D)"
   ]
  },
  {
   "cell_type": "code",
   "execution_count": 33,
   "metadata": {},
   "outputs": [
    {
     "data": {
      "image/png": "[encoded data removed]",
      "text/plain": [
       "<matplotlib.figure.Figure at 0x8ed5c88>"
      ]
     },
     "metadata": {},
     "output_type": "display_data"
    },
    {
     "name": "stdout",
     "output_type": "stream",
     "text": [
      "ConvexHullPoint: [[ 1.   1. ]\n",
      " [ 3.   1. ]\n",
      " [ 2.5  2. ]\n",
      " [ 1.5  2. ]\n",
      " [ 1.   1. ]]\n",
      "pnt2lineset: [[ 0.2         1.56524758  0.87321246  0.04472136]\n",
      " [ 1.2         0.53851648  0.2         0.53851648]]\n",
      "convex_dist: [ 0.04472136  0.2       ]\n",
      "knn_dist_avg: [1.085287961779532 1.0802265663579127]\n",
      "knn_dist_hybrid: [1.1095516945358768 1.1878905819674077]\n"
     ]
    }
   ],
   "source": [
    "import math\n",
    "import numpy as np\n",
    "import operator\n",
    "from collections import namedtuple \n",
    "import matplotlib.pyplot as plt  \n",
    "\n",
    "\n",
    "########### Convex Hull의 좌표 구하기 for ConvexHull Distance #############\n",
    "Point = namedtuple('Point', 'x y')\n",
    "\n",
    "class ConvexHull(object):  \n",
    "\n",
    "    _points = []\n",
    "    _hull_points = []\n",
    "\n",
    "    def __init__(self):\n",
    "        pass\n",
    "\n",
    "    def add(self, point):\n",
    "        self._points.append(point)\n",
    "\n",
    "    def _get_orientation(self, origin, p1, p2):\n",
    "        '''\n",
    "        Returns the orientation of the Point p1 with regards to Point p2 using origin.\n",
    "        Negative if p1 is clockwise of p2.\n",
    "        :param p1:\n",
    "        :param p2:\n",
    "        :return: integer\n",
    "        '''\n",
    "        difference = (\n",
    "            ((p2.x - origin.x) * (p1.y - origin.y))\n",
    "            - ((p1.x - origin.x) * (p2.y - origin.y))\n",
    "        )\n",
    "\n",
    "        return difference\n",
    "\n",
    "    def compute_hull(self):\n",
    "        '''\n",
    "        Computes the points that make up the convex hull.\n",
    "        :return:\n",
    "        '''\n",
    "        points = self._points\n",
    "\n",
    "        # get leftmost point\n",
    "        start = points[0]\n",
    "        min_x = start.x\n",
    "        for p in points[1:]:\n",
    "            if p.x < min_x:\n",
    "                min_x = p.x\n",
    "                start = p\n",
    "\n",
    "        point = start\n",
    "        self._hull_points.append(start)\n",
    "\n",
    "        far_point = None\n",
    "        while far_point is not start:\n",
    "            \n",
    "            # get the first point (initial max) to use to compare with others\n",
    "            p1 = None\n",
    "            for p in points:\n",
    "                if p is point:\n",
    "                    continue\n",
    "                else:\n",
    "                    p1 = p\n",
    "                    break\n",
    "\n",
    "            far_point = p1\n",
    " \n",
    "            for p2 in points:\n",
    "                # ensure we aren't comparing to self or pivot point\n",
    "                if p2 is point or p2 is p1:\n",
    "                    continue\n",
    "                else:\n",
    "                    direction = self._get_orientation(point, far_point, p2)\n",
    "                    if direction > 0:\n",
    "                        far_point = p2\n",
    "\n",
    "\n",
    "            self._hull_points.append(far_point)\n",
    "            point = far_point\n",
    "\n",
    "\n",
    "    def get_hull_points(self):\n",
    "        if self._points and not self._hull_points:\n",
    "            self.compute_hull()\n",
    "\n",
    "        return self._hull_points\n",
    "\n",
    "    def display(self):\n",
    "        # all points\n",
    "        x = [p.x for p in self._points]\n",
    "        y = [p.y for p in self._points]\n",
    "        plt.plot(x, y, marker='D', linestyle='None')\n",
    "\n",
    "        # hull points\n",
    "        hx = [p.x for p in self._hull_points]\n",
    "        hy = [p.y for p in self._hull_points]\n",
    "        plt.plot(hx, hy)\n",
    "\n",
    "        plt.title('Convex Hull')\n",
    "        plt.show()\n",
    "\n",
    "\n",
    "########### Convex Hull까지의 거리 구하기 for ConvexHull Distance #############\n",
    "\n",
    "def pnt2line(pnt, start, end):\n",
    "    line_vec = vector(start, end)\n",
    "    pnt_vec = vector(start, pnt)\n",
    "    line_len = length(line_vec)\n",
    "    line_unitvec = unit(line_vec)\n",
    "    pnt_vec_scaled = scale(pnt_vec, 1.0/line_len)\n",
    "    t = dot(line_unitvec, pnt_vec_scaled)    \n",
    "    if t < 0.0:\n",
    "        t = 0.0\n",
    "    elif t > 1.0:\n",
    "        t = 1.0\n",
    "    nearest = scale(line_vec, t)\n",
    "    dist = distance(nearest, pnt_vec)\n",
    "    nearest = add(nearest, start)\n",
    "    return (dist, nearest)\n",
    "\n",
    "def getconvexdist(arrtestSet,getConvexHullPoint):\n",
    "\n",
    "    pnt2lineset=[]\n",
    "    for i in range(arrtestSet.shape[0]):\n",
    "        for j in range(getConvexHullPoint.shape[0]-1):\n",
    "        #pnt2line(pnt, getConvexHullPoint[i], getConvexHullPoint[i+1])\n",
    "            result=pnt2line(arrtestSet[i], getConvexHullPoint[j], getConvexHullPoint[j+1])\n",
    "            pnt2lineset.append(result[0])\n",
    "\n",
    "    pnt2lineset=np.reshape(pnt2lineset,(arrtestSet.shape[0],getConvexHullPoint.shape[0]-1))\n",
    "    convex_dist=np.min(pnt2lineset,axis=1)\n",
    "    print('pnt2lineset:',pnt2lineset)\n",
    "\n",
    "    return convex_dist\n",
    "\n",
    "def dot(v,w):\n",
    "    x,y = v\n",
    "    X,Y = w\n",
    "    return x*X + y*Y\n",
    "\n",
    "def length(v):\n",
    "    x,y = v\n",
    "    return math.sqrt(x*x + y*y)\n",
    "\n",
    "def vector(b,e):\n",
    "    x,y = b\n",
    "    X,Y = e\n",
    "    return (X-x, Y-y)\n",
    "\n",
    "def unit(v):\n",
    "    x,y = v\n",
    "    mag = length(v)\n",
    "    return (x/mag, y/mag)\n",
    "\n",
    "def distance(p0,p1):\n",
    "    return length(vector(p0,p1))\n",
    "\n",
    "def scale(v,sc):\n",
    "    x,y = v\n",
    "    return (x * sc, y * sc)\n",
    "\n",
    "def add(v,w):\n",
    "    x,y = v\n",
    "    X,Y = w\n",
    "    return (x+X, y+Y)\n",
    "\n",
    "\n",
    "########### KNN Information구하기 for KNN Avg Distance #############\n",
    "\n",
    "def euclideanDistance(instance1, instance2, length):\n",
    "    distance = 0\n",
    "    for x in range(length):\n",
    "        distance += pow((instance1[x] - instance2[x]), 2)\n",
    "    return math.sqrt(distance)\n",
    "\n",
    "def getNeighbors(trainingSet, testInstance, k):\n",
    "    distances = []\n",
    "    length = len(testInstance)-1\n",
    "    for x in range(len(trainingSet)):\n",
    "        dist = euclideanDistance(testInstance, trainingSet[x], length)\n",
    "        distances.append((trainingSet[x], dist))\n",
    "    distances.sort(key=operator.itemgetter(1))\n",
    "    neighbors = []\n",
    "    for x in range(k):\n",
    "        neighbors.append(distances[x])\n",
    "    return neighbors\n",
    "\n",
    "\n",
    "def main():  \n",
    "    ch = ConvexHull()\n",
    "\n",
    "#    trainingSet = [[1,2,'s'],[2,2,'s'],[3,2,'s'],[4,2,'s'],[1,1,'s'],[2,1,'s'],[3,1,'s'],[4,1,'s']]\n",
    "#    testSet = [[2.5,2.5,'a'],[0.7,1,'a']]\n",
    "\n",
    "    trainingSet = [[1,1,'s'],[3,1,'s'],[2,1,'s'],[1.5,2,'s'],[2.5,2,'s']]\n",
    "    testSet = [[1.15,1.2,'a'],[2,2.2,'a']]\n",
    "\n",
    "    arrtrainingSet=np.array(trainingSet)\n",
    "    arrtestSet=np.array(testSet)\n",
    "\n",
    "    arrtrainingSet=arrtrainingSet[:,:-1].astype(np.float)\n",
    "    arrtestSet=arrtestSet[:,:-1].astype(np.float)\n",
    "  \n",
    "    for i in range(arrtrainingSet.shape[0]):\n",
    "        ch.add(Point(arrtrainingSet[i,0], arrtrainingSet[i,1]))\n",
    "\n",
    "#    for _ in range(6):\n",
    "#        ch.add(Point(random.randint(-100, 100), random.randint(-100, 100)))\n",
    "\n",
    "    #print(\"Points on hull:\", ch.get_hull_points())\n",
    "    getConvexHullPoint=np.array(ch.get_hull_points())\n",
    "    ch.display()\n",
    "\n",
    "    print('ConvexHullPoint:',getConvexHullPoint)\n",
    "\n",
    "    convex_dist=getconvexdist(arrtestSet,getConvexHullPoint)\n",
    "\n",
    "    print('convex_dist:',convex_dist)\n",
    "        \n",
    "    k = 5\n",
    "    neighbors_inform=[]\n",
    "    for x in range(len(testSet)):\n",
    "        neighbors = getNeighbors(trainingSet, testSet[x], k)\n",
    "        neighbors_inform.append(neighbors)\n",
    "        \n",
    "    neighbors_dist=np.array(neighbors_inform)[:,:,1]\n",
    "    knn_dist_avg=np.mean(neighbors_dist,axis=1)\n",
    "    \n",
    "    #print('neighbors_dist:',neighbors_dist)\n",
    "    print('knn_dist_avg:',knn_dist_avg)\n",
    "    \n",
    "    knn_dist_hybrid=knn_dist_avg*2/(1+np.exp(-convex_dist))\n",
    "    print('knn_dist_hybrid:',knn_dist_hybrid)\n",
    "    \n",
    "    \n",
    "main()"
   ]
  },
  {
   "cell_type": "markdown",
   "metadata": {},
   "source": [
    "![title](http://cfile232.uf.daum.net/image/99F62F335A1D7133305609)"
   ]
  },
  {
   "cell_type": "code",
   "execution_count": null,
   "metadata": {
    "collapsed": true
   },
   "outputs": [],
   "source": []
  }
 ],
 "metadata": {
  "kernelspec": {
   "display_name": "Python 3",
   "language": "python",
   "name": "python3"
  },
  "language_info": {
   "codemirror_mode": {
    "name": "ipython",
    "version": 3
   },
   "file_extension": ".py",
   "mimetype": "text/x-python",
   "name": "python",
   "nbconvert_exporter": "python",
   "pygments_lexer": "ipython3",
   "version": "3.6.3"
  }
 },
 "nbformat": 4,
 "nbformat_minor": 2
}
