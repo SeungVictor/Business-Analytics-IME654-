{
 "cells": [
  {
   "cell_type": "markdown",
   "metadata": {},
   "source": [
    "# Distance/Reconstruction기반 Novelty Detection"
   ]
  },
  {
   "cell_type": "markdown",
   "metadata": {},
   "source": [
    "![title](http://cfile221.uf.daum.net/image/99E88E335A1A80172E7666)"
   ]
  },
  {
   "cell_type": "markdown",
   "metadata": {},
   "source": [
    "# 2. K-Means clustering-based novelty detection"
   ]
  },
  {
   "cell_type": "markdown",
   "metadata": {},
   "source": [
    "![title](http://cfile236.uf.daum.net/image/9916F9335A1A801420F20B)"
   ]
  },
  {
   "cell_type": "markdown",
   "metadata": {},
   "source": [
    "## 1) K-Means Algorithm"
   ]
  },
  {
   "cell_type": "markdown",
   "metadata": {},
   "source": [
    "![title](http://cfile213.uf.daum.net/image/996C0D335A1A80151872BF)"
   ]
  },
  {
   "cell_type": "markdown",
   "metadata": {},
   "source": [
    "## 2) K-Means Python Code"
   ]
  },
  {
   "cell_type": "markdown",
   "metadata": {},
   "source": [
    "### Data준비"
   ]
  },
  {
   "cell_type": "code",
   "execution_count": 36,
   "metadata": {
    "collapsed": true
   },
   "outputs": [],
   "source": [
    "%matplotlib inline\n",
    "import numpy as np\n",
    "import random\n",
    "import csv\n",
    "import matplotlib.pyplot as plt\n",
    "\n",
    "#파일로 데이터 입력(Column Name없이), 파일명 : ex_kmc.csv\n",
    "def loadDataset(filename, split, trainingSet=[] , testSet=[]):\n",
    "    with open(filename, 'r') as csvfile:\n",
    "        lines = csv.reader(csvfile)\n",
    "        dataset = list(lines)\n",
    "        for x in range(len(dataset)):\n",
    "            for y in range(2):\n",
    "                dataset[x][y] = float(dataset[x][y])\n",
    "            if random.random() < split:\n",
    "                trainingSet.append(dataset[x])\n",
    "            else:\n",
    "                testSet.append(dataset[x])                "
   ]
  },
  {
   "cell_type": "code",
   "execution_count": 43,
   "metadata": {},
   "outputs": [
    {
     "name": "stdout",
     "output_type": "stream",
     "text": [
      "Train set:  1509\n",
      "Test set: 0\n",
      "Train set:  [[1.996251169, 0.931077233, '1'], [-1.298157109, -2.322357985, '1'], [1.844962177, -1.774005487, '1'], [-0.266268692, -1.735327618, '1'], [-2.265353559, -0.367262574, '1'], [-0.089113845, -1.810973134, '1'], [-1.603322368, -1.983500956, '1'], [-2.054007548, -1.846174646, '1'], [1.726899216, 1.417497251, '1'], [1.786822248, 2.201596215, '1']]\n"
     ]
    },
    {
     "data": {
      "image/png": "[encoded data removed]",
      "text/plain": [
       "<matplotlib.figure.Figure at 0x93329b0>"
      ]
     },
     "metadata": {},
     "output_type": "display_data"
    }
   ],
   "source": [
    "def main():\n",
    "    \n",
    "    # prepare data\n",
    "    trainingSet=[]\n",
    "    testSet=[]\n",
    "    split = 1\n",
    "    random.seed(100)\n",
    "    loadDataset('C:/Users/myunghoon/.spyder-py3/ex_kmc.csv', split, trainingSet, testSet)\n",
    "    trainX=np.array(trainingSet)\n",
    "    \n",
    "    #print('Train set: ' ,repr(len(trainingSet)))\n",
    "    #print('Test set: ' + repr(len(testSet)))\n",
    "    #print('Train set: ' ,trainingSet[0:10])\n",
    "    #a=trainX[:,:-1].astype(np.float)\n",
    "    #plt.scatter(a[:,0], a[:,1]);\n",
    "\n",
    "main()"
   ]
  },
  {
   "cell_type": "markdown",
   "metadata": {},
   "source": [
    "### ① 첫번째 Centroid선정"
   ]
  },
  {
   "cell_type": "code",
   "execution_count": 46,
   "metadata": {
    "collapsed": true
   },
   "outputs": [],
   "source": [
    "def kmeans(X,k,maxIt):\n",
    "    numPoints,numDim=X.shape\n",
    "\n",
    "    dataSet=np.zeros((numPoints,numDim+1))\n",
    "    dataSet[:,:-1]=X\n",
    "    centroids=dataSet[np.random.randint(numPoints,size=k),:]\n",
    "    centroids[:,-1]=range(1,k+1)\n",
    "    print(\"centroids:\",centroids)"
   ]
  },
  {
   "cell_type": "markdown",
   "metadata": {},
   "source": [
    "![title](http://cfile218.uf.daum.net/image/99AD71335A1A801512B4D8)"
   ]
  },
  {
   "cell_type": "code",
   "execution_count": 49,
   "metadata": {},
   "outputs": [
    {
     "name": "stdout",
     "output_type": "stream",
     "text": [
      "centroids: [[-0.43298092  2.26309732  1.        ]\n",
      " [-0.35933221 -1.52023601  2.        ]\n",
      " [ 4.29683051  5.96444208  3.        ]]\n"
     ]
    }
   ],
   "source": [
    "def main():\n",
    "    # prepare data\n",
    "    trainingSet=[]\n",
    "    testSet=[]\n",
    "    split = 1\n",
    "    random.seed(100)\n",
    "    loadDataset('C:/Users/myunghoon/.spyder-py3/ex_kmc.csv', split, trainingSet, testSet)\n",
    "    trainX=np.array(trainingSet)\n",
    "\n",
    "    # k=군집개수, max_iter=반복 회수 제한(Hyper parameter)   \n",
    "    k=3\n",
    "    max_iter=100\n",
    "    final_result=kmeans(trainX[:,:-1],k,max_iter)\n",
    "    \n",
    "main()"
   ]
  },
  {
   "cell_type": "markdown",
   "metadata": {},
   "source": [
    "### ② 첫번째 Cluster할당"
   ]
  },
  {
   "cell_type": "code",
   "execution_count": 52,
   "metadata": {
    "collapsed": true
   },
   "outputs": [],
   "source": [
    "def kmeans(X,k,maxIt):\n",
    "    numPoints,numDim=X.shape\n",
    "\n",
    "    dataSet=np.zeros((numPoints,numDim+1))\n",
    "    dataSet[:,:-1]=X\n",
    "    centroids=dataSet[np.random.randint(numPoints,size=k),:]\n",
    "    centroids[:,-1]=range(1,k+1)\n",
    "\n",
    "    iterations=0;\n",
    "    oldCentroids=None\n",
    "    \n",
    "    while not shouldStop(oldCentroids, centroids, iterations, maxIt):\n",
    "        oldCentroids=np.copy(centroids)\n",
    "        iterations+=1\n",
    "        updateLabels(dataSet, centroids)\n",
    "        centroids=getCentroids(dataSet, k)\n",
    "    return dataSet, centroids\n",
    "\n",
    "def shouldStop(oldCentroids,centroids,iterations,maxIt):\n",
    "    if iterations>maxIt:\n",
    "        return True\n",
    "    return np.array_equal(oldCentroids, centroids)"
   ]
  },
  {
   "cell_type": "markdown",
   "metadata": {},
   "source": [
    "1) While not문은 그 구문이 False이면 계속 Looping을 돈다(While과 반대). 즉 ShouldStop에서 True를 Return하면 While문 종료."
   ]
  },
  {
   "cell_type": "markdown",
   "metadata": {},
   "source": [
    "2) np.array_equal(a,b) → a,b가 같으면 True, 다르면 False"
   ]
  },
  {
   "cell_type": "code",
   "execution_count": 53,
   "metadata": {
    "collapsed": true
   },
   "outputs": [],
   "source": [
    "def updateLabels(dataSet,centroids):\n",
    "    numPoints,numDim=dataSet.shape\n",
    "    for i in range(numPoints):\n",
    "        dataSet[i,-1]=getLabelFromClosestCentroid(dataSet[i,:-1], centroids)\n",
    "\n",
    "def getLabelFromClosestCentroid(dataSetRow,centroids):\n",
    "    label=centroids[0,-1]\n",
    "    minDist=np.linalg.norm(dataSetRow-centroids[0,:-1])\n",
    "    for i in range(1,centroids.shape[0]):\n",
    "        dist=np.linalg.norm(dataSetRow-centroids[i,:-1])\n",
    "        if dist<minDist:\n",
    "            minDist=dist\n",
    "            label=centroids[i,-1]\n",
    "            #print(\"label:\"+str(label))\n",
    "    return label"
   ]
  },
  {
   "cell_type": "markdown",
   "metadata": {},
   "source": [
    "![title](http://cfile212.uf.daum.net/image/99B172335A1A801526B9BB)"
   ]
  },
  {
   "cell_type": "markdown",
   "metadata": {},
   "source": [
    "### ③ Centroid의 새 좌표 구하기"
   ]
  },
  {
   "cell_type": "code",
   "execution_count": 54,
   "metadata": {
    "collapsed": true
   },
   "outputs": [],
   "source": [
    "def getCentroids(dataSet,k):       \n",
    "    result=np.zeros((k,dataSet.shape[1]))\n",
    "    #print(\"result:\",result)\n",
    "    for i in range(1,k+1):\n",
    "        oneCluster=dataSet[dataSet[:,-1]==i,:-1]\n",
    "        #print(\"cluster:\",oneCluster)\n",
    "        result[i-1,:-1]=np.mean(oneCluster,axis=0)\n",
    "        result[i-1,-1]=i\n",
    "    #print(\"result:\",result)\n",
    "    return result"
   ]
  },
  {
   "cell_type": "markdown",
   "metadata": {},
   "source": [
    "![title](http://cfile229.uf.daum.net/image/990481335A1A801636C33F)"
   ]
  },
  {
   "cell_type": "markdown",
   "metadata": {},
   "source": [
    "### ④ 더 이상 군집의 Centroid가 변경되지 않을 때까지 iteration"
   ]
  },
  {
   "cell_type": "code",
   "execution_count": 57,
   "metadata": {
    "collapsed": true
   },
   "outputs": [],
   "source": [
    "def shouldStop(oldCentroids,centroids,iterations,maxIt):\n",
    "    if iterations>maxIt:\n",
    "        return True\n",
    "    return np.array_equal(oldCentroids, centroids)"
   ]
  },
  {
   "cell_type": "markdown",
   "metadata": {},
   "source": [
    "### ⑤ Novelty Score (최근접 군집 Centroid와의 거리)"
   ]
  },
  {
   "cell_type": "code",
   "execution_count": 59,
   "metadata": {
    "collapsed": true
   },
   "outputs": [],
   "source": [
    "def getNoveltyScore(dataSetRow,centroids,k):\n",
    "    minDist=[]    \n",
    "    for i in range(k):\n",
    "        Dist=np.linalg.norm(dataSetRow[:,:-1]-centroids[i,:-1],axis=1)   \n",
    "        minDist.append(Dist)        \n",
    "    NoveltyScore=np.min(minDist,axis=0)\n",
    "    #print(NoveltyScore)\n",
    "    return NoveltyScore"
   ]
  },
  {
   "cell_type": "markdown",
   "metadata": {},
   "source": [
    "![title](http://cfile209.uf.daum.net/image/999865335A1A8016152D17)"
   ]
  },
  {
   "cell_type": "markdown",
   "metadata": {},
   "source": [
    "### K-Means결과"
   ]
  },
  {
   "cell_type": "code",
   "execution_count": 65,
   "metadata": {},
   "outputs": [
    {
     "name": "stdout",
     "output_type": "stream",
     "text": [
      "final cluster: [[ 1.99625117  0.93107723  2.        ]\n",
      " [-1.29815711 -2.32235799  2.        ]\n",
      " [ 1.84496218 -1.77400549  2.        ]\n",
      " ..., \n",
      " [ 3.          0.          2.        ]\n",
      " [ 4.         -1.8         2.        ]\n",
      " [ 5.7         2.          1.        ]]\n",
      "final centroid: [[ 4.34440535  4.42479706  1.        ]\n",
      " [ 0.04940347 -0.09926152  2.        ]\n",
      " [-6.49875619  3.46631533  3.        ]]\n",
      "Novelty Score: [ 2.20268334  2.59963025  2.45536116 ...,  2.95226569  4.30113058\n",
      "  2.77799885]\n"
     ]
    },
    {
     "data": {
      "image/png": "[encoded data removed]",
      "text/plain": [
       "<matplotlib.figure.Figure at 0xb5d80b8>"
      ]
     },
     "metadata": {},
     "output_type": "display_data"
    }
   ],
   "source": [
    "def main():\n",
    "    # prepare data\n",
    "    trainingSet=[]\n",
    "    testSet=[]\n",
    "    split = 1\n",
    "    random.seed(100)\n",
    "    loadDataset('C:/Users/myunghoon/.spyder-py3/ex_kmc.csv', split, trainingSet, testSet)\n",
    "    trainX=np.array(trainingSet)\n",
    "    \n",
    "    #print('Train set: ' ,repr(len(trainingSet)))\n",
    "    #print('Test set: ' + repr(len(testSet)))\n",
    "    #print('Train set: ' ,trainingSet[0:10])\n",
    "    #a=trainX[:,:-1].astype(np.float)\n",
    "    #plt.scatter(a[:,0], a[:,1]);\n",
    "    \n",
    "    # k=군집개수, max_iter=반복 회수 제한(Hyper parameter)   \n",
    "    k=3\n",
    "    max_iter=100\n",
    "    final_result=kmeans(trainX[:,:-1],k,max_iter)\n",
    "    \n",
    "    kmeans_result=final_result[0]\n",
    "    centroid_result=final_result[1]\n",
    "    Score=getNoveltyScore(kmeans_result,centroid_result,k)\n",
    "    \n",
    "    print('final cluster:',kmeans_result)\n",
    "    print('final centroid:',centroid_result)\n",
    "    print('Novelty Score:',Score)\n",
    "    \n",
    "    x=kmeans_result[:,0]\n",
    "    y=kmeans_result[:,1]\n",
    "    colors=kmeans_result[:,2]\n",
    "    \n",
    "    plt.scatter(x, y, s=(Score**3)*3, c=colors);\n",
    "\n",
    "main()"
   ]
  },
  {
   "cell_type": "markdown",
   "metadata": {},
   "source": [
    "## 3) Computing시간 비교 (매뉴얼 vs 패키지)"
   ]
  },
  {
   "cell_type": "markdown",
   "metadata": {},
   "source": [
    "매뉴얼 : 0.12초, 패키지 : 0.07초"
   ]
  },
  {
   "cell_type": "markdown",
   "metadata": {
    "collapsed": true
   },
   "source": [
    "## 4) Relative Distance기반 K-Means"
   ]
  },
  {
   "cell_type": "markdown",
   "metadata": {
    "collapsed": true
   },
   "source": [
    "![title](http://cfile234.uf.daum.net/image/992A00335A1A8016094C6B)"
   ]
  },
  {
   "cell_type": "markdown",
   "metadata": {},
   "source": [
    "### 문제점"
   ]
  },
  {
   "cell_type": "markdown",
   "metadata": {},
   "source": [
    "![title](http://cfile218.uf.daum.net/image/9956E4335A1A80162F49C8)"
   ]
  },
  {
   "cell_type": "markdown",
   "metadata": {},
   "source": [
    "### Relative Distance기반 K-Means Python Code"
   ]
  },
  {
   "cell_type": "markdown",
   "metadata": {},
   "source": [
    "    #############Outlier제거##############\n",
    "    \n",
    "    outlier_percentage=0.98\n",
    "    Distsorting=np.argsort(Score)\n",
    "    outlier_point=int(Distsorting.shape[0]*outlier_percentage)    \n",
    "    cutoff_index=Distsorting[0:outlier_point]\n",
    "    trainX=trainX[cutoff_index]    \n",
    "    \n",
    "    ######################################\n",
    "    \n"
   ]
  },
  {
   "cell_type": "markdown",
   "metadata": {},
   "source": [
    "    \n",
    "    \n",
    "    ######## Relative Novelty Score #######\n",
    "    \n",
    "    def getModNoveltyScore(kmeans_result,centroid_result,maxDist,k):\n",
    "    minDist=[]\n",
    "    countcluster=[]    \n",
    "    for i in range(k):\n",
    "        Dist=np.linalg.norm(kmeans_result[:,:-1]-centroid_result[i,:-1],axis=1)\n",
    "        minDist.append(Dist)\n",
    "        count=np.sum(kmeans_result[:,-1]==i+1)\n",
    "        countcluster.append(count)           \n",
    "\n",
    "    NoveltyScore=np.min(minDist,axis=0)\n",
    "    weight=(countcluster/np.min(countcluster))/maxDist\n",
    "    scale_weight=weight/np.min(weight)\n",
    "    mod_NoveltyScore = NoveltyScore*np.repeat(scale_weight,countcluster,axis=0)\n",
    "\n",
    "    #print(np.repeat(scale_weight,countcluster,axis=0))\n",
    "    #print(countcluster)\n",
    "    #print(np.min(countcluster))\n",
    "    #print(scale_weight)\n",
    "    #print(minDist)\n",
    "    #print(MaxDist)\n",
    "    #print(NoveltyScore)\n",
    "   \n",
    "    return mod_NoveltyScore"
   ]
  },
  {
   "cell_type": "markdown",
   "metadata": {},
   "source": [
    "![title](http://cfile237.uf.daum.net/image/99BA1F335A1A8017265ABF)"
   ]
  },
  {
   "cell_type": "markdown",
   "metadata": {},
   "source": [
    "### Absolute Distance기반 K-Means결과"
   ]
  },
  {
   "cell_type": "code",
   "execution_count": 9,
   "metadata": {},
   "outputs": [
    {
     "data": {
      "image/png": "[encoded data removed]",
      "text/plain": [
       "<matplotlib.figure.Figure at 0x8dc19b0>"
      ]
     },
     "metadata": {},
     "output_type": "display_data"
    }
   ],
   "source": [
    "import numpy as np\n",
    "import random\n",
    "import csv\n",
    "import matplotlib.pyplot as plt\n",
    "\n",
    "#파일로 데이터 입력(Column Name없이), 파일명 : ex_kmc.csv\n",
    "def loadDataset(filename, split, trainingSet=[] , testSet=[]):\n",
    "    with open(filename, 'r') as csvfile:\n",
    "        lines = csv.reader(csvfile)\n",
    "        dataset = list(lines)\n",
    "        for x in range(len(dataset)):\n",
    "            for y in range(2):\n",
    "                dataset[x][y] = float(dataset[x][y])\n",
    "            if random.random() < split:\n",
    "                trainingSet.append(dataset[x])\n",
    "            else:\n",
    "                testSet.append(dataset[x])  \n",
    "  \n",
    "       \n",
    "def kmeans(X,k,maxIt):\n",
    "    numPoints,numDim=X.shape\n",
    "\n",
    "    dataSet=np.zeros((numPoints,numDim+1))\n",
    "    dataSet[:,:-1]=X\n",
    "    centroids=dataSet[np.random.randint(numPoints,size=k),:]\n",
    "    centroids[:,-1]=range(1,k+1)\n",
    "    #print(\"centroids:\",centroids)\n",
    "\n",
    "    iterations=0;\n",
    "    oldCentroids=None\n",
    "    while not shouldStop(oldCentroids, centroids, iterations, maxIt):\n",
    "        oldCentroids=np.copy(centroids)\n",
    "        iterations+=1\n",
    "        updateLabels(dataSet, centroids)\n",
    "        centroids=getCentroids(dataSet, k)\n",
    "    return dataSet, centroids\n",
    "\n",
    "def shouldStop(oldCentroids,centroids,iterations,maxIt):\n",
    "    if iterations>maxIt:\n",
    "        return True\n",
    "    return np.array_equal(oldCentroids, centroids)\n",
    "\n",
    "def updateLabels(dataSet,centroids):\n",
    "    numPoints,numDim=dataSet.shape\n",
    "    for i in range(numPoints):\n",
    "        dataSet[i,-1]=getLabelFromClosestCentroid(dataSet[i,:-1], centroids)\n",
    "\n",
    "def getLabelFromClosestCentroid(dataSetRow,centroids):\n",
    "    label=centroids[0,-1]\n",
    "    minDist=np.linalg.norm(dataSetRow-centroids[0,:-1])\n",
    "    for i in range(1,centroids.shape[0]):\n",
    "        dist=np.linalg.norm(dataSetRow-centroids[i,:-1])\n",
    "        if dist<minDist:\n",
    "            minDist=dist\n",
    "            label=centroids[i,-1]\n",
    "            #print(\"label:\"+str(label))\n",
    "    return label\n",
    "\n",
    "def getCentroids(dataSet,k):       \n",
    "    result=np.zeros((k,dataSet.shape[1]))\n",
    "    #print(\"result:\",result)\n",
    "    for i in range(1,k+1):\n",
    "        oneCluster=dataSet[dataSet[:,-1]==i,:-1]\n",
    "        #print(\"cluster:\",oneCluster)\n",
    "        result[i-1,:-1]=np.mean(oneCluster,axis=0)\n",
    "        result[i-1,-1]=i\n",
    "    #print(\"result:\",result)\n",
    "    return result\n",
    "\n",
    "def getNoveltyScore(dataSetRow,centroids,k):\n",
    "    minDist=[]    \n",
    "    for i in range(k):\n",
    "        Dist=np.linalg.norm(dataSetRow[:,:-1]-centroids[i,:-1],axis=1)   \n",
    "        minDist.append(Dist)        \n",
    "    NoveltyScore=np.min(minDist,axis=0)\n",
    "    #print(minDist)\n",
    "    #print(NoveltyScore)\n",
    "    return NoveltyScore\n",
    "\n",
    "\n",
    "def main():\n",
    "    # prepare data\n",
    "    trainingSet=[]\n",
    "    testSet=[]\n",
    "    split = 1\n",
    "    random.seed(100)\n",
    "    loadDataset('C:/Users/myunghoon/.spyder-py3/ex_kmc2.csv', split, trainingSet, testSet)\n",
    "    trainX=np.array(trainingSet)\n",
    "    \n",
    "    #print('Train set: ' ,repr(len(trainingSet)))\n",
    "    #print('Test set: ' + repr(len(testSet)))\n",
    "    #print('Train set: ' ,trainingSet[0:10])\n",
    "    #a=trainX[:,:-1].astype(np.float)\n",
    "    #plt.scatter(a[:,0], a[:,1]);\n",
    "    \n",
    "    # k=군집개수, max_iter=반복 회수 제한(Hyper parameter)   \n",
    "    k=2\n",
    "    max_iter=100\n",
    "    final_result=kmeans(trainX[:,:-1],k,max_iter)\n",
    "    \n",
    "    kmeans_result=final_result[0]\n",
    "    centroid_result=final_result[1]\n",
    "    Score=getNoveltyScore(kmeans_result,centroid_result,k)\n",
    "    \n",
    "    #print('final cluster:',kmeans_result)\n",
    "    #print('final centroid:',centroid_result)\n",
    "    #print('Novelty Score:',Score)\n",
    "    \n",
    "    x=kmeans_result[:,0]\n",
    "    y=kmeans_result[:,1]\n",
    "    colors=kmeans_result[:,2]\n",
    "    \n",
    "    plt.figure(figsize=(7, 3), dpi=80)\n",
    "    plt.scatter(x, y, s=(Score**3)*3, c=colors);\n",
    "    plt.xticks(np.arange(-1,8,2))\n",
    "    plt.yticks(np.arange(-1.5,1.6,0.5))\n",
    "\n",
    "main()"
   ]
  },
  {
   "cell_type": "markdown",
   "metadata": {},
   "source": [
    "### Relative Distance기반 K-Means결과"
   ]
  },
  {
   "cell_type": "code",
   "execution_count": 5,
   "metadata": {},
   "outputs": [
    {
     "name": "stdout",
     "output_type": "stream",
     "text": [
      "final centroid: [[ 0.48733998  0.00989431  1.        ]\n",
      " [ 7.46097362  0.03209544  2.        ]]\n",
      "maxDist: [2.5126795004093165, 2.4611828995070066]\n",
      "Novelty Score: [ 0.27186787  0.36520021  0.47976108 ...,  0.21707354  0.15544183\n",
      "  2.4611829 ]\n",
      "final centroid_second: [[ 7.46139575  0.04082411  1.        ]\n",
      " [ 0.48363293  0.01017577  2.        ]]\n",
      "maxDist_second: [0.62676173782119826, 0.62560938481177608]\n",
      "Relative Novelty Score: [ 1.34983468  1.83382907  2.40236033 ...,  0.21994149  0.15300334\n",
      "  2.46173427]\n"
     ]
    },
    {
     "data": {
      "image/png": "[encoded data removed]",
      "text/plain": [
       "<matplotlib.figure.Figure at 0x6b2f438>"
      ]
     },
     "metadata": {},
     "output_type": "display_data"
    }
   ],
   "source": [
    "%matplotlib inline\n",
    "import numpy as np\n",
    "import random\n",
    "import csv\n",
    "import matplotlib.pyplot as plt\n",
    "\n",
    "\n",
    "#파일로 데이터 입력(Column Name없이), 파일명 : ex_kmc.csv\n",
    "def loadDataset(filename, split, trainingSet=[] , testSet=[]):\n",
    "    with open(filename, 'r') as csvfile:\n",
    "        lines = csv.reader(csvfile)\n",
    "        dataset = list(lines)\n",
    "        for x in range(len(dataset)):\n",
    "            for y in range(2):\n",
    "                dataset[x][y] = float(dataset[x][y])\n",
    "            if random.random() < split:\n",
    "                trainingSet.append(dataset[x])\n",
    "            else:\n",
    "                testSet.append(dataset[x])  \n",
    "  \n",
    "         \n",
    "def kmeans(X,k,maxIt):\n",
    "    numPoints,numDim=X.shape\n",
    "\n",
    "    dataSet=np.zeros((numPoints,numDim+1))\n",
    "    dataSet[:,:-1]=X\n",
    "    centroids=dataSet[np.random.randint(numPoints,size=k),:]\n",
    "    centroids[:,-1]=range(1,k+1)\n",
    "    #print(\"centroids:\",centroids)\n",
    "\n",
    "    iterations=0;\n",
    "    oldCentroids=None\n",
    "    while not shouldStop(oldCentroids, centroids, iterations, maxIt):\n",
    "        oldCentroids=np.copy(centroids)\n",
    "        iterations+=1\n",
    "        updateLabels(dataSet, centroids)\n",
    "        centroids=getCentroids(dataSet, k)\n",
    "    return dataSet, centroids\n",
    "\n",
    "\n",
    "def shouldStop(oldCentroids,centroids,iterations,maxIt):\n",
    "    if iterations>maxIt:\n",
    "        return True\n",
    "    return np.array_equal(oldCentroids, centroids)\n",
    "\n",
    "def updateLabels(dataSet,centroids):\n",
    "    numPoints,numDim=dataSet.shape\n",
    "    for i in range(numPoints):\n",
    "        dataSet[i,-1]=getLabelFromClosestCentroid(dataSet[i,:-1], centroids)\n",
    "\n",
    "def getLabelFromClosestCentroid(dataSetRow,centroids):\n",
    "    label=centroids[0,-1]\n",
    "    minDist=np.linalg.norm(dataSetRow-centroids[0,:-1])\n",
    "    for i in range(1,centroids.shape[0]):\n",
    "        dist=np.linalg.norm(dataSetRow-centroids[i,:-1])\n",
    "        if dist<minDist:\n",
    "            minDist=dist\n",
    "            label=centroids[i,-1]\n",
    "            #print(\"label:\"+str(label))\n",
    "    return label\n",
    "\n",
    "\n",
    "def getCentroids(dataSet,k):       \n",
    "    result=np.zeros((k,dataSet.shape[1]))\n",
    "    #print(\"result:\",result)\n",
    "    for i in range(1,k+1):\n",
    "        oneCluster=dataSet[dataSet[:,-1]==i,:-1]\n",
    "        #print(\"cluster:\",oneCluster)\n",
    "        result[i-1,:-1]=np.mean(oneCluster,axis=0)\n",
    "        result[i-1,-1]=i\n",
    "    #print(\"result:\",result)\n",
    "    return result\n",
    "\n",
    "\n",
    "def getNoveltyScore(dataSetRow,centroids,k):\n",
    "    minDist=[]  \n",
    "    maxDist=[]\n",
    "    for i in range(k):\n",
    "        Dist=np.linalg.norm(dataSetRow[:,:-1]-centroids[i,:-1],axis=1)   \n",
    "        minDist.append(Dist)     \n",
    "    \n",
    "    NoveltyScore=np.min(minDist,axis=0)\n",
    "    min_index=np.argmin(minDist,axis=0)\n",
    "    \n",
    "    for i in range(k):\n",
    "        clusterDist=NoveltyScore[np.where(min_index==i)]   \n",
    "        maxDist.append(np.max(clusterDist))\n",
    "    \n",
    "#    a=centroids[min_index,-1]\n",
    "#    print(a)\n",
    "    #print(NoveltyScore)\n",
    "    return NoveltyScore,maxDist\n",
    "\n",
    "\n",
    "def getModNoveltyScore(kmeans_result,centroid_result,maxDist,k):\n",
    "    minDist=[]\n",
    "    countcluster=[]    \n",
    "    for i in range(k):\n",
    "        Dist=np.linalg.norm(kmeans_result[:,:-1]-centroid_result[i,:-1],axis=1)\n",
    "        minDist.append(Dist)\n",
    "        count=np.sum(kmeans_result[:,-1]==i+1)\n",
    "        countcluster.append(count)           \n",
    "\n",
    "    NoveltyScore=np.min(minDist,axis=0)\n",
    "    weight=(countcluster/np.min(countcluster))/maxDist\n",
    "    scale_weight=weight/np.min(weight)\n",
    "    mod_NoveltyScore = NoveltyScore*np.repeat(scale_weight,countcluster,axis=0)\n",
    "\n",
    "#    print(np.repeat(scale_weight,countcluster,axis=0))\n",
    "#    print(countcluster)\n",
    "#    print(np.min(countcluster))\n",
    "#    print(scale_weight)\n",
    "#    print(minDist)\n",
    "#    print(MaxDist)\n",
    "#    print(NoveltyScore)\n",
    "   \n",
    "    return mod_NoveltyScore\n",
    "\n",
    "\n",
    "def main():\n",
    "    # prepare data\n",
    "    trainingSet=[]\n",
    "    testSet=[]\n",
    "    split = 1\n",
    "    random.seed(100)\n",
    "    loadDataset('C:/Users/myunghoon/.spyder-py3/ex_kmc2.csv', split, trainingSet, testSet)\n",
    "    trainX=np.array(trainingSet)\n",
    "    \n",
    "    #print('Train set: ' ,repr(len(trainingSet)))\n",
    "    #print('Test set: ' + repr(len(testSet)))\n",
    "    #print('Train set: ' ,trainingSet[0:10])\n",
    "    #a=trainX[:,:-1].astype(np.float)\n",
    "    #plt.scatter(a[:,0], a[:,1]);\n",
    "    \n",
    "    # k=군집개수, max_iter=반복 회수 제한(Hyper parameter)   \n",
    "    k=2\n",
    "    max_iter=100\n",
    "    final_result=kmeans(trainX[:,:-1],k,max_iter)\n",
    "\n",
    "    kmeans_result=final_result[0]\n",
    "    centroid_result=final_result[1]\n",
    "    \n",
    "    NoveltyScore_result=getNoveltyScore(kmeans_result,centroid_result,k)  \n",
    "    Score=NoveltyScore_result[0]\n",
    "    maxDist=NoveltyScore_result[1]\n",
    "    \n",
    "    print('final centroid:',centroid_result)\n",
    "    print('maxDist:',maxDist)\n",
    "    print('Novelty Score:',Score)\n",
    "\n",
    "\n",
    "    #Outlier제거\n",
    "    outlier_percentage=0.98\n",
    "    Distsorting=np.argsort(Score)\n",
    "    outlier_point=int(Distsorting.shape[0]*outlier_percentage)    \n",
    "    cutoff_index=Distsorting[0:outlier_point]\n",
    "    trainX=trainX[cutoff_index]\n",
    "    \n",
    "    #두번째 K-Means (새로운 Centroid와 군집의 크기(MaxDist)를 구함)\n",
    "    final_result_second=kmeans(trainX[:,:-1],k,max_iter)\n",
    "    kmeans_result_second=final_result_second[0]\n",
    "    centroid_result_second=final_result_second[1]\n",
    "    \n",
    "    NoveltyScore_result_second=getNoveltyScore(kmeans_result_second,centroid_result_second,k)  \n",
    "#    Score_second=NoveltyScore_result_second[0]\n",
    "    maxDist_second=NoveltyScore_result_second[1]\n",
    "\n",
    "    #Relative Distance기반의 Novelty Score    \n",
    "    RelativeScore=getModNoveltyScore(kmeans_result,centroid_result_second,maxDist_second,k)\n",
    "\n",
    "    print('final centroid_second:',centroid_result_second)\n",
    "    print('maxDist_second:',maxDist_second)\n",
    "    print('Relative Novelty Score:',RelativeScore)    \n",
    "   \n",
    "    x=kmeans_result[:,0]\n",
    "    y=kmeans_result[:,1]\n",
    "    colors=kmeans_result[:,2]\n",
    "    \n",
    "    plt.figure(figsize=(7, 3), dpi=80)\n",
    "    plt.scatter(x, y, s=(RelativeScore**2)*5, c=colors,alpha=0.5);\n",
    "    plt.xticks(np.arange(-1,8,2))\n",
    "    plt.yticks(np.arange(-1.5,1.6,0.5))\n",
    "    \n",
    "main()\n"
   ]
  },
  {
   "cell_type": "code",
   "execution_count": null,
   "metadata": {
    "collapsed": true
   },
   "outputs": [],
   "source": []
  }
 ],
 "metadata": {
  "kernelspec": {
   "display_name": "Python 3",
   "language": "python",
   "name": "python3"
  },
  "language_info": {
   "codemirror_mode": {
    "name": "ipython",
    "version": 3
   },
   "file_extension": ".py",
   "mimetype": "text/x-python",
   "name": "python",
   "nbconvert_exporter": "python",
   "pygments_lexer": "ipython3",
   "version": "3.6.3"
  }
 },
 "nbformat": 4,
 "nbformat_minor": 2
}
