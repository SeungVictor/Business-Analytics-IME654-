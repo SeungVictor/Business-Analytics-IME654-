{
 "cells": [
  {
   "cell_type": "markdown",
   "metadata": {},
   "source": [
    "![grammatrix](./img/gram.png)"
   ]
  },
  {
   "cell_type": "code",
   "execution_count": 5,
   "metadata": {
    "collapsed": true
   },
   "outputs": [],
   "source": [
    "from BA_kernel_function import polynomial_kernel\n",
    "from BA_kernel_function import linear_kernel\n",
    "from BA_kernel_function import rbf_kernel\n",
    "\n",
    "import numpy as np\n",
    "\n",
    "def kernel_matrix(X, kernel, coef0=1.0, degree=3, gamma=0.1):\n",
    "    X = np.array(X,dtype=np.float64)\n",
    "    mat = []\n",
    "    for i in X:\n",
    "        row = []\n",
    "        for j in X:\n",
    "            if kernel=='poly':\n",
    "                row.append(polynomial_kernel(i,j,coef0,degree))\n",
    "            elif kernel=='linear':\n",
    "                row.append(linear_kernel(i,j,coef0))\n",
    "            elif kernel=='rbf':\n",
    "                row.append(rbf_kernel(i,j,gamma))\n",
    "            else:\n",
    "                row.append(np.dot(i,j))\n",
    "        mat.append(row)\n",
    "    return mat"
   ]
  }
 ],
 "metadata": {
  "kernelspec": {
   "display_name": "Python 3",
   "language": "python",
   "name": "python3"
  },
  "language_info": {
   "codemirror_mode": {
    "name": "ipython",
    "version": 3
   },
   "file_extension": ".py",
   "mimetype": "text/x-python",
   "name": "python",
   "nbconvert_exporter": "python",
   "pygments_lexer": "ipython3",
   "version": "3.6.1"
  }
 },
 "nbformat": 4,
 "nbformat_minor": 2
}
