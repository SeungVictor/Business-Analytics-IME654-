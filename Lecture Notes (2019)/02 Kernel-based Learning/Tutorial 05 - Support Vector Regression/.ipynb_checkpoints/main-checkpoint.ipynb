{
 "cells": [
  {
   "cell_type": "code",
   "execution_count": 28,
   "metadata": {
    "collapsed": true
   },
   "outputs": [],
   "source": [
    "%matplotlib inline\n",
    "import matplotlib.pyplot as plt\n",
    "import numpy as np\n",
    "from sklearn import datasets\n",
    "from sklearn.metrics import mean_squared_error, r2_score\n",
    "\n",
    "from BA_SVR import svr_mj\n",
    "from sklearn.svm import SVR"
   ]
  },
  {
   "cell_type": "code",
   "execution_count": 16,
   "metadata": {},
   "outputs": [
    {
     "name": "stdout",
     "output_type": "stream",
     "text": [
      "X.shape:  (442, 10)\n"
     ]
    }
   ],
   "source": [
    "# Load the diabetes dataset\n",
    "diabetes = datasets.load_diabetes()\n",
    "X = diabetes.data\n",
    "y = diabetes.target\n",
    "\n",
    "X /= X.std(axis=0)\n",
    "print('X.shape: ',X.shape)"
   ]
  },
  {
   "cell_type": "code",
   "execution_count": 17,
   "metadata": {
    "collapsed": true
   },
   "outputs": [],
   "source": [
    "# Split the data into training/testing sets\n",
    "diabetes_X_train = X[:-20]\n",
    "diabetes_X_test = X[-20:]\n",
    "\n",
    "# Split the targets into training/testing sets\n",
    "diabetes_y_train = y[:-20]\n",
    "diabetes_y_test = y[-20:]"
   ]
  },
  {
   "cell_type": "code",
   "execution_count": 34,
   "metadata": {
    "collapsed": true
   },
   "outputs": [],
   "source": [
    "svr = svr_mj(loss='epsilon-insesitive',kernel='rbf',C=1.0,epsilon=0.001,gamma=10)\n",
    "svr.fit(diabetes_X_train,diabetes_y_train)\n",
    "pred = svr.predict(diabetes_X_test)"
   ]
  },
  {
   "cell_type": "code",
   "execution_count": 35,
   "metadata": {},
   "outputs": [
    {
     "name": "stdout",
     "output_type": "stream",
     "text": [
      "mse:  5397.55234757\n",
      "r2:  -0.117237340012\n"
     ]
    }
   ],
   "source": [
    "mse = mean_squared_error(diabetes_y_test,pred)\n",
    "r2 = r2_score(diabetes_y_test,pred)\n",
    "print('mse: ',mse)\n",
    "print('r2: ',r2)"
   ]
  },
  {
   "cell_type": "code",
   "execution_count": 36,
   "metadata": {},
   "outputs": [
    {
     "name": "stdout",
     "output_type": "stream",
     "text": [
      "mse:  5063.0614436\n",
      "r2:  -0.0480011930044\n"
     ]
    }
   ],
   "source": [
    "svr_sklearn = SVR(kernel='rbf',C=1.0,epsilon=0.001,gamma=10)\n",
    "svr_sklearn.fit(diabetes_X_train,diabetes_y_train)\n",
    "pred_sklearn = svr_sklearn.predict(diabetes_X_test)\n",
    "\n",
    "mse_sklearn = mean_squared_error(diabetes_y_test,pred_sklearn)\n",
    "r2_sklearn = r2_score(diabetes_y_test,pred_sklearn)\n",
    "print('mse: ',mse_sklearn)\n",
    "print('r2: ',r2_sklearn)"
   ]
  }
 ],
 "metadata": {
  "kernelspec": {
   "display_name": "Python 3",
   "language": "python",
   "name": "python3"
  },
  "language_info": {
   "codemirror_mode": {
    "name": "ipython",
    "version": 3
   },
   "file_extension": ".py",
   "mimetype": "text/x-python",
   "name": "python",
   "nbconvert_exporter": "python",
   "pygments_lexer": "ipython3",
   "version": "3.6.1"
  }
 },
 "nbformat": 4,
 "nbformat_minor": 2
}
