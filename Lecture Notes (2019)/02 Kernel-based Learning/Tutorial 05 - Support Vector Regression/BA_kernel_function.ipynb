{
 "cells": [
  {
   "cell_type": "code",
   "execution_count": 2,
   "metadata": {
    "collapsed": true
   },
   "outputs": [],
   "source": [
    "import numpy as np\n",
    "\n",
    "    \n",
    "def linear_kernel(x1,x2,coef0=1.0):\n",
    "    return np.dot(x1,x2)+coef0\n",
    "\n",
    "def polynomial_kernel(x1,x2,coef0=1.0,degree=3):\n",
    "    return (np.dot(x1,x2)+coef0)**degree\n",
    "\n",
    "def rbf_kernel(x1,x2,gamma=0.1):\n",
    "    return np.exp(-gamma*np.linalg.norm(x1-x2)**2)\n",
    "\n",
    "def kernel_f(x1,x2,kernel = None,coef0=1.0,degree=3,gamma=0.1):\n",
    "    if kernel == 'linear':\n",
    "        result = np.dot(x1,x2)+coef0\n",
    "    elif kernel == 'poly':\n",
    "        result = (np.dot(x1,x2)+coef0)**degree\n",
    "    elif kernel == 'rbf':\n",
    "        result = np.exp(-gamma*np.linalg.norm(x1-x2)**2)\n",
    "    else:\n",
    "        result = np.dot(x1,x2)\n",
    "    \n",
    "    return result"
   ]
  }
 ],
 "metadata": {
  "kernelspec": {
   "display_name": "Python 3",
   "language": "python",
   "name": "python3"
  },
  "language_info": {
   "codemirror_mode": {
    "name": "ipython",
    "version": 3
   },
   "file_extension": ".py",
   "mimetype": "text/x-python",
   "name": "python",
   "nbconvert_exporter": "python",
   "pygments_lexer": "ipython3",
   "version": "3.6.1"
  }
 },
 "nbformat": 4,
 "nbformat_minor": 2
}
