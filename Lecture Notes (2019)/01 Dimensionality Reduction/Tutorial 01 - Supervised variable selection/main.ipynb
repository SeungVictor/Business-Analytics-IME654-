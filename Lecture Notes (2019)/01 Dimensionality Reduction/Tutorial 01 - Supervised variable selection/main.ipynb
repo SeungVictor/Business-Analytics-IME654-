{
 "cells": [
  {
   "cell_type": "code",
   "execution_count": 1,
   "metadata": {
    "collapsed": true
   },
   "outputs": [],
   "source": [
    "#################################### Forward, Backward, Stepwise #######################################\n",
    "import numpy as np\n",
    "import pandas as pd\n",
    "from sklearn import linear_model as lm\n",
    "from ipynb.fs.full.variable_selection import Variable_selection"
   ]
  },
  {
   "cell_type": "code",
   "execution_count": 2,
   "metadata": {},
   "outputs": [
    {
     "name": "stdout",
     "output_type": "stream",
     "text": [
      "(506, 13)\n"
     ]
    }
   ],
   "source": [
    "####################### Prepare dataset ############################\n",
    "# import data\n",
    "from sklearn.datasets import load_boston\n",
    "boston = load_boston()\n",
    "\n",
    "# divide to input and target data\n",
    "# remove categorical variable part\n",
    "data = pd.DataFrame(boston.data)\n",
    "data.columns = boston.feature_names\n",
    "input_data = np.array(data)\n",
    "\n",
    "# target : price\n",
    "target_data = np.array(boston.target)\n",
    "print (np.shape(input_data))"
   ]
  },
  {
   "cell_type": "code",
   "execution_count": 3,
   "metadata": {
    "collapsed": true
   },
   "outputs": [],
   "source": [
    "# regression model\n",
    "reg = lm.LinearRegression()\n",
    "\n",
    "# make class\n",
    "selection_tech = Variable_selection(model=reg,input_data=input_data,target_data=target_data)"
   ]
  },
  {
   "cell_type": "code",
   "execution_count": 4,
   "metadata": {
    "scrolled": true
   },
   "outputs": [
    {
     "name": "stdout",
     "output_type": "stream",
     "text": [
      "[12, 5, 10, 7, 4, 3, 11, 1, 0, 8, 9]       number of variables : 11\n"
     ]
    }
   ],
   "source": [
    "# forward selection\n",
    "var_fw = selection_tech.forward_selection(alpha=0.1)\n",
    "print(var_fw,\"      number of variables : %d\" %(len(var_fw)))"
   ]
  },
  {
   "cell_type": "code",
   "execution_count": 5,
   "metadata": {},
   "outputs": [
    {
     "name": "stdout",
     "output_type": "stream",
     "text": [
      "['LSTAT', 'RM', 'PTRATIO', 'DIS', 'NOX', 'CHAS', 'B', 'ZN', 'CRIM', 'RAD', 'TAX']\n"
     ]
    }
   ],
   "source": [
    "names = boston.feature_names\n",
    "selected_names = [names[i] for i in var_fw]\n",
    "print(selected_names)"
   ]
  },
  {
   "cell_type": "code",
   "execution_count": 6,
   "metadata": {},
   "outputs": [
    {
     "name": "stdout",
     "output_type": "stream",
     "text": [
      "R_sq : 0.740545352046 adj_R_sq : 0.734768021829\n"
     ]
    }
   ],
   "source": [
    "Rsq_fw,adj_Rsq_fw = selection_tech.R_sq(model=reg,X=np.take(input_data,var_fw,axis=1),Y=target_data)\n",
    "print(\"R_sq :\",Rsq_fw,\"adj_R_sq :\",adj_Rsq_fw)"
   ]
  },
  {
   "cell_type": "code",
   "execution_count": 7,
   "metadata": {},
   "outputs": [
    {
     "name": "stdout",
     "output_type": "stream",
     "text": [
      "[0, 1, 3, 4, 5, 7, 8, 9, 10, 11, 12]       number of variables : 11\n"
     ]
    }
   ],
   "source": [
    "# backward elimination\n",
    "var_bw = selection_tech.backward_elimination(alpha=0.1)\n",
    "print(var_bw,\"      number of variables : %d\" %(len(var_bw)))"
   ]
  },
  {
   "cell_type": "code",
   "execution_count": 8,
   "metadata": {},
   "outputs": [
    {
     "name": "stdout",
     "output_type": "stream",
     "text": [
      "['CRIM', 'ZN', 'CHAS', 'NOX', 'RM', 'DIS', 'RAD', 'TAX', 'PTRATIO', 'B', 'LSTAT']\n"
     ]
    }
   ],
   "source": [
    "names = boston.feature_names\n",
    "selected_names = [names[i] for i in var_bw]\n",
    "print(selected_names)"
   ]
  },
  {
   "cell_type": "code",
   "execution_count": 9,
   "metadata": {},
   "outputs": [
    {
     "name": "stdout",
     "output_type": "stream",
     "text": [
      "R_sq : 0.740545352046 adj_R_sq : 0.734768021829\n"
     ]
    }
   ],
   "source": [
    "Rsq_bw,adj_Rsq_bw = selection_tech.R_sq(model=reg,X=np.take(input_data,var_bw,axis=1),Y=target_data)\n",
    "print(\"R_sq :\",Rsq_bw,\"adj_R_sq :\",adj_Rsq_bw)"
   ]
  },
  {
   "cell_type": "code",
   "execution_count": 10,
   "metadata": {},
   "outputs": [
    {
     "name": "stdout",
     "output_type": "stream",
     "text": [
      "[12, 5, 10, 7, 4, 11, 0, 8, 9, 1, 3]       number of variables : 11\n"
     ]
    }
   ],
   "source": [
    "# stepwise selection\n",
    "var_st = selection_tech.stepwise_selection(alpha=0.1)\n",
    "print(var_st,\"      number of variables : %d\" %(len(var_st)))"
   ]
  },
  {
   "cell_type": "code",
   "execution_count": 11,
   "metadata": {},
   "outputs": [
    {
     "name": "stdout",
     "output_type": "stream",
     "text": [
      "['LSTAT', 'RM', 'PTRATIO', 'DIS', 'NOX', 'B', 'CRIM', 'RAD', 'TAX', 'ZN', 'CHAS']\n"
     ]
    }
   ],
   "source": [
    "names = boston.feature_names\n",
    "selected_names = [names[i] for i in var_st]\n",
    "print(selected_names)"
   ]
  },
  {
   "cell_type": "code",
   "execution_count": 12,
   "metadata": {},
   "outputs": [
    {
     "name": "stdout",
     "output_type": "stream",
     "text": [
      "R_sq : 0.740545352046 adj_R_sq : 0.734768021829\n"
     ]
    }
   ],
   "source": [
    "Rsq_st,adj_Rsq_st = selection_tech.R_sq(model=reg,X=np.take(input_data,var_st,axis=1),Y=target_data)\n",
    "print(\"R_sq :\",Rsq_st,\"adj_R_sq :\",adj_Rsq_st)"
   ]
  },
  {
   "cell_type": "code",
   "execution_count": 13,
   "metadata": {
    "collapsed": true
   },
   "outputs": [],
   "source": [
    "###################################### Genetic Algorithm #####################################\n",
    "import sys\n",
    "sys.path.append('C:/Users/MJ/Desktop/workspace/BA_tutorial')"
   ]
  },
  {
   "cell_type": "code",
   "execution_count": 14,
   "metadata": {
    "collapsed": true
   },
   "outputs": [],
   "source": [
    "from Genetic_Algorithm import Genetic_algorithm"
   ]
  },
  {
   "cell_type": "code",
   "execution_count": 15,
   "metadata": {
    "collapsed": true
   },
   "outputs": [],
   "source": [
    "# regression model\n",
    "reg = lm.LinearRegression()\n",
    "\n",
    "# make class\n",
    "Genetic_al = Genetic_algorithm(model=reg,X=input_data,Y=target_data,chrom_num=100,eval_metric='adj_Rsq',chrom_ratio=0.5)"
   ]
  },
  {
   "cell_type": "code",
   "execution_count": 21,
   "metadata": {},
   "outputs": [
    {
     "name": "stdout",
     "output_type": "stream",
     "text": [
      "Finished 10th generation !!\n",
      "Finished 20th generation !!\n",
      "Finished 30th generation !!\n",
      "Finished 40th generation !!\n",
      "Finished 50th generation !!\n",
      "Finished 60th generation !!\n",
      "Finished 70th generation !!\n",
      "Finished 80th generation !!\n",
      "Finished 90th generation !!\n",
      "Finished 100th generation !!\n"
     ]
    }
   ],
   "source": [
    "var_GA, eval = Genetic_al.Do_GA(max_iter=100)"
   ]
  },
  {
   "cell_type": "code",
   "execution_count": 22,
   "metadata": {},
   "outputs": [
    {
     "name": "stdout",
     "output_type": "stream",
     "text": [
      "[2, 4, 5, 10, 12]       number of variables : 5\n"
     ]
    }
   ],
   "source": [
    "print(var_GA, \"      number of variables : %d\" %(len(var_GA)))"
   ]
  },
  {
   "cell_type": "code",
   "execution_count": 19,
   "metadata": {},
   "outputs": [
    {
     "name": "stdout",
     "output_type": "stream",
     "text": [
      "['CRIM', 'ZN', 'CHAS', 'RM', 'AGE', 'DIS', 'RAD', 'TAX', 'B', 'LSTAT']\n"
     ]
    }
   ],
   "source": [
    "names = boston.feature_names\n",
    "selected_names = [names[i] for i in var_GA]\n",
    "print(selected_names)"
   ]
  },
  {
   "cell_type": "code",
   "execution_count": 20,
   "metadata": {},
   "outputs": [
    {
     "name": "stdout",
     "output_type": "stream",
     "text": [
      "Final eval metric :  0.72317090865\n"
     ]
    }
   ],
   "source": [
    "print(\"Final eval metric : \",eval)"
   ]
  }
 ],
 "metadata": {
  "kernelspec": {
   "display_name": "Python 3",
   "language": "python",
   "name": "python3"
  },
  "language_info": {
   "codemirror_mode": {
    "name": "ipython",
    "version": 3
   },
   "file_extension": ".py",
   "mimetype": "text/x-python",
   "name": "python",
   "nbconvert_exporter": "python",
   "pygments_lexer": "ipython3",
   "version": "3.6.1"
  }
 },
 "nbformat": 4,
 "nbformat_minor": 2
}
