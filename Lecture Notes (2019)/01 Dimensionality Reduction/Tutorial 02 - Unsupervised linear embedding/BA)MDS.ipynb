{
 "cells": [
  {
   "cell_type": "code",
   "execution_count": 1,
   "metadata": {
    "collapsed": true
   },
   "outputs": [],
   "source": [
    "import numpy as np\n",
    "import pandas as pd"
   ]
  },
  {
   "cell_type": "code",
   "execution_count": 2,
   "metadata": {
    "collapsed": true
   },
   "outputs": [],
   "source": [
    "df = pd.read_csv(\n",
    "    filepath_or_buffer='https://archive.ics.uci.edu/ml/machine-learning-databases/iris/iris.data',\n",
    "    header=None,\n",
    "    sep=',')\n",
    "X = df.iloc[:, 0:4].values\n",
    "y = df.iloc[:,4].values"
   ]
  },
  {
   "cell_type": "markdown",
   "metadata": {},
   "source": [
    "$${ d }_{ rs }^{ 2 }=({ x }_{ r }-{ x }_{ s })^{ T }({ x }_{ r }-{ x }_{ s })$$"
   ]
  },
  {
   "cell_type": "code",
   "execution_count": 3,
   "metadata": {},
   "outputs": [],
   "source": [
    "dists = np.zeros((len(X),len(X)))\n",
    "for i in range(len(X)):\n",
    "    for j in range(len(X)):\n",
    "        dists[i,j] = np.sqrt(np.sum((X[i,:]-X[j,:])**2))"
   ]
  },
  {
   "cell_type": "code",
   "execution_count": 4,
   "metadata": {
    "scrolled": false
   },
   "outputs": [
    {
     "data": {
      "text/plain": [
       "array([[ 0.        ,  0.53851648,  0.50990195, ...,  4.45982062,\n",
       "         4.65080638,  4.14004831],\n",
       "       [ 0.53851648,  0.        ,  0.3       , ...,  4.49888875,\n",
       "         4.71805044,  4.15331193],\n",
       "       [ 0.50990195,  0.3       ,  0.        , ...,  4.66154481,\n",
       "         4.84871117,  4.29883705],\n",
       "       ..., \n",
       "       [ 4.45982062,  4.49888875,  4.66154481, ...,  0.        ,\n",
       "         0.6164414 ,  0.64031242],\n",
       "       [ 4.65080638,  4.71805044,  4.84871117, ...,  0.6164414 ,\n",
       "         0.        ,  0.76811457],\n",
       "       [ 4.14004831,  4.15331193,  4.29883705, ...,  0.64031242,\n",
       "         0.76811457,  0.        ]])"
      ]
     },
     "execution_count": 4,
     "metadata": {},
     "output_type": "execute_result"
    }
   ],
   "source": [
    "dists"
   ]
  },
  {
   "cell_type": "markdown",
   "metadata": {},
   "source": [
    "$$ [A]_{ rs }={ a }_{ rs },\\quad [B]_{ rs }={ b }_{ rs }={ x }_{ r }^{ T }{ x }_{ s },\\quad B=HAH,\\quad H=I-\\frac { 1 }{ n } 11^{ T }$$"
   ]
  },
  {
   "cell_type": "code",
   "execution_count": 5,
   "metadata": {
    "collapsed": true
   },
   "outputs": [],
   "source": [
    "n = len(dists)\n",
    "\n",
    "H = np.eye(n) - np.ones((n, n))/n\n",
    "\n",
    "B = -H.dot(dists**2).dot(H)/2\n",
    "\n",
    "eig_vals,eig_vecs = np.linalg.eigh(B) #symmetric matrix에서는 eigh사용."
   ]
  },
  {
   "cell_type": "code",
   "execution_count": 6,
   "metadata": {},
   "outputs": [
    {
     "data": {
      "text/plain": [
       "array([[ 1.,  1.,  1.,  1.,  1.],\n",
       "       [ 1.,  1.,  1.,  1.,  1.],\n",
       "       [ 1.,  1.,  1.,  1.,  1.],\n",
       "       [ 1.,  1.,  1.,  1.,  1.],\n",
       "       [ 1.,  1.,  1.,  1.,  1.]])"
      ]
     },
     "execution_count": 6,
     "metadata": {},
     "output_type": "execute_result"
    }
   ],
   "source": [
    "np.ones((5,5))"
   ]
  },
  {
   "cell_type": "markdown",
   "metadata": {},
   "source": [
    "$$ B=X{ X }^{ T },\\quad \\quad B=V\\Lambda { V }^{ T },\\quad X={ V }_{ 1 }{ \\Lambda  }_{ 1 }^{ \\frac { 1 }{ 2 }  } $$"
   ]
  },
  {
   "cell_type": "code",
   "execution_count": 7,
   "metadata": {},
   "outputs": [],
   "source": [
    "idx = np.argsort(eig_vals)[::-1]\n",
    "eig_vals = eig_vals[idx]\n",
    "eig_vecs = eig_vecs[:,idx]\n",
    "\n",
    "w = np.where(eig_vals > 0)"
   ]
  },
  {
   "cell_type": "code",
   "execution_count": 8,
   "metadata": {
    "collapsed": true
   },
   "outputs": [],
   "source": [
    "L = np.diag(np.sqrt(eig_vals[w]))"
   ]
  },
  {
   "cell_type": "code",
   "execution_count": 9,
   "metadata": {
    "collapsed": true,
    "scrolled": true
   },
   "outputs": [],
   "source": [
    "V = eig_vecs[:,w]\n",
    "V = np.squeeze(V)\n"
   ]
  },
  {
   "cell_type": "code",
   "execution_count": 10,
   "metadata": {
    "scrolled": true
   },
   "outputs": [
    {
     "data": {
      "text/plain": [
       "array([[-2.68420713,  0.32660731,  0.02151184],\n",
       "       [-2.71539062, -0.16955685,  0.20352143],\n",
       "       [-2.88981954, -0.13734561, -0.02470924],\n",
       "       [-2.7464372 , -0.31112432, -0.03767198],\n",
       "       [-2.72859298,  0.33392456, -0.0962297 ],\n",
       "       [-2.27989736,  0.74778271, -0.17432562],\n",
       "       [-2.82089068, -0.08210451, -0.26425109],\n",
       "       [-2.62648199,  0.17040535,  0.01580151],\n",
       "       [-2.88795857, -0.57079803, -0.02733541],\n",
       "       [-2.67384469, -0.1066917 ,  0.1915333 ],\n",
       "       [-2.50652679,  0.65193501,  0.069275  ],\n",
       "       [-2.61314272,  0.02152063, -0.10765035],\n",
       "       [-2.78743398, -0.22774019,  0.20032779],\n",
       "       [-3.22520045, -0.50327991, -0.06841363],\n",
       "       [-2.64354322,  1.1861949 ,  0.1445057 ],\n",
       "       [-2.38386932,  1.34475434, -0.28373066],\n",
       "       [-2.6225262 ,  0.81808967, -0.14531599],\n",
       "       [-2.64832273,  0.31913667, -0.03339425],\n",
       "       [-2.19907796,  0.87924409,  0.11452146],\n",
       "       [-2.58734619,  0.52047364, -0.21957209],\n",
       "       [-2.3105317 ,  0.39786782,  0.23369561],\n",
       "       [-2.54323491,  0.44003175, -0.21483637],\n",
       "       [-3.21585769,  0.14161557, -0.29961898],\n",
       "       [-2.30312854,  0.10552268, -0.04568004],\n",
       "       [-2.35617109, -0.03120959, -0.12940758],\n",
       "       [-2.50791723, -0.13905634,  0.24711634],\n",
       "       [-2.469056  ,  0.13788731, -0.10126308],\n",
       "       [-2.56239095,  0.37468456,  0.07235916],\n",
       "       [-2.63982127,  0.31929007,  0.13925337],\n",
       "       [-2.63284791, -0.19007583, -0.04646646],\n",
       "       [-2.58846205, -0.19739308,  0.07127507],\n",
       "       [-2.41007734,  0.41808001,  0.13838824],\n",
       "       [-2.64763667,  0.81998263, -0.2305856 ],\n",
       "       [-2.59715948,  1.10002193, -0.16358191],\n",
       "       [-2.67384469, -0.1066917 ,  0.1915333 ],\n",
       "       [-2.86699985,  0.0771931 ,  0.15684235],\n",
       "       [-2.62522846,  0.60680001,  0.26116316],\n",
       "       [-2.67384469, -0.1066917 ,  0.1915333 ],\n",
       "       [-2.98184266, -0.48025005, -0.07972481],\n",
       "       [-2.59032303,  0.23605934,  0.07390124],\n",
       "       [-2.77013891,  0.27105942, -0.08424157],\n",
       "       [-2.85221108, -0.93286537,  0.34096149],\n",
       "       [-2.99829644, -0.33430757, -0.19900842],\n",
       "       [-2.4055141 ,  0.19591726, -0.27071707],\n",
       "       [-2.20883295,  0.44269603, -0.30348781],\n",
       "       [-2.71566519, -0.24268148,  0.09051561],\n",
       "       [-2.53757337,  0.51036755, -0.1719184 ],\n",
       "       [-2.8403213 , -0.22057634, -0.09006138],\n",
       "       [-2.54268576,  0.58628103,  0.01117527],\n",
       "       [-2.70391231,  0.11501085,  0.08269573],\n",
       "       [ 1.28479459,  0.68543919,  0.40612955],\n",
       "       [ 0.93241075,  0.31919809,  0.01712991],\n",
       "       [ 1.46406132,  0.50418983,  0.33826073],\n",
       "       [ 0.18096721, -0.82560394,  0.17708286],\n",
       "       [ 1.08713449,  0.07539039,  0.30654446],\n",
       "       [ 0.64043675, -0.41732348, -0.04118877],\n",
       "       [ 1.09522371,  0.28389121, -0.17002253],\n",
       "       [-0.75146714, -1.00110751, -0.01567219],\n",
       "       [ 1.04329778,  0.22895691,  0.41481457],\n",
       "       [-0.01019007, -0.72057487, -0.28343725],\n",
       "       [-0.5110862 , -1.26249195,  0.26648995],\n",
       "       [ 0.51109806, -0.10228411, -0.13232789],\n",
       "       [ 0.26233576, -0.5478933 ,  0.69194158],\n",
       "       [ 0.98404455, -0.12436042,  0.06215743],\n",
       "       [-0.174864  , -0.25181557, -0.09365864],\n",
       "       [ 0.92757294,  0.46823621,  0.3132294 ],\n",
       "       [ 0.65959279, -0.35197629, -0.3283843 ],\n",
       "       [ 0.23454059, -0.33192183,  0.27028067],\n",
       "       [ 0.94236171, -0.54182226,  0.49734854],\n",
       "       [ 0.0432464 , -0.58148945,  0.23296356],\n",
       "       [ 1.11624072, -0.08421401, -0.45984423],\n",
       "       [ 0.35678657, -0.06682383,  0.22747218],\n",
       "       [ 1.29646885, -0.32756152,  0.34751321],\n",
       "       [ 0.92050265, -0.18239036,  0.23161142],\n",
       "       [ 0.71400821,  0.15037915,  0.32037233],\n",
       "       [ 0.89964086,  0.32961098,  0.31477148],\n",
       "       [ 1.33104142,  0.24466952,  0.52124492],\n",
       "       [ 1.55739627,  0.26739258,  0.16463849],\n",
       "       [ 0.81245555, -0.16233157, -0.03634358],\n",
       "       [-0.30733476, -0.36508661,  0.3153372 ],\n",
       "       [-0.07034289, -0.70253793,  0.24175804],\n",
       "       [-0.19188449, -0.67749054,  0.30391654],\n",
       "       [ 0.13499495, -0.31170964,  0.1749733 ],\n",
       "       [ 1.37873698, -0.42120514, -0.0154805 ],\n",
       "       [ 0.58727485, -0.48328427, -0.44458375],\n",
       "       [ 0.8072055 ,  0.19505396, -0.38945871],\n",
       "       [ 1.22042897,  0.40803534,  0.23656609],\n",
       "       [ 0.81286779, -0.370679  ,  0.61287105],\n",
       "       [ 0.24519516, -0.26672804, -0.18956248],\n",
       "       [ 0.16451343, -0.67966147,  0.05779924],\n",
       "       [ 0.46303099, -0.66952655,  0.02405389],\n",
       "       [ 0.89016045, -0.03381244,  0.00976803],\n",
       "       [ 0.22887905, -0.40225762,  0.22736271],\n",
       "       [-0.70708128, -1.00842476,  0.10206934],\n",
       "       [ 0.35553304, -0.50321849, -0.01788947],\n",
       "       [ 0.33112695, -0.21118014, -0.08380907],\n",
       "       [ 0.37523823, -0.29162202, -0.07907336],\n",
       "       [ 0.64169028,  0.01907118,  0.20417288],\n",
       "       [-0.90846333, -0.75156873,  0.00773658],\n",
       "       [ 0.29780791, -0.34701652, -0.01217914],\n",
       "       [ 2.53172698, -0.01184224, -0.75845865],\n",
       "       [ 1.41407223, -0.57492506, -0.29639822],\n",
       "       [ 2.61648461,  0.34193529,  0.11214137],\n",
       "       [ 1.97081495, -0.18112569, -0.10653915],\n",
       "       [ 2.34975798, -0.04188255, -0.28411068],\n",
       "       [ 3.39687992,  0.54716805,  0.35187316],\n",
       "       [ 0.51938325, -1.19135169, -0.54668553],\n",
       "       [ 2.9320051 ,  0.35237701,  0.42369128],\n",
       "       [ 2.31967279, -0.24554817,  0.34992218],\n",
       "       [ 2.91813423,  0.78038063, -0.42173893],\n",
       "       [ 1.66193495,  0.2420384 , -0.24281526],\n",
       "       [ 1.80234045, -0.21615461,  0.03769533],\n",
       "       [ 2.16537886,  0.21528028, -0.03314818],\n",
       "       [ 1.34459422, -0.77641543, -0.28286802],\n",
       "       [ 1.5852673 , -0.53930705, -0.63057049],\n",
       "       [ 1.90474358,  0.11881899, -0.48013808],\n",
       "       [ 1.94924878,  0.04073026, -0.04272909],\n",
       "       [ 3.48876538,  1.17154454, -0.12932008],\n",
       "       [ 3.79468686,  0.25326557,  0.51697072],\n",
       "       [ 1.29832982, -0.76101394,  0.34488705],\n",
       "       [ 2.42816726,  0.37678197, -0.21864907],\n",
       "       [ 1.19809737, -0.60557896, -0.51264077],\n",
       "       [ 3.49926548,  0.45677347,  0.57691019],\n",
       "       [ 1.38766825, -0.20403099,  0.06351132],\n",
       "       [ 2.27585365,  0.33338653, -0.28467815],\n",
       "       [ 2.61419383,  0.55836695,  0.20842335],\n",
       "       [ 1.25762518, -0.179137  , -0.04697781],\n",
       "       [ 1.29066965, -0.11642525, -0.23161356],\n",
       "       [ 2.12285398, -0.21085488, -0.15351589],\n",
       "       [ 2.3875644 ,  0.46251925,  0.45202396],\n",
       "       [ 2.84096093,  0.37274259,  0.50103154],\n",
       "       [ 3.2323429 ,  1.37052404,  0.11844878],\n",
       "       [ 2.15873837, -0.21832553, -0.20842198],\n",
       "       [ 1.4431026 , -0.14380129,  0.15408297],\n",
       "       [ 1.77964011, -0.50146479,  0.17581119],\n",
       "       [ 3.07652162,  0.68576444,  0.33642274],\n",
       "       [ 2.14498686,  0.13890661, -0.73418474],\n",
       "       [ 1.90486293,  0.04804751, -0.16047063],\n",
       "       [ 1.16885347, -0.1645025 , -0.28246088],\n",
       "       [ 2.10765373,  0.37148225, -0.02743786],\n",
       "       [ 2.31430339,  0.18260885, -0.3228604 ],\n",
       "       [ 1.92245088,  0.40927118, -0.11549282],\n",
       "       [ 1.41407223, -0.57492506, -0.29639822],\n",
       "       [ 2.56332271,  0.2759745 , -0.29125361],\n",
       "       [ 2.41939122,  0.30350394, -0.50430252],\n",
       "       [ 1.94401705,  0.18741522, -0.17930287],\n",
       "       [ 1.52566363, -0.37502085,  0.12063644],\n",
       "       [ 1.76404594,  0.07851919, -0.13078405],\n",
       "       [ 1.90162908,  0.11587675, -0.72287356],\n",
       "       [ 1.38966613, -0.28288671, -0.36231783]])"
      ]
     },
     "execution_count": 10,
     "metadata": {},
     "output_type": "execute_result"
    }
   ],
   "source": [
    "Y = V.dot(L)\n",
    "Y[:,:3]"
   ]
  },
  {
   "cell_type": "code",
   "execution_count": 11,
   "metadata": {},
   "outputs": [
    {
     "data": {
      "image/png": "[encoded data removed]",
      "text/plain": [
       "<matplotlib.figure.Figure at 0x10ee2b4a8>"
      ]
     },
     "metadata": {},
     "output_type": "display_data"
    }
   ],
   "source": [
    "import matplotlib.pyplot as plt\n",
    "label = np.unique(y)\n",
    "with plt.style.context(\"seaborn-darkgrid\"):\n",
    "    for l in label:\n",
    "        plt.scatter(Y[y==l,0], Y[y==l,1],label=l)\n",
    "    plt.xlabel(\"dimension 1\")\n",
    "    plt.ylabel(\"dimension 2\")\n",
    "    plt.legend()\n",
    "    plt.show() "
   ]
  },
  {
   "cell_type": "code",
   "execution_count": 17,
   "metadata": {
    "collapsed": true
   },
   "outputs": [],
   "source": [
    "class MDS_jay:\n",
    "    def __init__(self, X, y=0, k=2, category=False):\n",
    "        self.X = X\n",
    "        self.k = k\n",
    "        self.label = y\n",
    "        self.category = category\n",
    "        self.dists = np.zeros((len(self.X),len(self.X)))\n",
    "        for i in range(len(self.X)):\n",
    "            for j in range(len(self.X)):\n",
    "                self.dists[i,j] = np.sqrt(np.sum((self.X[i,:]-self.X[j,:])**2))\n",
    "        \n",
    "    def mds(self):\n",
    "        n = len(self.dists)\n",
    "        H = np.eye(n) - np.ones((n, n))/n\n",
    "        B = -H.dot(dists**2).dot(H)/2\n",
    "        eig_vals,eig_vecs = np.linalg.eigh(B)\n",
    "        idx = np.argsort(eig_vals)[::-1]\n",
    "        eig_vals = eig_vals[idx]\n",
    "        eig_vecs = eig_vecs[:,idx]\n",
    "        w = np.where(eig_vals > 0)\n",
    "        L = np.diag(np.sqrt(eig_vals[w]))\n",
    "        V = eig_vecs[:,w]\n",
    "        V = np.squeeze(V)\n",
    "        Y = V.dot(L)\n",
    "        self.Y = Y[:,:self.k]\n",
    "        return self.Y\n",
    "    def mds_plot(self):\n",
    "        if self.category == True:\n",
    "            label = np.unique(self.label)\n",
    "            with plt.style.context(\"seaborn-darkgrid\"):\n",
    "                for l in label:\n",
    "                    plt.scatter(Y[y==l,0], Y[y==l,1],label=l)\n",
    "                plt.xlabel(\"dimension 1\")\n",
    "                plt.ylabel(\"dimension 2\")\n",
    "                plt.legend()\n",
    "                plt.show() \n",
    "        else:\n",
    "            label = [1]\n",
    "            with plt.style.context(\"seaborn-darkgrid\"):\n",
    "                plt.scatter(Y[:,0], Y[:,1])\n",
    "                plt.xlabel(\"dimension 1\")\n",
    "                plt.ylabel(\"dimension 2\")\n",
    "                plt.show() \n"
   ]
  },
  {
   "cell_type": "code",
   "execution_count": 20,
   "metadata": {},
   "outputs": [],
   "source": [
    "test = MDS_jay(X,y=y, k=2, category=True) "
   ]
  },
  {
   "cell_type": "code",
   "execution_count": 21,
   "metadata": {},
   "outputs": [
    {
     "data": {
      "text/plain": [
       "array([[-2.68420713,  0.32660731],\n",
       "       [-2.71539062, -0.16955685],\n",
       "       [-2.88981954, -0.13734561],\n",
       "       [-2.7464372 , -0.31112432],\n",
       "       [-2.72859298,  0.33392456],\n",
       "       [-2.27989736,  0.74778271],\n",
       "       [-2.82089068, -0.08210451],\n",
       "       [-2.62648199,  0.17040535],\n",
       "       [-2.88795857, -0.57079803],\n",
       "       [-2.67384469, -0.1066917 ],\n",
       "       [-2.50652679,  0.65193501],\n",
       "       [-2.61314272,  0.02152063],\n",
       "       [-2.78743398, -0.22774019],\n",
       "       [-3.22520045, -0.50327991],\n",
       "       [-2.64354322,  1.1861949 ],\n",
       "       [-2.38386932,  1.34475434],\n",
       "       [-2.6225262 ,  0.81808967],\n",
       "       [-2.64832273,  0.31913667],\n",
       "       [-2.19907796,  0.87924409],\n",
       "       [-2.58734619,  0.52047364],\n",
       "       [-2.3105317 ,  0.39786782],\n",
       "       [-2.54323491,  0.44003175],\n",
       "       [-3.21585769,  0.14161557],\n",
       "       [-2.30312854,  0.10552268],\n",
       "       [-2.35617109, -0.03120959],\n",
       "       [-2.50791723, -0.13905634],\n",
       "       [-2.469056  ,  0.13788731],\n",
       "       [-2.56239095,  0.37468456],\n",
       "       [-2.63982127,  0.31929007],\n",
       "       [-2.63284791, -0.19007583],\n",
       "       [-2.58846205, -0.19739308],\n",
       "       [-2.41007734,  0.41808001],\n",
       "       [-2.64763667,  0.81998263],\n",
       "       [-2.59715948,  1.10002193],\n",
       "       [-2.67384469, -0.1066917 ],\n",
       "       [-2.86699985,  0.0771931 ],\n",
       "       [-2.62522846,  0.60680001],\n",
       "       [-2.67384469, -0.1066917 ],\n",
       "       [-2.98184266, -0.48025005],\n",
       "       [-2.59032303,  0.23605934],\n",
       "       [-2.77013891,  0.27105942],\n",
       "       [-2.85221108, -0.93286537],\n",
       "       [-2.99829644, -0.33430757],\n",
       "       [-2.4055141 ,  0.19591726],\n",
       "       [-2.20883295,  0.44269603],\n",
       "       [-2.71566519, -0.24268148],\n",
       "       [-2.53757337,  0.51036755],\n",
       "       [-2.8403213 , -0.22057634],\n",
       "       [-2.54268576,  0.58628103],\n",
       "       [-2.70391231,  0.11501085],\n",
       "       [ 1.28479459,  0.68543919],\n",
       "       [ 0.93241075,  0.31919809],\n",
       "       [ 1.46406132,  0.50418983],\n",
       "       [ 0.18096721, -0.82560394],\n",
       "       [ 1.08713449,  0.07539039],\n",
       "       [ 0.64043675, -0.41732348],\n",
       "       [ 1.09522371,  0.28389121],\n",
       "       [-0.75146714, -1.00110751],\n",
       "       [ 1.04329778,  0.22895691],\n",
       "       [-0.01019007, -0.72057487],\n",
       "       [-0.5110862 , -1.26249195],\n",
       "       [ 0.51109806, -0.10228411],\n",
       "       [ 0.26233576, -0.5478933 ],\n",
       "       [ 0.98404455, -0.12436042],\n",
       "       [-0.174864  , -0.25181557],\n",
       "       [ 0.92757294,  0.46823621],\n",
       "       [ 0.65959279, -0.35197629],\n",
       "       [ 0.23454059, -0.33192183],\n",
       "       [ 0.94236171, -0.54182226],\n",
       "       [ 0.0432464 , -0.58148945],\n",
       "       [ 1.11624072, -0.08421401],\n",
       "       [ 0.35678657, -0.06682383],\n",
       "       [ 1.29646885, -0.32756152],\n",
       "       [ 0.92050265, -0.18239036],\n",
       "       [ 0.71400821,  0.15037915],\n",
       "       [ 0.89964086,  0.32961098],\n",
       "       [ 1.33104142,  0.24466952],\n",
       "       [ 1.55739627,  0.26739258],\n",
       "       [ 0.81245555, -0.16233157],\n",
       "       [-0.30733476, -0.36508661],\n",
       "       [-0.07034289, -0.70253793],\n",
       "       [-0.19188449, -0.67749054],\n",
       "       [ 0.13499495, -0.31170964],\n",
       "       [ 1.37873698, -0.42120514],\n",
       "       [ 0.58727485, -0.48328427],\n",
       "       [ 0.8072055 ,  0.19505396],\n",
       "       [ 1.22042897,  0.40803534],\n",
       "       [ 0.81286779, -0.370679  ],\n",
       "       [ 0.24519516, -0.26672804],\n",
       "       [ 0.16451343, -0.67966147],\n",
       "       [ 0.46303099, -0.66952655],\n",
       "       [ 0.89016045, -0.03381244],\n",
       "       [ 0.22887905, -0.40225762],\n",
       "       [-0.70708128, -1.00842476],\n",
       "       [ 0.35553304, -0.50321849],\n",
       "       [ 0.33112695, -0.21118014],\n",
       "       [ 0.37523823, -0.29162202],\n",
       "       [ 0.64169028,  0.01907118],\n",
       "       [-0.90846333, -0.75156873],\n",
       "       [ 0.29780791, -0.34701652],\n",
       "       [ 2.53172698, -0.01184224],\n",
       "       [ 1.41407223, -0.57492506],\n",
       "       [ 2.61648461,  0.34193529],\n",
       "       [ 1.97081495, -0.18112569],\n",
       "       [ 2.34975798, -0.04188255],\n",
       "       [ 3.39687992,  0.54716805],\n",
       "       [ 0.51938325, -1.19135169],\n",
       "       [ 2.9320051 ,  0.35237701],\n",
       "       [ 2.31967279, -0.24554817],\n",
       "       [ 2.91813423,  0.78038063],\n",
       "       [ 1.66193495,  0.2420384 ],\n",
       "       [ 1.80234045, -0.21615461],\n",
       "       [ 2.16537886,  0.21528028],\n",
       "       [ 1.34459422, -0.77641543],\n",
       "       [ 1.5852673 , -0.53930705],\n",
       "       [ 1.90474358,  0.11881899],\n",
       "       [ 1.94924878,  0.04073026],\n",
       "       [ 3.48876538,  1.17154454],\n",
       "       [ 3.79468686,  0.25326557],\n",
       "       [ 1.29832982, -0.76101394],\n",
       "       [ 2.42816726,  0.37678197],\n",
       "       [ 1.19809737, -0.60557896],\n",
       "       [ 3.49926548,  0.45677347],\n",
       "       [ 1.38766825, -0.20403099],\n",
       "       [ 2.27585365,  0.33338653],\n",
       "       [ 2.61419383,  0.55836695],\n",
       "       [ 1.25762518, -0.179137  ],\n",
       "       [ 1.29066965, -0.11642525],\n",
       "       [ 2.12285398, -0.21085488],\n",
       "       [ 2.3875644 ,  0.46251925],\n",
       "       [ 2.84096093,  0.37274259],\n",
       "       [ 3.2323429 ,  1.37052404],\n",
       "       [ 2.15873837, -0.21832553],\n",
       "       [ 1.4431026 , -0.14380129],\n",
       "       [ 1.77964011, -0.50146479],\n",
       "       [ 3.07652162,  0.68576444],\n",
       "       [ 2.14498686,  0.13890661],\n",
       "       [ 1.90486293,  0.04804751],\n",
       "       [ 1.16885347, -0.1645025 ],\n",
       "       [ 2.10765373,  0.37148225],\n",
       "       [ 2.31430339,  0.18260885],\n",
       "       [ 1.92245088,  0.40927118],\n",
       "       [ 1.41407223, -0.57492506],\n",
       "       [ 2.56332271,  0.2759745 ],\n",
       "       [ 2.41939122,  0.30350394],\n",
       "       [ 1.94401705,  0.18741522],\n",
       "       [ 1.52566363, -0.37502085],\n",
       "       [ 1.76404594,  0.07851919],\n",
       "       [ 1.90162908,  0.11587675],\n",
       "       [ 1.38966613, -0.28288671]])"
      ]
     },
     "execution_count": 21,
     "metadata": {},
     "output_type": "execute_result"
    }
   ],
   "source": [
    "test.mds()"
   ]
  },
  {
   "cell_type": "code",
   "execution_count": 22,
   "metadata": {},
   "outputs": [
    {
     "data": {
      "image/png": "[encoded data removed]",
      "text/plain": [
       "<matplotlib.figure.Figure at 0x10dd586a0>"
      ]
     },
     "metadata": {},
     "output_type": "display_data"
    }
   ],
   "source": [
    "test.mds_plot()"
   ]
  },
  {
   "cell_type": "code",
   "execution_count": null,
   "metadata": {
    "collapsed": true
   },
   "outputs": [],
   "source": []
  }
 ],
 "metadata": {
  "kernelspec": {
   "display_name": "Python 3",
   "language": "python",
   "name": "python3"
  },
  "language_info": {
   "codemirror_mode": {
    "name": "ipython",
    "version": 3
   },
   "file_extension": ".py",
   "mimetype": "text/x-python",
   "name": "python",
   "nbconvert_exporter": "python",
   "pygments_lexer": "ipython3",
   "version": "3.6.1"
  }
 },
 "nbformat": 4,
 "nbformat_minor": 2
}
