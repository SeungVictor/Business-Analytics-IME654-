{
 "cells": [
  {
   "cell_type": "code",
   "execution_count": 1,
   "metadata": {
    "scrolled": false
   },
   "outputs": [
    {
     "data": {
      "text/html": [
       "<div>\n",
       "<style>\n",
       "    .dataframe thead tr:only-child th {\n",
       "        text-align: right;\n",
       "    }\n",
       "\n",
       "    .dataframe thead th {\n",
       "        text-align: left;\n",
       "    }\n",
       "\n",
       "    .dataframe tbody tr th {\n",
       "        vertical-align: top;\n",
       "    }\n",
       "</style>\n",
       "<table border=\"1\" class=\"dataframe\">\n",
       "  <thead>\n",
       "    <tr style=\"text-align: right;\">\n",
       "      <th></th>\n",
       "      <th>sepal_len</th>\n",
       "      <th>sepal_wid</th>\n",
       "      <th>petal_len</th>\n",
       "      <th>petal_wid</th>\n",
       "      <th>class</th>\n",
       "    </tr>\n",
       "  </thead>\n",
       "  <tbody>\n",
       "    <tr>\n",
       "      <th>0</th>\n",
       "      <td>5.1</td>\n",
       "      <td>3.5</td>\n",
       "      <td>1.4</td>\n",
       "      <td>0.2</td>\n",
       "      <td>Iris-setosa</td>\n",
       "    </tr>\n",
       "    <tr>\n",
       "      <th>1</th>\n",
       "      <td>4.9</td>\n",
       "      <td>3.0</td>\n",
       "      <td>1.4</td>\n",
       "      <td>0.2</td>\n",
       "      <td>Iris-setosa</td>\n",
       "    </tr>\n",
       "    <tr>\n",
       "      <th>2</th>\n",
       "      <td>4.7</td>\n",
       "      <td>3.2</td>\n",
       "      <td>1.3</td>\n",
       "      <td>0.2</td>\n",
       "      <td>Iris-setosa</td>\n",
       "    </tr>\n",
       "    <tr>\n",
       "      <th>3</th>\n",
       "      <td>4.6</td>\n",
       "      <td>3.1</td>\n",
       "      <td>1.5</td>\n",
       "      <td>0.2</td>\n",
       "      <td>Iris-setosa</td>\n",
       "    </tr>\n",
       "    <tr>\n",
       "      <th>4</th>\n",
       "      <td>5.0</td>\n",
       "      <td>3.6</td>\n",
       "      <td>1.4</td>\n",
       "      <td>0.2</td>\n",
       "      <td>Iris-setosa</td>\n",
       "    </tr>\n",
       "  </tbody>\n",
       "</table>\n",
       "</div>"
      ],
      "text/plain": [
       "   sepal_len  sepal_wid  petal_len  petal_wid        class\n",
       "0        5.1        3.5        1.4        0.2  Iris-setosa\n",
       "1        4.9        3.0        1.4        0.2  Iris-setosa\n",
       "2        4.7        3.2        1.3        0.2  Iris-setosa\n",
       "3        4.6        3.1        1.5        0.2  Iris-setosa\n",
       "4        5.0        3.6        1.4        0.2  Iris-setosa"
      ]
     },
     "execution_count": 1,
     "metadata": {},
     "output_type": "execute_result"
    }
   ],
   "source": [
    "import pandas as pd\n",
    "import numpy as np\n",
    "\n",
    "df = pd.read_csv(\n",
    "    filepath_or_buffer='https://archive.ics.uci.edu/ml/machine-learning-databases/iris/iris.data',\n",
    "    header=None,\n",
    "    sep=',')\n",
    "\n",
    "df.columns = ['sepal_len', 'sepal_wid', 'petal_len', 'petal_wid', 'class']\n",
    "\n",
    "df.head()"
   ]
  },
  {
   "cell_type": "code",
   "execution_count": 2,
   "metadata": {
    "collapsed": true
   },
   "outputs": [],
   "source": [
    "X = df.iloc[:, 0:4].values\n",
    "y = df.iloc[:,4].values\n"
   ]
  },
  {
   "cell_type": "markdown",
   "metadata": {},
   "source": [
    "$${ x }_{ new }=\\frac { x-\\mu  }{ \\sigma  } $$"
   ]
  },
  {
   "cell_type": "code",
   "execution_count": 3,
   "metadata": {
    "collapsed": true,
    "scrolled": true
   },
   "outputs": [],
   "source": [
    "X_std = (X - np.mean(X, axis=0)) / np.std(X, axis=0)"
   ]
  },
  {
   "cell_type": "markdown",
   "metadata": {},
   "source": [
    "이번에는 표준화(standardization)을 적용한 데이터와 적용하지 않은 데이터의 covariance matrix를 비교해보자. \n",
    "\n",
    "$$ { \\sigma  }_{ jk }=\\frac { 1 }{ n-1 } \\sum _{ i=1 }^{ n }{ ({ x }_{ ij }-\\bar { x } _{ j })({ x }_{ ik }-{ \\bar { x }  }_{ k }) } $$"
   ]
  },
  {
   "cell_type": "code",
   "execution_count": 13,
   "metadata": {},
   "outputs": [
    {
     "name": "stdout",
     "output_type": "stream",
     "text": [
      "표준화 적용 X \n",
      " [[ 0.68569351 -0.03926846  1.27368233  0.5169038 ]\n",
      " [-0.03926846  0.18800403 -0.32171275 -0.11798121]\n",
      " [ 1.27368233 -0.32171275  3.11317942  1.29638747]\n",
      " [ 0.5169038  -0.11798121  1.29638747  0.58241432]]\n",
      "표준화 적용 \n",
      " [[ 1.00671141 -0.11010327  0.87760486  0.82344326]\n",
      " [-0.11010327  1.00671141 -0.42333835 -0.358937  ]\n",
      " [ 0.87760486 -0.42333835  1.00671141  0.96921855]\n",
      " [ 0.82344326 -0.358937    0.96921855  1.00671141]]\n"
     ]
    }
   ],
   "source": [
    "mean_vec = np.mean(X, axis=0)\n",
    "cov_mat2 = (X - mean_vec).T.dot((X - mean_vec)) / (X.shape[0]-1)\n",
    "print(\"표준화 적용 X \\n\", cov_mat2)\n",
    "\n",
    "mean_vec = np.mean(X_std, axis=0)\n",
    "cov_mat = (X_std - mean_vec).T.dot((X_std - mean_vec)) / (X_std.shape[0]-1)\n",
    "print(\"표준화 적용 \\n\", cov_mat)\n"
   ]
  },
  {
   "cell_type": "code",
   "execution_count": 9,
   "metadata": {},
   "outputs": [
    {
     "data": {
      "text/plain": [
       "array([[ 0.68569351, -0.03926846,  1.27368233,  0.5169038 ],\n",
       "       [-0.03926846,  0.18800403, -0.32171275, -0.11798121],\n",
       "       [ 1.27368233, -0.32171275,  3.11317942,  1.29638747],\n",
       "       [ 0.5169038 , -0.11798121,  1.29638747,  0.58241432]])"
      ]
     },
     "execution_count": 9,
     "metadata": {},
     "output_type": "execute_result"
    }
   ],
   "source": [
    "np.cov(X.T)"
   ]
  },
  {
   "cell_type": "code",
   "execution_count": 14,
   "metadata": {
    "scrolled": true
   },
   "outputs": [
    {
     "name": "stdout",
     "output_type": "stream",
     "text": [
      "eig_values \n",
      "[ 2.93035378  0.92740362  0.14834223  0.02074601]\n",
      "eig_vectors \n",
      "[[ 0.52237162 -0.37231836 -0.72101681  0.26199559]\n",
      " [-0.26335492 -0.92555649  0.24203288 -0.12413481]\n",
      " [ 0.58125401 -0.02109478  0.14089226 -0.80115427]\n",
      " [ 0.56561105 -0.06541577  0.6338014   0.52354627]]\n"
     ]
    }
   ],
   "source": [
    "eig_vals, eig_vecs = np.linalg.eig(cov_mat)\n",
    "\n",
    "print(\"eig_values \\n{}\".format(eig_vals))\n",
    "print(\"eig_vectors \\n{}\".format(eig_vecs))"
   ]
  },
  {
   "cell_type": "markdown",
   "metadata": {},
   "source": [
    "표준화(standardization)을 한 경우, correlation matrix와 같은 결과값이 나온다."
   ]
  },
  {
   "cell_type": "code",
   "execution_count": 15,
   "metadata": {},
   "outputs": [
    {
     "name": "stdout",
     "output_type": "stream",
     "text": [
      "eig_values \n",
      "[ 2.91081808  0.92122093  0.14735328  0.02060771]\n",
      "eig_vectors \n",
      "[[ 0.52237162 -0.37231836 -0.72101681  0.26199559]\n",
      " [-0.26335492 -0.92555649  0.24203288 -0.12413481]\n",
      " [ 0.58125401 -0.02109478  0.14089226 -0.80115427]\n",
      " [ 0.56561105 -0.06541577  0.6338014   0.52354627]]\n"
     ]
    }
   ],
   "source": [
    "cor_mat = np.corrcoef(X.T)\n",
    "\n",
    "eig_vals, eig_vecs = np.linalg.eigh(cor_mat)\n",
    "\n",
    "print(\"eig_values \\n{}\".format(eig_vals))\n",
    "print(\"eig_vectors \\n{}\".format(eig_vecs))"
   ]
  },
  {
   "cell_type": "markdown",
   "metadata": {},
   "source": [
    "Singular Vector Decomposition을 돌려보아도 u와 같은 결과가 나온다."
   ]
  },
  {
   "cell_type": "code",
   "execution_count": 16,
   "metadata": {},
   "outputs": [
    {
     "data": {
      "text/plain": [
       "array([[-0.52237162, -0.37231836,  0.72101681,  0.26199559],\n",
       "       [ 0.26335492, -0.92555649, -0.24203288, -0.12413481],\n",
       "       [-0.58125401, -0.02109478, -0.14089226, -0.80115427],\n",
       "       [-0.56561105, -0.06541577, -0.6338014 ,  0.52354627]])"
      ]
     },
     "execution_count": 16,
     "metadata": {},
     "output_type": "execute_result"
    }
   ],
   "source": [
    "u, s, v = np.linalg.svd(X_std.T)\n",
    "u"
   ]
  },
  {
   "cell_type": "markdown",
   "metadata": {
    "collapsed": true
   },
   "source": [
    "### PC 선택하기"
   ]
  },
  {
   "cell_type": "code",
   "execution_count": 92,
   "metadata": {},
   "outputs": [
    {
     "data": {
      "text/plain": [
       "[(2.9108180837520523,\n",
       "  array([ 0.52237162, -0.26335492,  0.58125401,  0.56561105])),\n",
       " (0.92122093070722455,\n",
       "  array([-0.37231836, -0.92555649, -0.02109478, -0.06541577])),\n",
       " (0.14735327830509562,\n",
       "  array([-0.72101681,  0.24203288,  0.14089226,  0.6338014 ])),\n",
       " (0.020607707235624929,\n",
       "  array([ 0.26199559, -0.12413481, -0.80115427,  0.52354627]))]"
      ]
     },
     "execution_count": 92,
     "metadata": {},
     "output_type": "execute_result"
    }
   ],
   "source": [
    "eig_pairs = [(np.abs(eig_vals[i]), eig_vecs[:,i]) for i in range(len(eig_vals))]\n",
    "eig_pairs.sort(key = lambda x: x[0], reverse=True)\n",
    "eig_pairs"
   ]
  },
  {
   "cell_type": "code",
   "execution_count": 93,
   "metadata": {},
   "outputs": [
    {
     "data": {
      "text/plain": [
       "array([ 0.52237162, -0.26335492,  0.58125401,  0.56561105])"
      ]
     },
     "execution_count": 93,
     "metadata": {},
     "output_type": "execute_result"
    }
   ],
   "source": [
    "eig_pairs[0][1]"
   ]
  },
  {
   "cell_type": "code",
   "execution_count": 94,
   "metadata": {},
   "outputs": [
    {
     "data": {
      "text/plain": [
       "array([ 0.52237162, -0.37231836, -0.72101681,  0.26199559])"
      ]
     },
     "execution_count": 94,
     "metadata": {},
     "output_type": "execute_result"
    }
   ],
   "source": [
    "eig_vecs[0]"
   ]
  },
  {
   "cell_type": "code",
   "execution_count": 22,
   "metadata": {},
   "outputs": [
    {
     "name": "stdout",
     "output_type": "stream",
     "text": [
      "eigen value 내림차순으로 정렬\n",
      "2.91081808375\n",
      "0.921220930707\n",
      "0.147353278305\n",
      "0.0206077072356\n"
     ]
    }
   ],
   "source": [
    "print(\"eigen value 내림차순으로 정렬\")\n",
    "for i in eig_pairs:\n",
    "    print(i[0])"
   ]
  },
  {
   "cell_type": "code",
   "execution_count": 17,
   "metadata": {
    "collapsed": true
   },
   "outputs": [],
   "source": [
    "total = sum(eig_vals)"
   ]
  },
  {
   "cell_type": "code",
   "execution_count": 19,
   "metadata": {},
   "outputs": [
    {
     "name": "stdout",
     "output_type": "stream",
     "text": [
      "[72.770452093801353, 23.030523267680632, 3.6838319576273935, 0.51519268089062353]\n",
      "[  72.77045209   95.80097536   99.48480732  100.        ]\n"
     ]
    },
    {
     "data": {
      "image/png": "[encoded data removed]",
      "text/plain": [
       "<matplotlib.figure.Figure at 0x11f907128>"
      ]
     },
     "metadata": {},
     "output_type": "display_data"
    }
   ],
   "source": [
    "%matplotlib inline\n",
    "\n",
    "import matplotlib.pyplot as plt\n",
    "explained_var = [(i/total) * 100 for i in sorted(eig_vals, reverse=True)]\n",
    "cum_var = np.cumsum(explained_var)\n",
    "print(explained_var)\n",
    "print(cum_var)\n",
    "\n",
    "with plt.style.context('seaborn-darkgrid'):\n",
    "    plt.bar(range(len(explained_var)), explained_var, align='center',\n",
    "            label='individual explained variance')\n",
    "    plt.step(range(len(explained_var)), cum_var, where='mid',\n",
    "             label='cumulative explained variance', color=\"red\")\n",
    "    plt.ylabel(\"Cumulative variance\")\n",
    "    plt.xlabel(\"Principal components\")\n",
    "    plt.tight_layout()\n",
    "    plt.legend(loc='best')\n",
    "    plt.show()"
   ]
  },
  {
   "cell_type": "markdown",
   "metadata": {},
   "source": [
    "### 새로운 피쳐스페이스로 투영하는 projection matrix를 만들어보자"
   ]
  },
  {
   "cell_type": "code",
   "execution_count": 64,
   "metadata": {
    "collapsed": true
   },
   "outputs": [],
   "source": [
    "pc = 2\n",
    "projection_matrix  = np.hstack((eig_pairs[i][1].reshape(len(eig_vals),1)) for i in range(pc))"
   ]
  },
  {
   "cell_type": "code",
   "execution_count": 65,
   "metadata": {},
   "outputs": [
    {
     "data": {
      "text/plain": [
       "array([[ 0.52237162, -0.37231836],\n",
       "       [-0.26335492, -0.92555649],\n",
       "       [ 0.58125401, -0.02109478],\n",
       "       [ 0.56561105, -0.06541577]])"
      ]
     },
     "execution_count": 65,
     "metadata": {},
     "output_type": "execute_result"
    }
   ],
   "source": [
    "projection_matrix"
   ]
  },
  {
   "cell_type": "code",
   "execution_count": 69,
   "metadata": {
    "collapsed": true
   },
   "outputs": [],
   "source": [
    "Y = X_std.dot(projection_matrix)"
   ]
  },
  {
   "cell_type": "code",
   "execution_count": 193,
   "metadata": {},
   "outputs": [
    {
     "data": {
      "text/plain": [
       "(150, 2)"
      ]
     },
     "execution_count": 193,
     "metadata": {},
     "output_type": "execute_result"
    }
   ],
   "source": [
    "np.shape(Y)"
   ]
  },
  {
   "cell_type": "code",
   "execution_count": 197,
   "metadata": {},
   "outputs": [
    {
     "data": {
      "text/plain": [
       "array([[ -2.26454173e+00,  -5.05703903e-01],\n",
       "       [ -2.08642550e+00,   6.55404729e-01],\n",
       "       [ -2.36795045e+00,   3.18477311e-01],\n",
       "       [ -2.30419716e+00,   5.75367713e-01],\n",
       "       [ -2.38877749e+00,  -6.74767397e-01],\n",
       "       [ -2.07053681e+00,  -1.51854856e+00],\n",
       "       [ -2.44571134e+00,  -7.45626750e-02],\n",
       "       [ -2.23384186e+00,  -2.47613932e-01],\n",
       "       [ -2.34195768e+00,   1.09514636e+00],\n",
       "       [ -2.18867576e+00,   4.48629048e-01],\n",
       "       [ -2.16348656e+00,  -1.07059558e+00],\n",
       "       [ -2.32737775e+00,  -1.58587455e-01],\n",
       "       [ -2.22408272e+00,   7.09118158e-01],\n",
       "       [ -2.63971626e+00,   9.38281982e-01],\n",
       "       [ -2.19229151e+00,  -1.88997851e+00],\n",
       "       [ -2.25146521e+00,  -2.72237108e+00],\n",
       "       [ -2.20275048e+00,  -1.51375028e+00],\n",
       "       [ -2.19017916e+00,  -5.14304308e-01],\n",
       "       [ -1.89407429e+00,  -1.43111071e+00],\n",
       "       [ -2.33994907e+00,  -1.15803343e+00],\n",
       "       [ -1.91455639e+00,  -4.30465163e-01],\n",
       "       [ -2.20464540e+00,  -9.52457317e-01],\n",
       "       [ -2.77416979e+00,  -4.89517027e-01],\n",
       "       [ -1.82041156e+00,  -1.06750793e-01],\n",
       "       [ -2.22821750e+00,  -1.62186163e-01],\n",
       "       [ -1.95702401e+00,   6.07892567e-01],\n",
       "       [ -2.05206331e+00,  -2.66014312e-01],\n",
       "       [ -2.16819365e+00,  -5.52016495e-01],\n",
       "       [ -2.14030596e+00,  -3.36640409e-01],\n",
       "       [ -2.26879019e+00,   3.14878603e-01],\n",
       "       [ -2.14455443e+00,   4.83942097e-01],\n",
       "       [ -1.83193810e+00,  -4.45266836e-01],\n",
       "       [ -2.60820287e+00,  -1.82847519e+00],\n",
       "       [ -2.43795086e+00,  -2.18539162e+00],\n",
       "       [ -2.18867576e+00,   4.48629048e-01],\n",
       "       [ -2.21111990e+00,   1.84337811e-01],\n",
       "       [ -2.04441652e+00,  -6.84956426e-01],\n",
       "       [ -2.18867576e+00,   4.48629048e-01],\n",
       "       [ -2.43595220e+00,   8.82169415e-01],\n",
       "       [ -2.17054720e+00,  -2.92726955e-01],\n",
       "       [ -2.28652724e+00,  -4.67991716e-01],\n",
       "       [ -1.87170722e+00,   2.32769161e+00],\n",
       "       [ -2.55783442e+00,   4.53816380e-01],\n",
       "       [ -1.96427929e+00,  -4.97391640e-01],\n",
       "       [ -2.13337283e+00,  -1.17143211e+00],\n",
       "       [ -2.07535759e+00,   6.91917347e-01],\n",
       "       [ -2.38125822e+00,  -1.15063259e+00],\n",
       "       [ -2.39819169e+00,   3.62390765e-01],\n",
       "       [ -2.22678121e+00,  -1.02548255e+00],\n",
       "       [ -2.20595417e+00,  -3.22378453e-02],\n",
       "       [  1.10399365e+00,  -8.63112446e-01],\n",
       "       [  7.32481440e-01,  -5.98635573e-01],\n",
       "       [  1.24210951e+00,  -6.14822450e-01],\n",
       "       [  3.97307283e-01,   1.75816895e+00],\n",
       "       [  1.07259395e+00,   2.11757903e-01],\n",
       "       [  3.84458146e-01,   5.91062469e-01],\n",
       "       [  7.48715076e-01,  -7.78698611e-01],\n",
       "       [ -4.97863388e-01,   1.84886877e+00],\n",
       "       [  9.26222368e-01,  -3.03308268e-02],\n",
       "       [  4.96802558e-03,   1.02940111e+00],\n",
       "       [ -1.24697461e-01,   2.65806268e+00],\n",
       "       [  4.38730118e-01,   5.88812850e-02],\n",
       "       [  5.51633981e-01,   1.77258156e+00],\n",
       "       [  7.17165066e-01,   1.85434315e-01],\n",
       "       [ -3.72583830e-02,   4.32795099e-01],\n",
       "       [  8.75890536e-01,  -5.09998151e-01],\n",
       "       [  3.48006402e-01,   1.90621647e-01],\n",
       "       [  1.53392545e-01,   7.90725456e-01],\n",
       "       [  1.21530321e+00,   1.63335564e+00],\n",
       "       [  1.56941176e-01,   1.30310327e+00],\n",
       "       [  7.38256104e-01,  -4.02470382e-01],\n",
       "       [  4.72369682e-01,   4.16608222e-01],\n",
       "       [  1.22798821e+00,   9.40914793e-01],\n",
       "       [  6.29381045e-01,   4.16811643e-01],\n",
       "       [  7.00472799e-01,   6.34939277e-02],\n",
       "       [  8.73536987e-01,  -2.50708611e-01],\n",
       "       [  1.25422219e+00,   8.26200998e-02],\n",
       "       [  1.35823985e+00,  -3.28820266e-01],\n",
       "       [  6.62126138e-01,   2.24346071e-01],\n",
       "       [ -4.72815133e-02,   1.05721241e+00],\n",
       "       [  1.21534209e-01,   1.56359238e+00],\n",
       "       [  1.41182261e-02,   1.57339235e+00],\n",
       "       [  2.36010837e-01,   7.75923784e-01],\n",
       "       [  1.05669143e+00,   6.36901284e-01],\n",
       "       [  2.21417088e-01,   2.80847693e-01],\n",
       "       [  4.31783161e-01,  -8.55136920e-01],\n",
       "       [  1.04941336e+00,  -5.22197265e-01],\n",
       "       [  1.03587821e+00,   1.39246648e+00],\n",
       "       [  6.70675999e-02,   2.12620735e-01],\n",
       "       [  2.75425066e-01,   1.32981591e+00],\n",
       "       [  2.72335066e-01,   1.11944152e+00],\n",
       "       [  6.23170540e-01,  -2.75426333e-02],\n",
       "       [  3.30005364e-01,   9.88900732e-01],\n",
       "       [ -3.73627623e-01,   2.01793227e+00],\n",
       "       [  2.82944343e-01,   8.53950717e-01],\n",
       "       [  8.90531103e-02,   1.74908548e-01],\n",
       "       [  2.24356783e-01,   3.80484659e-01],\n",
       "       [  5.73883486e-01,   1.53719974e-01],\n",
       "       [ -4.57012873e-01,   1.53946451e+00],\n",
       "       [  2.52244473e-01,   5.95860746e-01],\n",
       "       [  1.84767259e+00,  -8.71696662e-01],\n",
       "       [  1.15318981e+00,   7.01326114e-01],\n",
       "       [  2.20634950e+00,  -5.54470105e-01],\n",
       "       [  1.43868540e+00,   5.00105223e-02],\n",
       "       [  1.86789070e+00,  -2.91192802e-01],\n",
       "       [  2.75419671e+00,  -7.88432206e-01],\n",
       "       [  3.58374475e-01,   1.56009458e+00],\n",
       "       [  2.30300590e+00,  -4.09516695e-01],\n",
       "       [  2.00173530e+00,   7.23865359e-01],\n",
       "       [  2.26755460e+00,  -1.92144299e+00],\n",
       "       [  1.36590943e+00,  -6.93948040e-01],\n",
       "       [  1.59906459e+00,   4.28248836e-01],\n",
       "       [  1.88425185e+00,  -4.14332758e-01],\n",
       "       [  1.25308651e+00,   1.16739134e+00],\n",
       "       [  1.46406152e+00,   4.44147569e-01],\n",
       "       [  1.59180930e+00,  -6.77035372e-01],\n",
       "       [  1.47128019e+00,  -2.53192472e-01],\n",
       "       [  2.43737848e+00,  -2.55675734e+00],\n",
       "       [  3.30914118e+00,   2.36132010e-03],\n",
       "       [  1.25398099e+00,   1.71758384e+00],\n",
       "       [  2.04049626e+00,  -9.07398765e-01],\n",
       "       [  9.73915114e-01,   5.71174376e-01],\n",
       "       [  2.89806444e+00,  -3.97791359e-01],\n",
       "       [  1.32919369e+00,   4.86760542e-01],\n",
       "       [  1.70424071e+00,  -1.01414842e+00],\n",
       "       [  1.95772766e+00,  -1.00333452e+00],\n",
       "       [  1.17190451e+00,   3.18896617e-01],\n",
       "       [  1.01978105e+00,  -6.55429631e-02],\n",
       "       [  1.78600886e+00,   1.93272800e-01],\n",
       "       [  1.86477791e+00,  -5.55381532e-01],\n",
       "       [  2.43549739e+00,  -2.46654468e-01],\n",
       "       [  2.31608241e+00,  -2.62618387e+00],\n",
       "       [  1.86037143e+00,   1.84672394e-01],\n",
       "       [  1.11127173e+00,   2.95986102e-01],\n",
       "       [  1.19746916e+00,   8.17167742e-01],\n",
       "       [  2.80094940e+00,  -8.44748194e-01],\n",
       "       [  1.58015525e+00,  -1.07247450e+00],\n",
       "       [  1.34704442e+00,  -4.22255966e-01],\n",
       "       [  9.23432978e-01,  -1.92303705e-02],\n",
       "       [  1.85355198e+00,  -6.72422729e-01],\n",
       "       [  2.01615720e+00,  -6.10397038e-01],\n",
       "       [  1.90311686e+00,  -6.86024832e-01],\n",
       "       [  1.15318981e+00,   7.01326114e-01],\n",
       "       [  2.04330844e+00,  -8.64684880e-01],\n",
       "       [  2.00169097e+00,  -1.04855005e+00],\n",
       "       [  1.87052207e+00,  -3.82821838e-01],\n",
       "       [  1.55849189e+00,   9.05313601e-01],\n",
       "       [  1.52084506e+00,  -2.66794575e-01],\n",
       "       [  1.37639119e+00,  -1.01636193e+00],\n",
       "       [  9.59298576e-01,   2.22839447e-02]])"
      ]
     },
     "execution_count": 197,
     "metadata": {},
     "output_type": "execute_result"
    }
   ],
   "source": [
    "Y"
   ]
  },
  {
   "cell_type": "code",
   "execution_count": 78,
   "metadata": {
    "collapsed": true
   },
   "outputs": [],
   "source": [
    "label = df['class'].unique()"
   ]
  },
  {
   "cell_type": "code",
   "execution_count": 202,
   "metadata": {},
   "outputs": [
    {
     "data": {
      "text/plain": [
       "array(['Iris-setosa', 'Iris-versicolor', 'Iris-virginica'], dtype=object)"
      ]
     },
     "execution_count": 202,
     "metadata": {},
     "output_type": "execute_result"
    }
   ],
   "source": [
    "label"
   ]
  },
  {
   "cell_type": "code",
   "execution_count": 218,
   "metadata": {},
   "outputs": [
    {
     "data": {
      "image/png": "[encoded data removed]",
      "text/plain": [
       "<matplotlib.figure.Figure at 0x11fa1f780>"
      ]
     },
     "metadata": {},
     "output_type": "display_data"
    }
   ],
   "source": [
    "with plt.style.context(\"seaborn-darkgrid\"):\n",
    "    for l in zip(label):\n",
    "        plt.scatter(Y[y==l,0], Y[y==l,1],\n",
    "                    label=l)\n",
    "    plt.xlabel(\"PC 1\")\n",
    "    plt.ylabel(\"PC 2\")\n",
    "    plt.legend()\n",
    "    plt.show()"
   ]
  },
  {
   "cell_type": "markdown",
   "metadata": {},
   "source": [
    "## scikit-learn패키지를 이용하여 구해보기"
   ]
  },
  {
   "cell_type": "code",
   "execution_count": 83,
   "metadata": {
    "collapsed": true
   },
   "outputs": [],
   "source": [
    "from sklearn.decomposition import PCA as sklearnPCA\n",
    "pca = sklearnPCA(n_components=2)\n",
    "Y_ = pca.fit_transform(X_std)"
   ]
  },
  {
   "cell_type": "code",
   "execution_count": 220,
   "metadata": {},
   "outputs": [
    {
     "data": {
      "image/png": "[encoded data removed]",
      "text/plain": [
       "<matplotlib.figure.Figure at 0x11ec48b38>"
      ]
     },
     "metadata": {},
     "output_type": "display_data"
    }
   ],
   "source": [
    "label = np.unique(label)\n",
    "with plt.style.context(\"seaborn-darkgrid\"):  \n",
    "    for l in label:\n",
    "        plt.scatter(Y_[y==l,0], Y_[y==l,1],label=l)\n",
    "    plt.xlabel(\"PC 1\")\n",
    "    plt.ylabel(\"PC 2\")\n",
    "    plt.legend()\n",
    "    plt.show() "
   ]
  },
  {
   "cell_type": "code",
   "execution_count": 20,
   "metadata": {
    "collapsed": true
   },
   "outputs": [],
   "source": [
    "class PCA_jay:\n",
    "    def __init__(self, input_data, label=0):\n",
    "        self.data = input_data\n",
    "        self.label = label\n",
    "    \n",
    "    def eigen(self):\n",
    "        self.X_std = (self.data - np.mean(self.data, axis=0)) / np.std(self.data, axis=0)\n",
    "        mean_vec = np.mean(self.X_std, axis=0)\n",
    "        cov_mat = (self.X_std - mean_vec).T.dot((self.X_std - mean_vec)) / (self.X_std.shape[0]-1)\n",
    "        self.eig_vals, self.eig_vecs = np.linalg.eig(cov_mat)\n",
    "        return self.eig_vals, self.eig_vecs\n",
    "    \n",
    "    def projection(self, n_components=2):\n",
    "        eig_pairs = [(np.abs(self.eig_vals[i]), self.eig_vecs[:,i]) for i in range(len(self.eig_vals))]\n",
    "        eig_pairs.sort(key = lambda x: x[0], reverse=True)\n",
    "        projection_matrix  = np.hstack((eig_pairs[i][1].reshape(len(self.eig_vals),1)) for i in range(n_components))\n",
    "        self.Y = self.X_std.dot(projection_matrix)\n",
    "        return self.Y\n",
    "    \n",
    "    def scree_plot(self):\n",
    "        total = sum(self.eig_vals)\n",
    "        explained_var = [(i/total) * 100 for i in sorted(self.eig_vals, reverse=True)]\n",
    "        cum_var = np.cumsum(explained_var)\n",
    "\n",
    "        with plt.style.context('seaborn-darkgrid'):\n",
    "            \n",
    "            plt.bar(range(len(explained_var)), explained_var, align='center',\n",
    "                    label='individual explained variance')\n",
    "            plt.step(range(len(explained_var)), cum_var, where='mid',\n",
    "                     label='cumulative explained variance',color = \"red\")\n",
    "            plt.ylabel(\"Cumulative variance\")\n",
    "            plt.xlabel(\"Principal components\")\n",
    "            plt.tight_layout()\n",
    "            plt.legend(loc='best')\n",
    "            plt.show()\n",
    "            \n",
    "    def pca_plot(self):\n",
    "        label = np.unique(self.label)\n",
    "        with plt.style.context(\"seaborn-darkgrid\"):  \n",
    "            for l in label:\n",
    "                plt.scatter(self.Y[y==l,0], self.Y[y==l,1],label=l)\n",
    "            plt.xlabel(\"PC 1\")\n",
    "            plt.ylabel(\"PC 2\")\n",
    "            plt.legend()\n",
    "            plt.show() \n",
    "\n",
    "        "
   ]
  },
  {
   "cell_type": "code",
   "execution_count": 21,
   "metadata": {
    "collapsed": true
   },
   "outputs": [],
   "source": [
    "test = PCA_jay(input_data=X, label=y)"
   ]
  },
  {
   "cell_type": "code",
   "execution_count": 22,
   "metadata": {
    "scrolled": false
   },
   "outputs": [
    {
     "name": "stdout",
     "output_type": "stream",
     "text": [
      "Eigen values \n",
      " [ 2.93035378  0.92740362  0.14834223  0.02074601]\n",
      "Eigen vectors \n",
      " [[ 0.52237162 -0.37231836 -0.72101681  0.26199559]\n",
      " [-0.26335492 -0.92555649  0.24203288 -0.12413481]\n",
      " [ 0.58125401 -0.02109478  0.14089226 -0.80115427]\n",
      " [ 0.56561105 -0.06541577  0.6338014   0.52354627]]\n"
     ]
    }
   ],
   "source": [
    "eigen_values, eigen_vectors = test.eigen()\n",
    "print(\"Eigen values \\n {}\".format(eigen_values))\n",
    "print(\"Eigen vectors \\n {}\".format(eigen_vectors))"
   ]
  },
  {
   "cell_type": "code",
   "execution_count": 23,
   "metadata": {},
   "outputs": [
    {
     "name": "stdout",
     "output_type": "stream",
     "text": [
      "Projected values \n",
      " [[ -2.26454173e+00  -5.05703903e-01]\n",
      " [ -2.08642550e+00   6.55404729e-01]\n",
      " [ -2.36795045e+00   3.18477311e-01]\n",
      " [ -2.30419716e+00   5.75367713e-01]\n",
      " [ -2.38877749e+00  -6.74767397e-01]\n",
      " [ -2.07053681e+00  -1.51854856e+00]\n",
      " [ -2.44571134e+00  -7.45626750e-02]\n",
      " [ -2.23384186e+00  -2.47613932e-01]\n",
      " [ -2.34195768e+00   1.09514636e+00]\n",
      " [ -2.18867576e+00   4.48629048e-01]\n",
      " [ -2.16348656e+00  -1.07059558e+00]\n",
      " [ -2.32737775e+00  -1.58587455e-01]\n",
      " [ -2.22408272e+00   7.09118158e-01]\n",
      " [ -2.63971626e+00   9.38281982e-01]\n",
      " [ -2.19229151e+00  -1.88997851e+00]\n",
      " [ -2.25146521e+00  -2.72237108e+00]\n",
      " [ -2.20275048e+00  -1.51375028e+00]\n",
      " [ -2.19017916e+00  -5.14304308e-01]\n",
      " [ -1.89407429e+00  -1.43111071e+00]\n",
      " [ -2.33994907e+00  -1.15803343e+00]\n",
      " [ -1.91455639e+00  -4.30465163e-01]\n",
      " [ -2.20464540e+00  -9.52457317e-01]\n",
      " [ -2.77416979e+00  -4.89517027e-01]\n",
      " [ -1.82041156e+00  -1.06750793e-01]\n",
      " [ -2.22821750e+00  -1.62186163e-01]\n",
      " [ -1.95702401e+00   6.07892567e-01]\n",
      " [ -2.05206331e+00  -2.66014312e-01]\n",
      " [ -2.16819365e+00  -5.52016495e-01]\n",
      " [ -2.14030596e+00  -3.36640409e-01]\n",
      " [ -2.26879019e+00   3.14878603e-01]\n",
      " [ -2.14455443e+00   4.83942097e-01]\n",
      " [ -1.83193810e+00  -4.45266836e-01]\n",
      " [ -2.60820287e+00  -1.82847519e+00]\n",
      " [ -2.43795086e+00  -2.18539162e+00]\n",
      " [ -2.18867576e+00   4.48629048e-01]\n",
      " [ -2.21111990e+00   1.84337811e-01]\n",
      " [ -2.04441652e+00  -6.84956426e-01]\n",
      " [ -2.18867576e+00   4.48629048e-01]\n",
      " [ -2.43595220e+00   8.82169415e-01]\n",
      " [ -2.17054720e+00  -2.92726955e-01]\n",
      " [ -2.28652724e+00  -4.67991716e-01]\n",
      " [ -1.87170722e+00   2.32769161e+00]\n",
      " [ -2.55783442e+00   4.53816380e-01]\n",
      " [ -1.96427929e+00  -4.97391640e-01]\n",
      " [ -2.13337283e+00  -1.17143211e+00]\n",
      " [ -2.07535759e+00   6.91917347e-01]\n",
      " [ -2.38125822e+00  -1.15063259e+00]\n",
      " [ -2.39819169e+00   3.62390765e-01]\n",
      " [ -2.22678121e+00  -1.02548255e+00]\n",
      " [ -2.20595417e+00  -3.22378453e-02]\n",
      " [  1.10399365e+00  -8.63112446e-01]\n",
      " [  7.32481440e-01  -5.98635573e-01]\n",
      " [  1.24210951e+00  -6.14822450e-01]\n",
      " [  3.97307283e-01   1.75816895e+00]\n",
      " [  1.07259395e+00   2.11757903e-01]\n",
      " [  3.84458146e-01   5.91062469e-01]\n",
      " [  7.48715076e-01  -7.78698611e-01]\n",
      " [ -4.97863388e-01   1.84886877e+00]\n",
      " [  9.26222368e-01  -3.03308268e-02]\n",
      " [  4.96802558e-03   1.02940111e+00]\n",
      " [ -1.24697461e-01   2.65806268e+00]\n",
      " [  4.38730118e-01   5.88812850e-02]\n",
      " [  5.51633981e-01   1.77258156e+00]\n",
      " [  7.17165066e-01   1.85434315e-01]\n",
      " [ -3.72583830e-02   4.32795099e-01]\n",
      " [  8.75890536e-01  -5.09998151e-01]\n",
      " [  3.48006402e-01   1.90621647e-01]\n",
      " [  1.53392545e-01   7.90725456e-01]\n",
      " [  1.21530321e+00   1.63335564e+00]\n",
      " [  1.56941176e-01   1.30310327e+00]\n",
      " [  7.38256104e-01  -4.02470382e-01]\n",
      " [  4.72369682e-01   4.16608222e-01]\n",
      " [  1.22798821e+00   9.40914793e-01]\n",
      " [  6.29381045e-01   4.16811643e-01]\n",
      " [  7.00472799e-01   6.34939277e-02]\n",
      " [  8.73536987e-01  -2.50708611e-01]\n",
      " [  1.25422219e+00   8.26200998e-02]\n",
      " [  1.35823985e+00  -3.28820266e-01]\n",
      " [  6.62126138e-01   2.24346071e-01]\n",
      " [ -4.72815133e-02   1.05721241e+00]\n",
      " [  1.21534209e-01   1.56359238e+00]\n",
      " [  1.41182261e-02   1.57339235e+00]\n",
      " [  2.36010837e-01   7.75923784e-01]\n",
      " [  1.05669143e+00   6.36901284e-01]\n",
      " [  2.21417088e-01   2.80847693e-01]\n",
      " [  4.31783161e-01  -8.55136920e-01]\n",
      " [  1.04941336e+00  -5.22197265e-01]\n",
      " [  1.03587821e+00   1.39246648e+00]\n",
      " [  6.70675999e-02   2.12620735e-01]\n",
      " [  2.75425066e-01   1.32981591e+00]\n",
      " [  2.72335066e-01   1.11944152e+00]\n",
      " [  6.23170540e-01  -2.75426333e-02]\n",
      " [  3.30005364e-01   9.88900732e-01]\n",
      " [ -3.73627623e-01   2.01793227e+00]\n",
      " [  2.82944343e-01   8.53950717e-01]\n",
      " [  8.90531103e-02   1.74908548e-01]\n",
      " [  2.24356783e-01   3.80484659e-01]\n",
      " [  5.73883486e-01   1.53719974e-01]\n",
      " [ -4.57012873e-01   1.53946451e+00]\n",
      " [  2.52244473e-01   5.95860746e-01]\n",
      " [  1.84767259e+00  -8.71696662e-01]\n",
      " [  1.15318981e+00   7.01326114e-01]\n",
      " [  2.20634950e+00  -5.54470105e-01]\n",
      " [  1.43868540e+00   5.00105223e-02]\n",
      " [  1.86789070e+00  -2.91192802e-01]\n",
      " [  2.75419671e+00  -7.88432206e-01]\n",
      " [  3.58374475e-01   1.56009458e+00]\n",
      " [  2.30300590e+00  -4.09516695e-01]\n",
      " [  2.00173530e+00   7.23865359e-01]\n",
      " [  2.26755460e+00  -1.92144299e+00]\n",
      " [  1.36590943e+00  -6.93948040e-01]\n",
      " [  1.59906459e+00   4.28248836e-01]\n",
      " [  1.88425185e+00  -4.14332758e-01]\n",
      " [  1.25308651e+00   1.16739134e+00]\n",
      " [  1.46406152e+00   4.44147569e-01]\n",
      " [  1.59180930e+00  -6.77035372e-01]\n",
      " [  1.47128019e+00  -2.53192472e-01]\n",
      " [  2.43737848e+00  -2.55675734e+00]\n",
      " [  3.30914118e+00   2.36132010e-03]\n",
      " [  1.25398099e+00   1.71758384e+00]\n",
      " [  2.04049626e+00  -9.07398765e-01]\n",
      " [  9.73915114e-01   5.71174376e-01]\n",
      " [  2.89806444e+00  -3.97791359e-01]\n",
      " [  1.32919369e+00   4.86760542e-01]\n",
      " [  1.70424071e+00  -1.01414842e+00]\n",
      " [  1.95772766e+00  -1.00333452e+00]\n",
      " [  1.17190451e+00   3.18896617e-01]\n",
      " [  1.01978105e+00  -6.55429631e-02]\n",
      " [  1.78600886e+00   1.93272800e-01]\n",
      " [  1.86477791e+00  -5.55381532e-01]\n",
      " [  2.43549739e+00  -2.46654468e-01]\n",
      " [  2.31608241e+00  -2.62618387e+00]\n",
      " [  1.86037143e+00   1.84672394e-01]\n",
      " [  1.11127173e+00   2.95986102e-01]\n",
      " [  1.19746916e+00   8.17167742e-01]\n",
      " [  2.80094940e+00  -8.44748194e-01]\n",
      " [  1.58015525e+00  -1.07247450e+00]\n",
      " [  1.34704442e+00  -4.22255966e-01]\n",
      " [  9.23432978e-01  -1.92303705e-02]\n",
      " [  1.85355198e+00  -6.72422729e-01]\n",
      " [  2.01615720e+00  -6.10397038e-01]\n",
      " [  1.90311686e+00  -6.86024832e-01]\n",
      " [  1.15318981e+00   7.01326114e-01]\n",
      " [  2.04330844e+00  -8.64684880e-01]\n",
      " [  2.00169097e+00  -1.04855005e+00]\n",
      " [  1.87052207e+00  -3.82821838e-01]\n",
      " [  1.55849189e+00   9.05313601e-01]\n",
      " [  1.52084506e+00  -2.66794575e-01]\n",
      " [  1.37639119e+00  -1.01636193e+00]\n",
      " [  9.59298576e-01   2.22839447e-02]]\n"
     ]
    }
   ],
   "source": [
    "projection = test.projection(n_components=2)\n",
    "print(\"Projected values \\n {}\".format(projection))"
   ]
  },
  {
   "cell_type": "code",
   "execution_count": 24,
   "metadata": {},
   "outputs": [
    {
     "data": {
      "image/png": "[encoded data removed]",
      "text/plain": [
       "<matplotlib.figure.Figure at 0x11e37a630>"
      ]
     },
     "metadata": {},
     "output_type": "display_data"
    }
   ],
   "source": [
    "test.pca_plot()"
   ]
  },
  {
   "cell_type": "code",
   "execution_count": 25,
   "metadata": {},
   "outputs": [
    {
     "data": {
      "image/png": "[encoded data removed]",
      "text/plain": [
       "<matplotlib.figure.Figure at 0x11e37a160>"
      ]
     },
     "metadata": {},
     "output_type": "display_data"
    }
   ],
   "source": [
    "test.scree_plot()"
   ]
  },
  {
   "cell_type": "code",
   "execution_count": null,
   "metadata": {
    "collapsed": true
   },
   "outputs": [],
   "source": []
  }
 ],
 "metadata": {
  "kernelspec": {
   "display_name": "Python 3",
   "language": "python",
   "name": "python3"
  },
  "language_info": {
   "codemirror_mode": {
    "name": "ipython",
    "version": 3
   },
   "file_extension": ".py",
   "mimetype": "text/x-python",
   "name": "python",
   "nbconvert_exporter": "python",
   "pygments_lexer": "ipython3",
   "version": "3.6.1"
  }
 },
 "nbformat": 4,
 "nbformat_minor": 2
}
