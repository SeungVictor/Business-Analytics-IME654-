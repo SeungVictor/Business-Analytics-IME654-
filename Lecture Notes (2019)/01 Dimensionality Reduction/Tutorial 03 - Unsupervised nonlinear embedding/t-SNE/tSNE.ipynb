{
 "cells": [
  {
   "cell_type": "code",
   "execution_count": 1,
   "metadata": {
    "collapsed": true
   },
   "outputs": [],
   "source": [
    "import numpy as np\n",
    "\n",
    "\n",
    "def neg_distance(X):\n",
    "    sum_X = np.sum(np.square(X), 1)\n",
    "    D = np.add(np.add(-2 * np.dot(X, X.T), sum_X).T, sum_X)\n",
    "    return -D\n",
    "\n",
    "\n",
    "def softmax(X):\n",
    "    e_x = np.exp(X - np.max(X, axis=1).reshape([-1, 1]))\n",
    "\n",
    "    np.fill_diagonal(e_x, 0.)\n",
    "\n",
    "    e_x = e_x + 1e-8\n",
    "\n",
    "    return e_x / e_x.sum(axis=1).reshape([-1, 1])\n",
    "\n",
    "\n",
    "def calc_prob_matrix(distances, sigmas=None):\n",
    "    if sigmas is not None:\n",
    "        two_sig_sq = 2. * np.square(sigmas.reshape((-1, 1)))\n",
    "        return softmax(distances / two_sig_sq)\n",
    "    else:\n",
    "        return softmax(distances)\n",
    "\n",
    "\n",
    "def _perplexity(prob_matrix):\n",
    "    entropy = -np.sum(prob_matrix * np.log2(prob_matrix), 1)\n",
    "    perplexity = 2 ** entropy\n",
    "    return perplexity\n",
    "\n",
    "\n",
    "def perplexity(distances, sigmas):\n",
    "    return _perplexity(calc_prob_matrix(distances, sigmas))\n",
    "\n",
    "\n",
    "\n",
    "def binary_search(fn, target, tol=1e-10, max_iter=10000,\n",
    "                  lower=1e-20, upper=1000.):\n",
    "    for i in range(max_iter):\n",
    "        guess = (lower + upper) / 2.\n",
    "        val = fn(guess)\n",
    "        if val > target:\n",
    "            upper = guess\n",
    "        else:\n",
    "            lower = guess\n",
    "        if np.abs(val - target) <= tol:\n",
    "            break\n",
    "    return guess\n",
    "\n",
    "\n",
    "def find_optimal_sigmas(distances, target_perplexity):\n",
    "    sigmas = []\n",
    "    # For each row of the matrix (each point in our dataset)\n",
    "    for i in range(distances.shape[0]):\n",
    "        # Make fn that returns perplexity of this row given sigma\n",
    "        fn = lambda sigma: \\\n",
    "            perplexity(distances[i:i+1, :], np.array(sigma))\n",
    "        # Binary search over sigmas to achieve target perplexity\n",
    "        correct_sigma = binary_search(fn, target_perplexity)\n",
    "        # Append the resulting sigma to our output array\n",
    "        sigmas.append(correct_sigma)\n",
    "    return np.array(sigmas)\n",
    "\n",
    "\n",
    "def p_conditional_to_joint(P):\n",
    "    return (P + P.T) / (2. * P.shape[0])\n",
    "\n",
    "def p_joint(X, target_perplexity):\n",
    "    distances = neg_distance(X)\n",
    "    sigmas = find_optimal_sigmas(distances, target_perplexity)\n",
    "    p_conditional = calc_prob_matrix(distances, sigmas)\n",
    "    P = p_conditional_to_joint(p_conditional)\n",
    "    return P\n",
    "\n",
    "def q_joint(Y):\n",
    "    inv_distances = neg_distance(Y)\n",
    "    distances = np.power(1. - inv_distances, -1)\n",
    "    np.fill_diagonal(distances, 0.)\n",
    "    return distances / np.sum(distances), distances\n",
    "\n",
    "\n",
    "def tsne_grad(P, Q, Y, distances):\n",
    "    pq_diff = P - Q\n",
    "    pq_expanded = np.expand_dims(pq_diff, 2)\n",
    "\n",
    "    y_diffs = np.expand_dims(Y, 1) - np.expand_dims(Y, 0)\n",
    "    distances_expanded = np.expand_dims(distances, 2)\n",
    "    y_diffs_wt = y_diffs * distances_expanded\n",
    "\n",
    "    # Multiply then sum over j's\n",
    "    grad = 4. * (pq_expanded * y_diffs_wt).sum(1)\n",
    "    return grad\n",
    "\n",
    "\n",
    "\n",
    "def t_SNE(X, num_component, num_iters = 500, learning_rate = 10., momentum = .9):\n",
    "\n",
    "    Y = np.random.normal(0., 0.0001,[X.shape[0], num_component])\n",
    "    P = p_joint(X, 20)\n",
    "\n",
    "    # Initialise past values (used for momentum)\n",
    "    if momentum:\n",
    "        Y_m2 = Y\n",
    "        Y_m1 = Y\n",
    "\n",
    "    # Start gradient descent loop\n",
    "    for i in range(num_iters):\n",
    "\n",
    "        # Get Q and distances\n",
    "        Q, distances = q_joint(Y)\n",
    "\n",
    "        # Cal gradients\n",
    "        grads = tsne_grad(P, Q, Y, distances)\n",
    "\n",
    "        # Update Y\n",
    "        Y = Y - learning_rate * grads\n",
    "        if momentum:\n",
    "            Y += momentum * (Y_m1 - Y_m2)\n",
    "            # Update previous Y's for momentum\n",
    "            Y_m2 = Y_m1\n",
    "            Y_m1 = Y\n",
    "\n",
    "    return Y\n",
    "\n"
   ]
  },
  {
   "cell_type": "code",
   "execution_count": 79,
   "metadata": {},
   "outputs": [
    {
     "data": {
      "text/plain": [
       "400"
      ]
     },
     "execution_count": 79,
     "metadata": {},
     "output_type": "execute_result"
    }
   ],
   "source": [
    "(lambda x,y: x * y)(10,40)"
   ]
  },
  {
   "cell_type": "code",
   "execution_count": 58,
   "metadata": {},
   "outputs": [
    {
     "data": {
      "text/plain": [
       "range(0, 6)"
      ]
     },
     "execution_count": 58,
     "metadata": {},
     "output_type": "execute_result"
    }
   ],
   "source": [
    "x1 = range(6)\n",
    "x1 "
   ]
  },
  {
   "cell_type": "code",
   "execution_count": 60,
   "metadata": {},
   "outputs": [
    {
     "ename": "ValueError",
     "evalue": "Integers to negative integer powers are not allowed.",
     "output_type": "error",
     "traceback": [
      "\u001b[1;31m---------------------------------------------------------------------------\u001b[0m",
      "\u001b[1;31mValueError\u001b[0m                                Traceback (most recent call last)",
      "\u001b[1;32m<ipython-input-60-643c6ebab109>\u001b[0m in \u001b[0;36m<module>\u001b[1;34m()\u001b[0m\n\u001b[1;32m----> 1\u001b[1;33m \u001b[0mnp\u001b[0m\u001b[1;33m.\u001b[0m\u001b[0mpower\u001b[0m\u001b[1;33m(\u001b[0m\u001b[0mx1\u001b[0m\u001b[1;33m,\u001b[0m \u001b[1;33m-\u001b[0m\u001b[1;36m1\u001b[0m\u001b[1;33m)\u001b[0m\u001b[1;33m\u001b[0m\u001b[0m\n\u001b[0m",
      "\u001b[1;31mValueError\u001b[0m: Integers to negative integer powers are not allowed."
     ]
    }
   ],
   "source": [
    "np.power(x1, -1)"
   ]
  },
  {
   "cell_type": "code",
   "execution_count": null,
   "metadata": {
    "collapsed": true
   },
   "outputs": [],
   "source": []
  }
 ],
 "metadata": {
  "kernelspec": {
   "display_name": "Python 3",
   "language": "python",
   "name": "python3"
  },
  "language_info": {
   "codemirror_mode": {
    "name": "ipython",
    "version": 3
   },
   "file_extension": ".py",
   "mimetype": "text/x-python",
   "name": "python",
   "nbconvert_exporter": "python",
   "pygments_lexer": "ipython3",
   "version": "3.6.1"
  }
 },
 "nbformat": 4,
 "nbformat_minor": 2
}
