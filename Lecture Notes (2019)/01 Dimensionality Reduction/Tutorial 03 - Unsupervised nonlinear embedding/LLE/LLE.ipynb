{
 "cells": [
  {
   "cell_type": "code",
   "execution_count": 10,
   "metadata": {
    "collapsed": true
   },
   "outputs": [],
   "source": [
    "import numpy as np\n",
    "from scipy.sparse.linalg import eigsh\n",
    "\n",
    "def LLE(X, n_neighbors, n_components):\n",
    "\n",
    "    x_matrix = np.asmatrix(X).T\n",
    "    D, N = x_matrix.shape\n",
    "\n",
    "    sum_X = np.sum(np.square(X), 1)\n",
    "    D = np.add(np.add(-2 * np.dot(X, X.T), sum_X).T, sum_X)\n",
    "    distance = np.asmatrix(D)\n",
    "\n",
    "    index=np.argsort(distance,axis=0)\n",
    "    neighborhood = index[1:(n_neighbors+1),:]\n",
    "\n",
    "    W = np.zeros((n_neighbors,N))\n",
    "    tol = 1e-3\n",
    "\n",
    "\n",
    "    # for variables\n",
    "    for i in range(N):\n",
    "        z = x_matrix[:, np.array(neighborhood[:,i]).reshape(-1)] - np.tile(x_matrix[:,i],(1,n_neighbors)) # shift ith pt to origi\n",
    "        C = z.T*z # local covariance\n",
    "        C = C + np.eye(n_neighbors) * tol * np.trace(C)\n",
    "        I = np.ones((n_neighbors))\n",
    "        W[:,i] = np.linalg.solve(np.array(C),I)\n",
    "        W[:,i] = W[:,i]/sum(W[:,i])\n",
    "\n",
    "\n",
    "    M = np.eye(N)  # M = (I-W)' (I-W)\n",
    "\n",
    "    for i in range(N):\n",
    "        w = W[:, i]\n",
    "        j = neighborhood[:, i]\n",
    "        M[i, j] = M[i, j] - np.asmatrix(w).T\n",
    "        M[j, i] = M[j, i] - np.asmatrix(w).T\n",
    "        M[j, j] = M[j, j] + np.asmatrix(w*w.T).T\n",
    "\n",
    "    eigenvals, Y = eigsh(M, n_components + 1, tol=1e-3, sigma=0.0, maxiter = 100)\n",
    "\n",
    "    return Y[:, 1:], np.sum(eigenvals[1:])\n",
    "\n",
    "\n"
   ]
  },
  {
   "cell_type": "code",
   "execution_count": 20,
   "metadata": {
    "collapsed": true
   },
   "outputs": [],
   "source": [
    "from sklearn import (datasets,random_projection)\n",
    "from time import time\n",
    "import numpy as np\n",
    "import matplotlib.pyplot as plt\n",
    "from matplotlib import offsetbox\n",
    "from LLE import LLE\n",
    "\n",
    "\n",
    "digits = datasets.load_digits(n_class=6)\n",
    "X = digits.data\n",
    "y = digits.target\n",
    "n_samples, n_features = X.shape\n",
    "n_neighbors = 30"
   ]
  },
  {
   "cell_type": "code",
   "execution_count": 9,
   "metadata": {},
   "outputs": [
    {
     "name": "stdout",
     "output_type": "stream",
     "text": [
      "64 1083\n"
     ]
    }
   ],
   "source": [
    "x_matrix = np.asmatrix(X).T\n",
    "D, N = x_matrix.shape\n",
    "print(D, N)"
   ]
  },
  {
   "cell_type": "code",
   "execution_count": 13,
   "metadata": {},
   "outputs": [
    {
     "data": {
      "text/plain": [
       "matrix([[ 0.,  0.,  0., ...,  0.,  0.,  0.],\n",
       "        [ 0.,  0.,  0., ...,  0.,  0.,  0.],\n",
       "        [ 7.,  5.,  5., ...,  3.,  3.,  6.],\n",
       "        ..., \n",
       "        [ 3.,  1.,  2., ...,  3.,  9.,  5.],\n",
       "        [ 0.,  0.,  0., ...,  0.,  0.,  0.],\n",
       "        [ 0.,  0.,  0., ...,  0.,  0.,  0.]])"
      ]
     },
     "execution_count": 13,
     "metadata": {},
     "output_type": "execute_result"
    }
   ],
   "source": [
    "x_matrix[:, np.array(neighborhood[:,0]).reshape(-1)]"
   ]
  },
  {
   "cell_type": "code",
   "execution_count": 22,
   "metadata": {},
   "outputs": [
    {
     "data": {
      "text/plain": [
       "matrix([[ 0.,  0.,  0., ...,  0.,  0.,  0.],\n",
       "        [ 0.,  0.,  0., ...,  0.,  0.,  0.],\n",
       "        [ 5.,  5.,  5., ...,  5.,  5.,  5.],\n",
       "        ..., \n",
       "        [ 0.,  0.,  0., ...,  0.,  0.,  0.],\n",
       "        [ 0.,  0.,  0., ...,  0.,  0.,  0.],\n",
       "        [ 0.,  0.,  0., ...,  0.,  0.,  0.]])"
      ]
     },
     "execution_count": 22,
     "metadata": {},
     "output_type": "execute_result"
    }
   ],
   "source": [
    "np.tile(x_matrix[:,0],(1,n_neighbors))"
   ]
  },
  {
   "cell_type": "code",
   "execution_count": 30,
   "metadata": {},
   "outputs": [
    {
     "data": {
      "text/plain": [
       "array([[ 1.,  0.,  0.,  0.,  0.,  0.],\n",
       "       [ 0.,  1.,  0.,  0.,  0.,  0.],\n",
       "       [ 0.,  0.,  1.,  0.,  0.,  0.],\n",
       "       [ 0.,  0.,  0.,  1.,  0.,  0.],\n",
       "       [ 0.,  0.,  0.,  0.,  1.,  0.],\n",
       "       [ 0.,  0.,  0.,  0.,  0.,  1.]])"
      ]
     },
     "execution_count": 30,
     "metadata": {},
     "output_type": "execute_result"
    }
   ],
   "source": [
    "np.eye(6)"
   ]
  },
  {
   "cell_type": "code",
   "execution_count": 34,
   "metadata": {},
   "outputs": [],
   "source": [
    "W = np.zeros((n_neighbors,N))\n",
    "tol = 0.001\n",
    "for i in range(N):\n",
    "    z = x_matrix[:, np.array(neighborhood[:,i]).reshape(-1)] - np.tile(x_matrix[:,i],(1,n_neighbors)) # shift ith pt to origi\n",
    "    C = z.T*z # local covariance\n",
    "    C = C + np.eye(n_neighbors) * tol * np.trace(C)\n",
    "    I = np.ones((n_neighbors))\n",
    "    W[:,i] = np.linalg.solve(np.array(C),I)\n",
    "    W[:,i] = W[:,i]/sum(W[:,i])"
   ]
  },
  {
   "cell_type": "code",
   "execution_count": 36,
   "metadata": {
    "collapsed": true
   },
   "outputs": [],
   "source": [
    " M = np.eye(N)  # M = (I-W)' (I-W)"
   ]
  },
  {
   "cell_type": "code",
   "execution_count": 40,
   "metadata": {},
   "outputs": [
    {
     "data": {
      "text/plain": [
       "30"
      ]
     },
     "execution_count": 40,
     "metadata": {},
     "output_type": "execute_result"
    }
   ],
   "source": [
    "i = 0\n",
    "\n",
    "w = W[:, i]\n",
    "len(w)"
   ]
  },
  {
   "cell_type": "code",
   "execution_count": 42,
   "metadata": {},
   "outputs": [
    {
     "data": {
      "text/plain": [
       "30"
      ]
     },
     "execution_count": 42,
     "metadata": {},
     "output_type": "execute_result"
    }
   ],
   "source": [
    "j = neighborhood[:, i]\n",
    "len(j)"
   ]
  },
  {
   "cell_type": "code",
   "execution_count": 44,
   "metadata": {},
   "outputs": [
    {
     "data": {
      "text/plain": [
       "30"
      ]
     },
     "execution_count": 44,
     "metadata": {},
     "output_type": "execute_result"
    }
   ],
   "source": [
    "np.asmatrix(w).T\n",
    "len(np.asmatrix(w).T)"
   ]
  },
  {
   "cell_type": "code",
   "execution_count": null,
   "metadata": {
    "collapsed": true
   },
   "outputs": [],
   "source": []
  }
 ],
 "metadata": {
  "kernelspec": {
   "display_name": "Python 3",
   "language": "python",
   "name": "python3"
  },
  "language_info": {
   "codemirror_mode": {
    "name": "ipython",
    "version": 3
   },
   "file_extension": ".py",
   "mimetype": "text/x-python",
   "name": "python",
   "nbconvert_exporter": "python",
   "pygments_lexer": "ipython3",
   "version": "3.6.1"
  }
 },
 "nbformat": 4,
 "nbformat_minor": 2
}
