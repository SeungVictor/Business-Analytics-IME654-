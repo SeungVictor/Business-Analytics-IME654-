{
 "cells": [
  {
   "cell_type": "code",
   "execution_count": 1,
   "metadata": {
    "collapsed": true
   },
   "outputs": [],
   "source": [
    "class Graph(object):\n",
    "    \"\"\"\n",
    "    A simple undirected, weighted graph\n",
    "    \"\"\"\n",
    "\n",
    "    def __init__(self):\n",
    "        self.nodes = set()\n",
    "        self.edges = {}\n",
    "        self.distances = {}\n",
    "\n",
    "    def add_node(self, value):\n",
    "        self.nodes.add(value)\n",
    "\n",
    "    def add_edge(self, from_node, to_node, distance):\n",
    "        self._add_edge(from_node, to_node, distance)\n",
    "        self._add_edge(to_node, from_node, distance)\n",
    "\n",
    "    def _add_edge(self, from_node, to_node, distance):\n",
    "        self.edges.setdefault(from_node, [])\n",
    "        self.edges[from_node].append(to_node)\n",
    "        self.distances[(from_node, to_node)] = distance\n",
    "\n",
    "def dijkstra(graph, initial_node):\n",
    "    visited_dist = {initial_node: 0}\n",
    "\n",
    "    nodes = set(graph.nodes)\n",
    "\n",
    "    while nodes:\n",
    "        connected_node = None\n",
    "        for node in nodes:\n",
    "            if node in visited_dist:\n",
    "                if connected_node is None:\n",
    "                    connected_node = node\n",
    "                elif visited_dist[node] < visited_dist[connected_node]:\n",
    "                    connected_node = node\n",
    "\n",
    "        if connected_node is None:\n",
    "            break\n",
    "\n",
    "        nodes.remove(connected_node)\n",
    "        cur_wt = visited_dist[connected_node]\n",
    "\n",
    "        for edge in graph.edges[connected_node]:\n",
    "            wt = cur_wt + graph.distances[(connected_node, edge)]\n",
    "            if edge not in visited_dist or wt < visited_dist[edge]:\n",
    "                visited_dist[edge] = wt\n",
    "\n",
    "    return visited_dist\n",
    "\n"
   ]
  },
  {
   "cell_type": "code",
   "execution_count": 2,
   "metadata": {
    "collapsed": true
   },
   "outputs": [],
   "source": [
    "from sklearn import (datasets,random_projection)\n",
    "\n",
    "\n",
    "digits = datasets.load_digits(n_class=6)\n",
    "X = digits.data\n",
    "y = digits.target\n",
    "n_samples, n_features = X.shape\n",
    "n_neighbors = 30\n",
    "\n",
    "X_tmp = X[:10,:]"
   ]
  },
  {
   "cell_type": "code",
   "execution_count": 3,
   "metadata": {
    "collapsed": true
   },
   "outputs": [],
   "source": [
    "from sklearn.neighbors import NearestNeighbors, kneighbors_graph"
   ]
  },
  {
   "cell_type": "code",
   "execution_count": 4,
   "metadata": {},
   "outputs": [
    {
     "name": "stdout",
     "output_type": "stream",
     "text": [
      "0\n",
      "1\n",
      "2\n",
      "3\n",
      "4\n",
      "5\n",
      "6\n",
      "7\n",
      "8\n",
      "9\n"
     ]
    }
   ],
   "source": [
    "\n",
    "\n",
    "nbrs_ = NearestNeighbors(n_neighbors=2,algorithm='ball_tree',n_jobs=3)\n",
    "nbrs_.fit(X_tmp)\n",
    "\n",
    "kng = kneighbors_graph(X=nbrs_, n_neighbors=2, mode='distance')\n",
    "# Build Graph\n",
    "\n",
    "G = Graph()\n",
    "for i in range(len(X_tmp)):\n",
    "    G.add_node(i)\n",
    "\n",
    "# Set weight to edges\n",
    "for i in range(len(X_tmp)):\n",
    "    for j in range(i+1,len(X_tmp)):\n",
    "        if kng.toarray()[i][j] != 0:\n",
    "            G.add_edge(i, j, kng.toarray()[i][j])\n",
    "    print(i)"
   ]
  },
  {
   "cell_type": "code",
   "execution_count": 10,
   "metadata": {},
   "outputs": [
    {
     "data": {
      "text/plain": [
       "{0: [5, 6],\n",
       " 1: [2, 7],\n",
       " 2: [1, 7],\n",
       " 3: [5, 9],\n",
       " 4: [6, 7],\n",
       " 5: [0, 3, 9],\n",
       " 6: [0, 4],\n",
       " 7: [1, 2, 4],\n",
       " 9: [3, 5]}"
      ]
     },
     "execution_count": 10,
     "metadata": {},
     "output_type": "execute_result"
    }
   ],
   "source": [
    "G.edges"
   ]
  },
  {
   "cell_type": "code",
   "execution_count": 9,
   "metadata": {},
   "outputs": [
    {
     "data": {
      "text/plain": [
       "{(0, 5): 43.908996800200299,\n",
       " (0, 6): 23.706539182259394,\n",
       " (1, 2): 41.629316592997299,\n",
       " (1, 7): 35.128336140500593,\n",
       " (2, 1): 41.629316592997299,\n",
       " (2, 7): 42.485291572496003,\n",
       " (3, 5): 33.660065359413672,\n",
       " (3, 9): 29.051678092667899,\n",
       " (4, 6): 44.113490000225553,\n",
       " (4, 7): 44.463468150831417,\n",
       " (5, 0): 43.908996800200299,\n",
       " (5, 3): 33.660065359413672,\n",
       " (5, 9): 34.885527085024819,\n",
       " (6, 0): 23.706539182259394,\n",
       " (6, 4): 44.113490000225553,\n",
       " (7, 1): 35.128336140500593,\n",
       " (7, 2): 42.485291572496003,\n",
       " (7, 4): 44.463468150831417,\n",
       " (9, 3): 29.051678092667899,\n",
       " (9, 5): 34.885527085024819}"
      ]
     },
     "execution_count": 9,
     "metadata": {},
     "output_type": "execute_result"
    }
   ],
   "source": [
    "G.distances"
   ]
  },
  {
   "cell_type": "code",
   "execution_count": 13,
   "metadata": {},
   "outputs": [
    {
     "name": "stdout",
     "output_type": "stream",
     "text": [
      "visited_dist {3: 0}\n",
      "nodes {0, 1, 2, 3, 4, 5, 6, 7, 8, 9}\n",
      "connected_node None\n",
      "node 3\n",
      "connected_node 3\n",
      "modified_node {0, 1, 2, 4, 5, 6, 7, 8, 9}\n",
      "graph.edges {0: [5, 6], 5: [0, 3, 9], 6: [0, 4], 1: [2, 7], 2: [1, 7], 7: [1, 2, 4], 3: [5, 9], 9: [3, 5], 4: [6, 7]}\n",
      "connected_node 3\n",
      "graph.edges[connected_node] [5, 9]\n",
      "edge 5\n",
      "graph.edges[connected_node] [5, 9]\n",
      "edge 9\n",
      "{3: 0, 5: 33.660065359413672, 9: 29.051678092667899}\n",
      "connected_node None\n",
      "node 5\n",
      "connected_node 5\n",
      "node 9\n",
      "connected_node 9\n",
      "modified_node {0, 1, 2, 4, 5, 6, 7, 8}\n",
      "graph.edges {0: [5, 6], 5: [0, 3, 9], 6: [0, 4], 1: [2, 7], 2: [1, 7], 7: [1, 2, 4], 3: [5, 9], 9: [3, 5], 4: [6, 7]}\n",
      "connected_node 9\n",
      "graph.edges[connected_node] [3, 5]\n",
      "edge 3\n",
      "graph.edges[connected_node] [3, 5]\n",
      "edge 5\n",
      "{3: 0, 5: 33.660065359413672, 9: 29.051678092667899}\n",
      "connected_node None\n",
      "node 5\n",
      "connected_node 5\n",
      "modified_node {0, 1, 2, 4, 6, 7, 8}\n",
      "graph.edges {0: [5, 6], 5: [0, 3, 9], 6: [0, 4], 1: [2, 7], 2: [1, 7], 7: [1, 2, 4], 3: [5, 9], 9: [3, 5], 4: [6, 7]}\n",
      "connected_node 5\n",
      "graph.edges[connected_node] [0, 3, 9]\n",
      "edge 0\n",
      "graph.edges[connected_node] [0, 3, 9]\n",
      "edge 3\n",
      "graph.edges[connected_node] [0, 3, 9]\n",
      "edge 9\n",
      "{3: 0, 5: 33.660065359413672, 9: 29.051678092667899, 0: 77.569062159613964}\n",
      "connected_node None\n",
      "node 0\n",
      "connected_node 0\n",
      "modified_node {1, 2, 4, 6, 7, 8}\n",
      "graph.edges {0: [5, 6], 5: [0, 3, 9], 6: [0, 4], 1: [2, 7], 2: [1, 7], 7: [1, 2, 4], 3: [5, 9], 9: [3, 5], 4: [6, 7]}\n",
      "connected_node 0\n",
      "graph.edges[connected_node] [5, 6]\n",
      "edge 5\n",
      "graph.edges[connected_node] [5, 6]\n",
      "edge 6\n",
      "{3: 0, 5: 33.660065359413672, 9: 29.051678092667899, 0: 77.569062159613964, 6: 101.27560134187335}\n",
      "connected_node None\n",
      "node 6\n",
      "connected_node 6\n",
      "modified_node {1, 2, 4, 7, 8}\n",
      "graph.edges {0: [5, 6], 5: [0, 3, 9], 6: [0, 4], 1: [2, 7], 2: [1, 7], 7: [1, 2, 4], 3: [5, 9], 9: [3, 5], 4: [6, 7]}\n",
      "connected_node 6\n",
      "graph.edges[connected_node] [0, 4]\n",
      "edge 0\n",
      "graph.edges[connected_node] [0, 4]\n",
      "edge 4\n",
      "{3: 0, 5: 33.660065359413672, 9: 29.051678092667899, 0: 77.569062159613964, 6: 101.27560134187335, 4: 145.38909134209891}\n",
      "connected_node None\n",
      "node 4\n",
      "connected_node 4\n",
      "modified_node {1, 2, 7, 8}\n",
      "graph.edges {0: [5, 6], 5: [0, 3, 9], 6: [0, 4], 1: [2, 7], 2: [1, 7], 7: [1, 2, 4], 3: [5, 9], 9: [3, 5], 4: [6, 7]}\n",
      "connected_node 4\n",
      "graph.edges[connected_node] [6, 7]\n",
      "edge 6\n",
      "graph.edges[connected_node] [6, 7]\n",
      "edge 7\n",
      "{3: 0, 5: 33.660065359413672, 9: 29.051678092667899, 0: 77.569062159613964, 6: 101.27560134187335, 4: 145.38909134209891, 7: 189.85255949293031}\n",
      "connected_node None\n",
      "node 7\n",
      "connected_node 7\n",
      "modified_node {1, 2, 8}\n",
      "graph.edges {0: [5, 6], 5: [0, 3, 9], 6: [0, 4], 1: [2, 7], 2: [1, 7], 7: [1, 2, 4], 3: [5, 9], 9: [3, 5], 4: [6, 7]}\n",
      "connected_node 7\n",
      "graph.edges[connected_node] [1, 2, 4]\n",
      "edge 1\n",
      "graph.edges[connected_node] [1, 2, 4]\n",
      "edge 2\n",
      "graph.edges[connected_node] [1, 2, 4]\n",
      "edge 4\n",
      "{3: 0, 5: 33.660065359413672, 9: 29.051678092667899, 0: 77.569062159613964, 6: 101.27560134187335, 4: 145.38909134209891, 7: 189.85255949293031, 1: 224.98089563343092, 2: 232.33785106542632}\n",
      "connected_node None\n",
      "node 1\n",
      "connected_node 1\n",
      "node 2\n",
      "connected_node 1\n",
      "modified_node {2, 8}\n",
      "graph.edges {0: [5, 6], 5: [0, 3, 9], 6: [0, 4], 1: [2, 7], 2: [1, 7], 7: [1, 2, 4], 3: [5, 9], 9: [3, 5], 4: [6, 7]}\n",
      "connected_node 1\n",
      "graph.edges[connected_node] [2, 7]\n",
      "edge 2\n",
      "graph.edges[connected_node] [2, 7]\n",
      "edge 7\n",
      "{3: 0, 5: 33.660065359413672, 9: 29.051678092667899, 0: 77.569062159613964, 6: 101.27560134187335, 4: 145.38909134209891, 7: 189.85255949293031, 1: 224.98089563343092, 2: 232.33785106542632}\n",
      "connected_node None\n",
      "node 2\n",
      "connected_node 2\n",
      "modified_node {8}\n",
      "graph.edges {0: [5, 6], 5: [0, 3, 9], 6: [0, 4], 1: [2, 7], 2: [1, 7], 7: [1, 2, 4], 3: [5, 9], 9: [3, 5], 4: [6, 7]}\n",
      "connected_node 2\n",
      "graph.edges[connected_node] [1, 7]\n",
      "edge 1\n",
      "graph.edges[connected_node] [1, 7]\n",
      "edge 7\n",
      "{3: 0, 5: 33.660065359413672, 9: 29.051678092667899, 0: 77.569062159613964, 6: 101.27560134187335, 4: 145.38909134209891, 7: 189.85255949293031, 1: 224.98089563343092, 2: 232.33785106542632}\n",
      "connected_node None\n"
     ]
    }
   ],
   "source": [
    "graph = G\n",
    "initial_node =3\n",
    "\n",
    "visited_dist = {initial_node: 0}\n",
    "print(\"visited_dist\", visited_dist)\n",
    "nodes = set(graph.nodes)\n",
    "print(\"nodes\", nodes)\n",
    "\n",
    "while nodes:\n",
    "    connected_node = None\n",
    "    print(\"connected_node\", connected_node)\n",
    "    for node in nodes:\n",
    "        if node in visited_dist:\n",
    "            print(\"node\", node)\n",
    "            if connected_node is None:\n",
    "                connected_node = node\n",
    "            elif visited_dist[node] < visited_dist[connected_node]:\n",
    "                connected_node = node\n",
    "            print(\"connected_node\", connected_node)\n",
    "            \n",
    "    if connected_node is None:\n",
    "        break\n",
    "\n",
    "    nodes.remove(connected_node)\n",
    "    print(\"modified_node\", nodes)\n",
    "    cur_wt = visited_dist[connected_node]\n",
    "    \n",
    "    print(\"graph.edges\", graph.edges)\n",
    "    print(\"connected_node\", connected_node)\n",
    "    for edge in graph.edges[connected_node]:\n",
    "        print(\"graph.edges[connected_node]\", graph.edges[connected_node])\n",
    "        print(\"edge\", edge)\n",
    "        wt = cur_wt + graph.distances[(connected_node, edge)]\n",
    "        if edge not in visited_dist or wt < visited_dist[edge]:\n",
    "            visited_dist[edge] = wt\n",
    "    print(visited_dist)\n",
    "    "
   ]
  },
  {
   "cell_type": "code",
   "execution_count": 18,
   "metadata": {},
   "outputs": [],
   "source": [
    "dist = dijkstra(G, 7)"
   ]
  },
  {
   "cell_type": "code",
   "execution_count": 20,
   "metadata": {},
   "outputs": [
    {
     "data": {
      "text/plain": [
       "44.463468150831417"
      ]
     },
     "execution_count": 20,
     "metadata": {},
     "output_type": "execute_result"
    }
   ],
   "source": [
    "dist.get(4)"
   ]
  },
  {
   "cell_type": "code",
   "execution_count": 21,
   "metadata": {},
   "outputs": [
    {
     "data": {
      "text/plain": [
       "{0: 112.28349733331636,\n",
       " 1: 35.128336140500593,\n",
       " 2: 42.485291572496003,\n",
       " 3: 189.85255949293034,\n",
       " 4: 44.463468150831417,\n",
       " 5: 156.19249413351667,\n",
       " 6: 88.576958151056971,\n",
       " 7: 0,\n",
       " 9: 191.07802121854149}"
      ]
     },
     "execution_count": 21,
     "metadata": {},
     "output_type": "execute_result"
    }
   ],
   "source": [
    "dijkstra(G, 7)"
   ]
  }
 ],
 "metadata": {
  "kernelspec": {
   "display_name": "Python 3",
   "language": "python",
   "name": "python3"
  },
  "language_info": {
   "codemirror_mode": {
    "name": "ipython",
    "version": 3
   },
   "file_extension": ".py",
   "mimetype": "text/x-python",
   "name": "python",
   "nbconvert_exporter": "python",
   "pygments_lexer": "ipython3",
   "version": "3.6.1"
  }
 },
 "nbformat": 4,
 "nbformat_minor": 2
}
