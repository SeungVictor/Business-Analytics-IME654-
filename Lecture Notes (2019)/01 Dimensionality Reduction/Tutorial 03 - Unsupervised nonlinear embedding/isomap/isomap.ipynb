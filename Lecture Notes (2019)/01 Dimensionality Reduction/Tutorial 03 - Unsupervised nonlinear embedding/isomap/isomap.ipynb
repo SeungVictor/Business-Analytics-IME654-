{
 "cells": [
  {
   "cell_type": "code",
   "execution_count": 2,
   "metadata": {},
   "outputs": [],
   "source": [
    "from sklearn.neighbors import NearestNeighbors, kneighbors_graph\n",
    "from sklearn.decomposition import KernelPCA\n",
    "from dijkstra import Graph, dijkstra\n",
    "import numpy as np\n",
    "import pickle\n",
    "\n",
    "\n",
    "\n",
    "def isomap(input, n_neighbors, n_components, n_jobs):\n",
    "\n",
    "#     nbrs_ = NearestNeighbors(n_neighbors=n_neighbors,algorithm='ball_tree',n_jobs=n_jobs)\n",
    "#     nbrs_.fit(input)\n",
    "\n",
    "#     kng = kneighbors_graph(X=nbrs_, n_neighbors=n_neighbors, mode='distance')\n",
    "#     # Build Graph\n",
    "#     G = Graph()\n",
    "#     for i in range(len(input)):\n",
    "#         G.add_node(i)\n",
    "\n",
    "#     # Set weight to edges\n",
    "#     for i in range(len(input)):\n",
    "#         for j in range(i+1,len(input)):\n",
    "#             if kng.toarray()[i][j] != 0:\n",
    "#                 G.add_edge(i, j, kng.toarray()[i][j])\n",
    "#         print(i)\n",
    "\n",
    "#     '''\n",
    "#     #pickle.dump(G, open(\"./graph_new.p\", \"wb\"))\n",
    "#     G= pickle.load(open(\"./graph_new.p\",\"rb\"))\n",
    "#     '''\n",
    "\n",
    "#     distance_matrix_modified = np.zeros((len(input),len(input)))\n",
    "\n",
    "#     for i in range(len(input)):\n",
    "#         distance_matrix_modified[i][i] = 0\n",
    "#         print(i, \"/\", len(input), \"'th Job is started\")\n",
    "#         dist = dijkstra(G,i)\n",
    "#         for j in range(i+1, len(input)):\n",
    "#             if j % 100 == 0 :\n",
    "#                 print(i, \"'th Job is still working now\", j, \"/\", len(input))\n",
    "#             distance_matrix_modified[i][j] = dist.get(j)\n",
    "#             distance_matrix_modified[j][i] = dist.get(j)\n",
    "#         print(i, \"/\", len(input), \"'th Job is done\")\n",
    "\n",
    "\n",
    "#    pickle.dump(distance_matrix_modified, open('./isomap_distance_matrix.p', 'wb'))\n",
    "\n",
    "\n",
    "    distance_matrix = pickle.load(open('./isomap_distance_matrix.p', 'rb'))\n",
    "\n",
    "\n",
    "\n",
    "    kernel_pca_ = KernelPCA(n_components=n_components,\n",
    "                                 kernel=\"precomputed\",\n",
    "                                 eigen_solver='arpack', max_iter=None,\n",
    "                                 n_jobs=n_jobs)\n",
    "\n",
    "    Z = distance_matrix ** 2\n",
    "    Z *= -0.5\n",
    "\n",
    "    embedding = kernel_pca_.fit_transform(Z)\n",
    "\n",
    "    return(embedding)\n",
    "\n"
   ]
  },
  {
   "cell_type": "code",
   "execution_count": 4,
   "metadata": {
    "collapsed": true
   },
   "outputs": [],
   "source": [
    "distance_matrix = pickle.load(open('./isomap_distance_matrix.p', 'rb'))"
   ]
  },
  {
   "cell_type": "code",
   "execution_count": 8,
   "metadata": {},
   "outputs": [
    {
     "data": {
      "text/plain": [
       "array([[   0.        ,  154.35161037,  146.9940453 , ...,  101.37130448,\n",
       "         111.52148231,   47.40453096],\n",
       "       [ 154.35161037,    0.        ,   53.29863653, ...,   97.4212389 ,\n",
       "          89.19986442,  133.594076  ],\n",
       "       [ 146.9940453 ,   53.29863653,    0.        , ...,   91.03688032,\n",
       "          92.95975334,   99.58951434],\n",
       "       ..., \n",
       "       [ 101.37130448,   97.4212389 ,   91.03688032, ...,    0.        ,\n",
       "          17.54992877,   79.40770598],\n",
       "       [ 111.52148231,   89.19986442,   92.95975334, ...,   17.54992877,\n",
       "           0.        ,   81.330579  ],\n",
       "       [  47.40453096,  133.594076  ,   99.58951434, ...,   79.40770598,\n",
       "          81.330579  ,    0.        ]])"
      ]
     },
     "execution_count": 8,
     "metadata": {},
     "output_type": "execute_result"
    }
   ],
   "source": [
    "distance_matrix"
   ]
  },
  {
   "cell_type": "code",
   "execution_count": 10,
   "metadata": {},
   "outputs": [],
   "source": [
    "kernel_pca_ = KernelPCA(n_components=2,\n",
    "                             kernel=\"precomputed\",\n",
    "                             eigen_solver='arpack', max_iter=None,\n",
    "                             n_jobs=4)\n",
    "\n",
    "Z = distance_matrix ** 2\n",
    "Z *= -0.5\n",
    "\n",
    "embedding = kernel_pca_.fit_transform(Z)"
   ]
  },
  {
   "cell_type": "code",
   "execution_count": 11,
   "metadata": {},
   "outputs": [
    {
     "data": {
      "text/plain": [
       "array([[ 84.19150825, -11.39396731],\n",
       "       [-59.55724849,  34.93165536],\n",
       "       [-50.88020476,  14.17392053],\n",
       "       ..., \n",
       "       [ 23.88082524,  69.39360929],\n",
       "       [ 21.95362246,  71.55362683],\n",
       "       [ 52.9122889 ,  -1.03051133]])"
      ]
     },
     "execution_count": 11,
     "metadata": {},
     "output_type": "execute_result"
    }
   ],
   "source": [
    "embedding"
   ]
  }
 ],
 "metadata": {
  "kernelspec": {
   "display_name": "Python 3",
   "language": "python",
   "name": "python3"
  },
  "language_info": {
   "codemirror_mode": {
    "name": "ipython",
    "version": 3
   },
   "file_extension": ".py",
   "mimetype": "text/x-python",
   "name": "python",
   "nbconvert_exporter": "python",
   "pygments_lexer": "ipython3",
   "version": "3.6.1"
  }
 },
 "nbformat": 4,
 "nbformat_minor": 2
}
