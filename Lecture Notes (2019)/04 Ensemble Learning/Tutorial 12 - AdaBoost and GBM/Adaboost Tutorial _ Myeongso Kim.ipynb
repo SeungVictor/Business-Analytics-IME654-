{
 "cells": [
  {
   "cell_type": "code",
   "execution_count": 71,
   "metadata": {},
   "outputs": [
    {
     "data": {
      "image/png": "[encoded data removed]",
      "text/plain": [
       "<matplotlib.figure.Figure at 0x1f6669e9438>"
      ]
     },
     "metadata": {},
     "output_type": "display_data"
    }
   ],
   "source": [
    "import random as random\n",
    "import numpy as np\n",
    "import matplotlib.pyplot as plt\n",
    "import pandas as pd\n",
    "from math import pi\n",
    "from sklearn.ensemble import AdaBoostClassifier\n",
    "from sklearn.tree import DecisionTreeClassifier\n",
    "\n",
    "\n",
    "\n",
    "#데이터 생성 단계입니다. (x*sin(x), x*cos(x)) 형태의 점들을 그러줍니다.\n",
    "#그 점들에 약간의 랜덤값을 더해주었습니다.\n",
    "seed=np.add(3,range(20))\n",
    "rand=[]\n",
    "for i in range(0,20):\n",
    "    rand.append(random.random())\n",
    "\n",
    "x_plus=np.add(np.multiply(seed,np.sin(np.divide(seed,10/pi))),0.2*np.multiply(seed,rand))\n",
    "y_plus=np.add(np.multiply(seed,np.cos(np.divide(seed,10/pi))),0.2*np.multiply(seed,rand))\n",
    "x_minus=np.add(np.multiply(seed,np.sin(np.divide(seed,-10/pi))),0.2*np.multiply(seed,rand))\n",
    "y_minus=np.add(np.multiply(seed,-np.cos(np.divide(seed,10/pi))),0.2*np.multiply(seed,rand))\n",
    "\n",
    "class1= pd.concat([pd.DataFrame(x_plus),pd.DataFrame(y_plus)],axis=1)\n",
    "class2= pd.concat([pd.DataFrame(x_minus),pd.DataFrame(y_minus)],axis=1)\n",
    "tutorial_sample=class1.append(class2)\n",
    "\n",
    "#tutorial_sample로 지정된 변수가 앞으로 학습시킬 데이터 입니다.\n",
    "#Y가 라벨이며 (1이 파란색, 0이 빨간색) Y1은 1, -1로 변환시킨 라벨 입니다.\n",
    "Y_sample=np.append(np.array([1]*20),np.array([0]*20))\n",
    "Y1_sample=np.subtract(np.multiply(2,Y_sample), 1)\n",
    "W=np.array([0.025]*40)\n",
    "\n",
    "\n",
    "plt.plot(x_plus,y_plus, 'bo', x_minus,y_minus,'ro')\n",
    "plt.grid()\n",
    "plt.show()\n",
    "\n"
   ]
  },
  {
   "cell_type": "code",
   "execution_count": 72,
   "metadata": {},
   "outputs": [
    {
     "name": "stdout",
     "output_type": "stream",
     "text": [
      "[1, 1, 1, 1, 1, 1, 1, 1, 0, 0, 0, 0, 0, 0, 0, 0, 0, 1, 1, 1, 0, 0, 0, 0, 0, 0, 0, 1, 1, 1, 1, 1, 1, 1, 1, 1, 1, 1, 0, 0]\n"
     ]
    }
   ],
   "source": [
    "#단순하게 어떤 값 초과이면 1, 이하이면 0을 반환하는 분류기입니다.\n",
    "#Input으로는 차례대로 분류할 데이터(X), 기준이 되는 변수 (여기서는 0=X, 1=Y), 기준점, 초과/미만일때 1 여부\n",
    "#이며 Output은 X를 해당 기준으로 분류한 결과입니다.\n",
    "def classifier (X,variable,thresh=3,plus=1):\n",
    "    classify=[]\n",
    "    if plus==1:\n",
    "        for i in range(0,len(X.index)):\n",
    "            if X.iloc[i,variable]>thresh:\n",
    "                classify.append(1)\n",
    "            else:\n",
    "                classify.append(0)\n",
    "        return classify\n",
    "    else:\n",
    "        for i in range(0,len(X.index)):\n",
    "            if X.iloc[i,variable]<=thresh:\n",
    "                classify.append(1)\n",
    "            else:\n",
    "                classify.append(0)\n",
    "        return classify\n",
    "\n",
    "print(classifier(tutorial_sample,0,0,1))"
   ]
  },
  {
   "cell_type": "code",
   "execution_count": 73,
   "metadata": {},
   "outputs": [
    {
     "name": "stdout",
     "output_type": "stream",
     "text": [
      "[-19.      0.5     8.      0.325]\n"
     ]
    }
   ],
   "source": [
    "#선택된 변수가 지정된 Weight 하에서 error를 최소화 하는 지점을 찾아주는 함수입니다.\n",
    "#Input으로는 독립변수,종속변수,Weight,i번째 독립변수들의 i값을 사용하며\n",
    "#Output은 기준점 초과를 1이라고 판단했을 때 최적의 기준점, 그 때의 에러, 기준점 이하를 1이라고 판단했을 때\n",
    "#최적의 기준점, 그 때의 에러입니다.\n",
    "def part(X,Y,W,variable):\n",
    "    thresh=-20\n",
    "    correction=thresh+1\n",
    "    error_vec=[]\n",
    "    for i in range(0,40):\n",
    "        thresh=thresh+1\n",
    "        estimate = classifier(X, variable,thresh=thresh,plus=1)\n",
    "        False_Estimate = Y !=  estimate\n",
    "        error = sum(np.multiply(W, False_Estimate))\n",
    "        error_vec.append(error)\n",
    "    return np.array([np.argmin(error_vec)+correction,np.min(error_vec),np.argmax(error_vec)+correction,np.min(np.subtract(1,error_vec))])\n",
    "\n",
    "print(part(tutorial_sample,Y_sample,W,0))"
   ]
  },
  {
   "cell_type": "code",
   "execution_count": 74,
   "metadata": {},
   "outputs": [
    {
     "name": "stdout",
     "output_type": "stream",
     "text": [
      "                X       Y\n",
      "thresh_초과 -19.000 -12.000\n",
      "error_초과    0.500   0.375\n",
      "thresh_이하   8.000   3.000\n",
      "error_이하    0.325   0.475\n"
     ]
    }
   ],
   "source": [
    "#모든 독립변수들에 대해 최적의 기준점 및 그때의 에러를 반환해 주는 함수입니다. 지금은 X,Y에 해당하는 값을 반환합니다.\n",
    "#Input은 앞으로 변화가 많이 없으니 설명을 생략하겠습니다.\n",
    "\n",
    "def selector(X,Y,W):\n",
    "    stack=pd.DataFrame()\n",
    "    for i in range(0,2):\n",
    "        part_result=pd.DataFrame(part(X,Y,W,i))\n",
    "        stack=pd.concat([stack,part_result],axis=1)\n",
    "    stack.columns = ['X', 'Y']\n",
    "    stack.index = ['thresh_초과', 'error_초과', 'thresh_이하', 'error_이하']\n",
    "    return stack\n",
    "\n",
    "print(selector(tutorial_sample,Y_sample,W))"
   ]
  },
  {
   "cell_type": "code",
   "execution_count": 75,
   "metadata": {},
   "outputs": [
    {
     "name": "stdout",
     "output_type": "stream",
     "text": [
      "[[1, 1, 1, 1, 1, 1, 1, 1, 1, 1, 1, 1, 1, 1, 1, 1, 1, 1, 1, 0, 1, 1, 1, 1, 1, 1, 1, 1, 1, 0, 0, 0, 0, 0, 0, 0, 0, 1, 1, 1], 0, 8.0, 0]\n"
     ]
    }
   ],
   "source": [
    "#selector 함수에서 error가 최소인 기준을 토대로 X를 한번 분류한 결과를 보여줍니다.\n",
    "#Output은 분류결과, 분류에 사용된 변수 (0=X, 1=Y), 기준점, 초과/이하 여부 입니다\n",
    "\n",
    "def stumped_tree(X,Y,W):\n",
    "    selected=selector(X,Y,W)\n",
    "    error_from_variables=selected.iloc[1,:].append(selected.iloc[3,:])\n",
    "    if np.min(error_from_variables)==selected.iloc[1,0]:\n",
    "        return[classifier(X,0,selected.iloc[0,0],1),0,selected.iloc[0,0],1]\n",
    "    elif np.min(error_from_variables)==selected.iloc[1,1]:\n",
    "        return [classifier(X,1,selected.iloc[0,1],1),1,selected.iloc[0,1],1]\n",
    "    elif np.min(error_from_variables)==selected.iloc[3,0]:\n",
    "        return [classifier(X,0,selected.iloc[2,0],0),0,selected.iloc[2,0],0]\n",
    "    else:\n",
    "        return [classifier(X,1,selected.iloc[2,1],0),1,selected.iloc[2,1],0]\n",
    "    \n",
    "print(stumped_tree(tutorial_sample,Y_sample,W))"
   ]
  },
  {
   "cell_type": "code",
   "execution_count": 76,
   "metadata": {},
   "outputs": [
    {
     "name": "stdout",
     "output_type": "stream",
     "text": [
      "[array([ 0.01851852,  0.01851852,  0.01851852,  0.01851852,  0.01851852,\n",
      "        0.01851852,  0.01851852,  0.01851852,  0.01851852,  0.01851852,\n",
      "        0.01851852,  0.01851852,  0.01851852,  0.01851852,  0.01851852,\n",
      "        0.01851852,  0.01851852,  0.01851852,  0.01851852,  0.03846154,\n",
      "        0.03846154,  0.03846154,  0.03846154,  0.03846154,  0.03846154,\n",
      "        0.03846154,  0.03846154,  0.03846154,  0.03846154,  0.01851852,\n",
      "        0.01851852,  0.01851852,  0.01851852,  0.01851852,  0.01851852,\n",
      "        0.01851852,  0.01851852,  0.03846154,  0.03846154,  0.03846154]), 0.36544375427139675, 0.32499999999999973, array([ 1,  1,  1,  1,  1,  1,  1,  1,  1,  1,  1,  1,  1,  1,  1,  1,  1,\n",
      "        1,  1, -1,  1,  1,  1,  1,  1,  1,  1,  1,  1, -1, -1, -1, -1, -1,\n",
      "       -1, -1, -1,  1,  1,  1])]\n"
     ]
    }
   ],
   "source": [
    "#분류를 한번 진행했을 때 Adaboost에 필요한 재료들을 반환하는 함수입니다.\n",
    "#Output은 차례대로 변환된 Weight, alpha, epsilon, 1단계 분류 결과 입니다.\n",
    "\n",
    "\n",
    "def result(X,Y,W):\n",
    "    True_False=stumped_tree(X,Y,W)[0]==Y\n",
    "    temp_result=np.subtract(np.multiply(2,stumped_tree(X,Y,W)[0]),1)\n",
    "    epsilon=1-sum(np.multiply(W,True_False))\n",
    "    alpha=0.5*np.log((1-epsilon)/epsilon)\n",
    "    True_False=np.subtract(np.multiply(2,True_False),1)\n",
    "    numerator=np.multiply(W,np.exp(np.multiply(-alpha,True_False)))\n",
    "    denominator=sum(numerator)\n",
    "    W2=np.divide(numerator,denominator)\n",
    "    return [W2,alpha,epsilon,temp_result]\n",
    "\n",
    "print(result(tutorial_sample,Y_sample,W))\n"
   ]
  },
  {
   "cell_type": "code",
   "execution_count": 77,
   "metadata": {},
   "outputs": [
    {
     "name": "stdout",
     "output_type": "stream",
     "text": [
      "step 1 finished with error 0.325 in learning\n",
      "step 2 finished with error 0.375 in learning\n",
      "step 3 finished with error 0.225 in learning\n",
      "step 4 finished with error 0.25 in learning\n",
      "step 5 finished with error 0.15 in learning\n",
      "step 6 finished with error 0.05 in learning\n",
      "step 7 finished with error 0.2 in learning\n",
      "step 8 finished with error 0.1 in learning\n",
      "step 9 finished with error 0.15 in learning\n",
      "step 10 finished with error 0.05 in learning\n",
      "step 11 finished with error 0.15 in learning\n",
      "step 12 finished with error 0.0 in learning\n",
      "step 1 finished in predicting\n",
      "step 2 finished in predicting\n",
      "step 3 finished in predicting\n",
      "step 4 finished in predicting\n",
      "step 5 finished in predicting\n",
      "step 6 finished in predicting\n",
      "step 7 finished in predicting\n",
      "step 8 finished in predicting\n",
      "step 9 finished in predicting\n",
      "step 10 finished in predicting\n",
      "step 11 finished in predicting\n",
      "step 12 finished in predicting\n",
      "[ True  True  True  True  True  True  True  True  True  True  True  True\n",
      "  True  True  True  True  True  True  True  True  True  True  True  True\n",
      "  True  True  True  True  True  True  True  True  True  True  True  True\n",
      "  True  True  True  True]\n"
     ]
    }
   ],
   "source": [
    "#위 함수들을 결합하여 최종적으로 Adaboost를 실행하는 함수입니다.\n",
    "#X를 나누는 기준을 학습시켜 A를 분류해주며 thresh값은 정확도를 어느 정도 까지 분류할지를 정해주는 parameter입니다.\n",
    "#조금 시간이 걸려 learning step, predicting step단계를 print하게 만들었습니다.\n",
    "#Output은 최종 분류결과/단계별 분류기준점/알파/분류기준 변수/초과 이하구분 입니다.\n",
    "def Adaboost(X,Y,A,thresh=0.1):\n",
    "    W=[1/len(X.index)]*len(X.index)\n",
    "    estimate=np.multiply(0,result(X,Y,W)[3])\n",
    "    final_error = 0.5\n",
    "    variable = []\n",
    "    critical = []\n",
    "    plus_minus = []\n",
    "    alpha = []\n",
    "    predict=0\n",
    "    count = 0\n",
    "    A=np.reshape(A,(-1,2))\n",
    "    A=pd.DataFrame(A)\n",
    "    while final_error > thresh:\n",
    "        epsilon = result(X,Y, W)[2]\n",
    "        count = count + 1\n",
    "        alpha.append(result(X,Y, W)[1])\n",
    "        estimate = estimate + np.multiply(result(X,Y, W)[1], result(X,Y, W)[3])\n",
    "        final_classify = np.sign(estimate)\n",
    "        Y1 = np.subtract(np.multiply(2, Y), 1)\n",
    "        final_error = sum(final_classify != Y1) / len(Y1)\n",
    "        W = result(X,Y, W)[0]\n",
    "        print(\"step {} finished with error {} in learning\".format(count, final_error))\n",
    "    W=[1/len(X.index)]*len(X.index)\n",
    "    for i in range(0,count):\n",
    "        variable.append(stumped_tree(X,Y,W)[1])\n",
    "        critical.append(stumped_tree(X,Y,W)[2])\n",
    "        plus_minus.append(stumped_tree(X,Y,W)[3])\n",
    "        W = result(X,Y, W)[0]\n",
    "        predict=predict+np.multiply(alpha[i],np.subtract(np.multiply(2,classifier(A,variable[i],critical[i],plus_minus[i])),1))\n",
    "        print(\"step {} finished in predicting\".format(i+1))\n",
    "    XY=[]\n",
    "    for i in range(0,len(variable)):\n",
    "        if variable[i]==0:\n",
    "            XY.append(\"X\")\n",
    "        else:\n",
    "            XY.append(\"Y\")\n",
    "\n",
    "    PM=[]\n",
    "    for i in range(0, len(plus_minus)):\n",
    "        if plus_minus[i] == 1:\n",
    "            PM.append(\"초과이면 1\")\n",
    "    else:\n",
    "            PM.append(\"이하이면 1\")\n",
    "    return[np.sign(predict),np.add(critical,0.5),alpha,XY,PM]\n",
    "\n",
    "\n",
    "#자기 자신을 학습한 결과로 자신을 test 하는 것이기 때문에 모두 TRUE가 나와야 정상입니다\n",
    "print(Adaboost(tutorial_sample,Y_sample,tutorial_sample,0.01)[0]==Y1_sample)\n"
   ]
  },
  {
   "cell_type": "code",
   "execution_count": 78,
   "metadata": {},
   "outputs": [
    {
     "name": "stdout",
     "output_type": "stream",
     "text": [
      "step 1 finished with error 0.3 in learning\n",
      "step 2 finished with error 0.3 in learning\n",
      "step 3 finished with error 0.0 in learning\n",
      "step 1 finished in predicting\n",
      "step 2 finished in predicting\n",
      "step 3 finished in predicting\n",
      "[array([ 1.,  1., -1., -1.]), array([ 7.5,  2.5,  5.5]), [0.42364893019360172, 0.64964149206512978, 0.92291334524916491], ['X', 'Y', 'Y'], ['초과이면 1', '초과이면 1', '이하이면 1']]\n"
     ]
    }
   ],
   "source": [
    "#시각화를 위해 조금 더 간단한 예제를 만들어 보겠습니다\n",
    "#X로 TRAIN한 ADABOOST CLASSIFIER가 test를 잘 분류하는지 확인해보기 위한 데이터셋 구성 단계입니다.\n",
    "\n",
    "A=pd.DataFrame([2,6,4,7,9,4,8,3,2,6])\n",
    "B=pd.DataFrame([3,4,1,1,1,8,5,3,7,2])\n",
    "Y=np.array([1,1,0,0,1,0,1,1,0,0])\n",
    "X=pd.concat([A,B],axis=1)\n",
    "test=np.reshape([3,4,2,5,7,6,5,0],(-1,2))\n",
    "\n",
    "result=Adaboost(X,Y,test,0.01)\n",
    "print(result)\n",
    "\n",
    "\n",
    "col_train=[]\n",
    "for i in range(0,10):\n",
    "    if Y[i]==1:\n",
    "        col_train.append(\"b\")\n",
    "    else:\n",
    "        col_train.append(\"r\")\n",
    "        \n",
    "\n",
    "col = []\n",
    "for i in range(0,4):\n",
    "    if result[0][i]== 1:\n",
    "        col.append(\"b\")\n",
    "    else:\n",
    "        col.append(\"r\")\n",
    "\n",
    "        \n",
    "col2=[]\n",
    "for i in range(0,4):\n",
    "    if result[0][i]==1:\n",
    "        col2.append(\"r\")\n",
    "    else:\n",
    "        col2.append(\"b\")\n"
   ]
  },
  {
   "cell_type": "code",
   "execution_count": 79,
   "metadata": {},
   "outputs": [
    {
     "data": {
      "image/png": "[encoded data removed]",
      "text/plain": [
       "<matplotlib.figure.Figure at 0x1f676554518>"
      ]
     },
     "metadata": {},
     "output_type": "display_data"
    }
   ],
   "source": [
    "#분류 결과와 경계선을 눈으로 확인해 줍니다\n",
    "\n",
    "y_practice=np.array([1,1,0,0,1,0,1,1,0,0])\n",
    "X_practice=np.array([[2,3],[6,4],[4,1],[7,1],[9,1],[4,8],[8,5],[3,3],[2,7],[6,2]])\n",
    "\n",
    "\n",
    "#Adaboost 패키지의 옵션들을 설명드리겠습니다.\n",
    "#base_estimator는 분류기의 종류입니다. 저희는 Stump Tree를 사용했기에 기본 분류기에 depth1을 사용하였습니다.\n",
    "#algorithm 에는 SAMME과 SAMME.R이 있습니다. SAMME이 저희가 배운 알고리즘이며 SAMME.R은 분류 결과를 실수 (REAL)\n",
    "#로 출력합니다. 원리는 INPUT에 대한 Likelyhood와 비슷한 지표 h를 만들어 h를 최대로 하는 OUTPUT 값을 출력합니다.\n",
    "#Emprically SAMME보다 성능이 좋고 빠르게 수렴한다고 합니다.\n",
    "#Learning Rate는 Boost에 사용된 분류기 결과를 얼마나 사용할 지를 결정하는 Parameter 입니다. 저희가 배운 내용에서는\n",
    "#따로 discount를 하지 않기에 1로 설정합니다.\n",
    "#n_estimators 는 최대 몇번까지 분류할지를 결정하는 parameter입니다.\n",
    "\n",
    "bdt = AdaBoostClassifier(base_estimator=DecisionTreeClassifier(max_depth=1),\n",
    "                         algorithm=\"SAMME\",learning_rate=1.0, random_state=None,\n",
    "                         n_estimators=200)\n",
    "\n",
    "bdt.fit(X_practice, y_practice)\n",
    "\n",
    "\n",
    "plot_colors = \"br\"\n",
    "plot_step = 0.02\n",
    "class_names = \"AB\"\n",
    "\n",
    "plt.figure(figsize=(10, 5))\n",
    "\n",
    "# Plot the decision boundaries\n",
    "plt.subplot(121)\n",
    "x_min, x_max = X_practice[:, 0].min() - 1, X_practice[:, 0].max() + 1\n",
    "y_min, y_max = X_practice[:, 1].min() - 1, X_practice[:, 1].max() + 1\n",
    "xx, yy = np.meshgrid(np.arange(x_min, x_max, plot_step),\n",
    "                     np.arange(y_min, y_max, plot_step))\n",
    "\n",
    "Z = bdt.predict(np.c_[xx.ravel(), yy.ravel()])\n",
    "Z = Z.reshape(xx.shape)\n",
    "cs = plt.contourf(xx, yy, Z, cmap=plt.cm.Paired)\n",
    "plt.axis(\"tight\")\n",
    "\n",
    "# Plot the training points\n",
    "for i, n, c in zip(range(2), class_names, plot_colors):\n",
    "    idx = np.where(y_practice == i)\n",
    "    plt.scatter(X_practice[idx, 0], X_practice[idx, 1],\n",
    "                c=c, cmap=plt.cm.Paired,\n",
    "                s=20, edgecolor='k',\n",
    "                label=\"Class %s\" % n)\n",
    "plt.xlim(x_min, x_max)\n",
    "plt.ylim(y_min, y_max)\n",
    "plt.legend(loc='upper right')\n",
    "plt.xlabel('x')\n",
    "plt.ylabel('y')\n",
    "plt.title('Scikit Learn Package')\n",
    "\n",
    "\n",
    "\n",
    "plt.subplot(122)\n",
    "\n",
    "plt.xlim(0, 10)\n",
    "plt.ylim(0, 10)\n",
    "\n",
    "\n",
    "plt.axvspan(7.5, 10, facecolor='b', alpha=0.5*0.424)\n",
    "plt.axvspan(7.5, 0, facecolor='r', alpha=0.5*0.424)\n",
    "plt.axhspan(2.5, 10, facecolor='b', alpha=0.5*0.649)\n",
    "plt.axhspan(2.5, 0, facecolor='r', alpha=0.5*0.649)\n",
    "plt.axhspan(5.5, 0, facecolor='b', alpha=0.5*0.923)\n",
    "plt.axhspan(5.5, 10, facecolor='r', alpha=0.5*0.923)\n",
    "plt.scatter(A,B,c=col_train)\n",
    "plt.title('Hand made Adaboost')\n",
    "plt.show()\n",
    "\n"
   ]
  },
  {
   "cell_type": "code",
   "execution_count": 80,
   "metadata": {},
   "outputs": [
    {
     "data": {
      "image/png": "[encoded data removed]",
      "text/plain": [
       "<matplotlib.figure.Figure at 0x1f6765549b0>"
      ]
     },
     "metadata": {},
     "output_type": "display_data"
    }
   ],
   "source": [
    "#test에 활용된 점들은 점의 크기를 조금 더 크게 표시하였습니다\n",
    "\n",
    "bdt = AdaBoostClassifier(DecisionTreeClassifier(max_depth=1),\n",
    "                         algorithm=\"SAMME\",\n",
    "                         n_estimators=200)\n",
    "\n",
    "bdt.fit(X_practice, y_practice)\n",
    "\n",
    "plot_colors = \"br\"\n",
    "plot_step = 0.02\n",
    "class_names = \"AB\"\n",
    "\n",
    "plt.figure(figsize=(10, 5))\n",
    "\n",
    "# Plot the decision boundaries\n",
    "plt.subplot(121)\n",
    "x_min, x_max = X_practice[:, 0].min() - 1, X_practice[:, 0].max() + 1\n",
    "y_min, y_max = X_practice[:, 1].min() - 1, X_practice[:, 1].max() + 1\n",
    "xx, yy = np.meshgrid(np.arange(x_min, x_max, plot_step),\n",
    "                     np.arange(y_min-1, y_max, plot_step))\n",
    "\n",
    "Z = bdt.predict(np.c_[xx.ravel(), yy.ravel()])\n",
    "Z = Z.reshape(xx.shape)\n",
    "cs = plt.contourf(xx, yy, Z, cmap=plt.cm.Paired)\n",
    "plt.axis(\"tight\")\n",
    "\n",
    "# Plot the training points\n",
    "for i, n, c in zip(range(2), class_names, plot_colors):\n",
    "    idx = np.where(y_practice == i)\n",
    "    plt.scatter(X_practice[idx, 0], X_practice[idx, 1],\n",
    "                c=c, cmap=plt.cm.Paired,\n",
    "                s=20, edgecolor='k',\n",
    "                label=\"Class %s\" % n)\n",
    "plt.xlim(x_min, x_max)\n",
    "plt.ylim(y_min-1, y_max)\n",
    "plt.legend(loc='upper right')\n",
    "plt.xlabel('x')\n",
    "plt.ylabel('y')\n",
    "plt.scatter(test[:,0],test[:,1],c=col2,s=100)\n",
    "plt.title('Scikit Learn Package')\n",
    "\n",
    "\n",
    "\n",
    "\n",
    "plt.subplot(122)\n",
    "\n",
    "plt.xlim(0, 10)\n",
    "plt.ylim(-1, 10)\n",
    "\n",
    "\n",
    "plt.axvspan(7.5, 10, facecolor='b', alpha=0.5*0.424)\n",
    "plt.axvspan(7.5, -1, facecolor='r', alpha=0.5*0.424)\n",
    "plt.axhspan(2.5, 10, facecolor='b', alpha=0.5*0.649)\n",
    "plt.axhspan(2.5, -1, facecolor='r', alpha=0.5*0.649)\n",
    "plt.axhspan(5.5, -1, facecolor='b', alpha=0.5*0.923)\n",
    "plt.axhspan(5.5, 10, facecolor='r', alpha=0.5*0.923)\n",
    "plt.scatter(A,B,c=col_train,s=10)\n",
    "plt.title('Hand made Adaboost')\n",
    "plt.scatter(test[:,0],test[:,1],c=col,s=100)\n",
    "plt.show()\n"
   ]
  },
  {
   "cell_type": "code",
   "execution_count": 81,
   "metadata": {},
   "outputs": [
    {
     "data": {
      "image/png": "[encoded data removed]",
      "text/plain": [
       "<matplotlib.figure.Figure at 0x1f6765549e8>"
      ]
     },
     "metadata": {},
     "output_type": "display_data"
    }
   ],
   "source": [
    "#마지막으로 tutorial_sample의 분류경계면입니다.\n",
    "\n",
    "Y=np.append(np.array([1]*20),np.array([0]*20))\n",
    "tutorial_sample=np.array(tutorial_sample)\n",
    "\n",
    "# Create and fit an AdaBoosted decision tree\n",
    "bdt = AdaBoostClassifier(DecisionTreeClassifier(max_depth=1),\n",
    "                         algorithm=\"SAMME\",\n",
    "                         n_estimators=200)\n",
    "\n",
    "bdt.fit(tutorial_sample,Y_sample)\n",
    "\n",
    "\n",
    "plot_colors = \"br\"\n",
    "plot_step = 0.02\n",
    "class_names = \"AB\"\n",
    "\n",
    "plt.figure(figsize=(10, 5))\n",
    "\n",
    "# Plot the decision boundaries\n",
    "x_min, x_max = tutorial_sample[:, 0].min() - 1, tutorial_sample[:, 0].max() + 1\n",
    "y_min, y_max = tutorial_sample[:, 1].min() - 1, tutorial_sample[:, 1].max() + 1\n",
    "xx, yy = np.meshgrid(np.arange(x_min, x_max, plot_step),\n",
    "                     np.arange(y_min, y_max, plot_step))\n",
    "\n",
    "Z = bdt.predict(np.c_[xx.ravel(), yy.ravel()])\n",
    "Z = Z.reshape(xx.shape)\n",
    "cs = plt.contourf(xx, yy, Z, cmap=plt.cm.Paired)\n",
    "plt.axis(\"tight\")\n",
    "\n",
    "# Plot the training points\n",
    "for i, n, c in zip(range(2), class_names, plot_colors):\n",
    "    idx = np.where(Y_sample== i)\n",
    "    plt.scatter(tutorial_sample[idx, 0], tutorial_sample[idx, 1],\n",
    "                c=c, cmap=plt.cm.Paired,\n",
    "                s=20, edgecolor='k',\n",
    "                label=\"Class %s\" % n)\n",
    "plt.xlim(x_min, x_max)\n",
    "plt.ylim(y_min, y_max)\n",
    "plt.legend(loc='upper right')\n",
    "plt.xlabel('x')\n",
    "plt.ylabel('y')\n",
    "plt.title('Decision Boundary')\n",
    "plt.show()"
   ]
  },
  {
   "cell_type": "code",
   "execution_count": null,
   "metadata": {},
   "outputs": [],
   "source": []
  }
 ],
 "metadata": {
  "kernelspec": {
   "display_name": "Python 3",
   "language": "python",
   "name": "python3"
  },
  "language_info": {
   "codemirror_mode": {
    "name": "ipython",
    "version": 3
   },
   "file_extension": ".py",
   "mimetype": "text/x-python",
   "name": "python",
   "nbconvert_exporter": "python",
   "pygments_lexer": "ipython3",
   "version": "3.6.2"
  }
 },
 "nbformat": 4,
 "nbformat_minor": 2
}
