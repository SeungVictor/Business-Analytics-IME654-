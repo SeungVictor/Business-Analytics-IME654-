{
 "cells": [
  {
   "cell_type": "markdown",
   "metadata": {},
   "source": [
    "<h2>Gradient Boosting Machine: GBM"
   ]
  },
  {
   "cell_type": "markdown",
   "metadata": {},
   "source": [
    "![image.png](attachment:image.png)"
   ]
  },
  {
   "cell_type": "markdown",
   "metadata": {},
   "source": [
    "![image.png](attachment:image.png)"
   ]
  },
  {
   "cell_type": "markdown",
   "metadata": {},
   "source": [
    "<h4> 1) 결정한 tree수까지 tree를 계속 나눠보기\n",
    " - ex) tree=160이면 160번 잘릴 때까지 error를 끝까지 구하는 것"
   ]
  },
  {
   "cell_type": "code",
   "execution_count": 271,
   "metadata": {},
   "outputs": [],
   "source": [
    "import numpy as np\n",
    "from sklearn.metrics import mean_squared_error\n",
    "import time\n",
    "import matplotlib.pyplot as plt\n",
    "\n",
    "class gbm:\n",
    "\tdef __init__(self, x, y, x_split_val=0.1, tree=3):\n",
    "\t\tself.x = x\n",
    "\t\tself.y = y\n",
    "\t\tself.x_split_val = x_split_val\n",
    "\t\tself.tree = tree\n",
    "\n",
    "        \n",
    "    # xmin과 xmax를 구해서 그 사이 구간을 x_split_val만큼 증가시켜서 splited_x 리스트에 저장하는 함수\n",
    "    # 이 리스트가 x_threshold로 사용됨\n",
    "\tdef split_x(self, x, x_split_val):\n",
    "\t\tx_sort = np.sort(x, axis=0)\n",
    "\t\txmin, xmax = x_sort[0], x_sort[-1]\n",
    "\t\tsplited_x = []\n",
    "\t\twhile xmin < xmax :\n",
    "\t\t\tsplited_x.append(xmin)\n",
    "\t\t\txmin = xmin + x_split_val\n",
    "\t\treturn splited_x\n",
    "\n",
    "    \n",
    "    # x_threshold 값을 기준으로 나눌 때, 각 x와 y의 값을 리스트로 반환하는 함수\n",
    "\tdef split(self, x, y, x_threshold):\n",
    "\t\tindices_left = [i for i, x_i in enumerate(x) if x_i <= x_threshold]\n",
    "\t\tindices_right = [i for i, x_i in enumerate(x) if x_i > x_threshold]\n",
    "\n",
    "\t\tx_left = np.array([x[i] for i in indices_left])\n",
    "\t\ty_left = np.array([y[i] for i in indices_left])\n",
    "\t\tx_right = np.array([x[i] for i in indices_right])\n",
    "\t\ty_right = np.array([y[i] for i in indices_right])\n",
    "\t\treturn x_left, y_left, x_right, y_right\n",
    "\t\t\"\"\"\n",
    "x_left, y_left, x_right, y_right: [[ 1.]] [ 2.2] [[ 1.8]\n",
    " [ 3. ]\n",
    " [ 3.7]\n",
    " [ 4. ]\n",
    " [ 4.2]\n",
    " [ 4.5]\n",
    " [ 5. ]\n",
    " [ 5.3]\n",
    " [ 5.4]\n",
    " [ 5.9]\n",
    " [ 6.8]\n",
    " [ 7. ]\n",
    " [ 7.5]\n",
    " [ 7.6]\n",
    " [ 7.7]\n",
    " [ 8.1]\n",
    " [ 8.3]\n",
    " [ 9. ]\n",
    " [ 9.5]] [ 0.7  0.6  0.9  1.   1.4  1.5  0.8 -0.7 -0.8 -0.9  0.4  0.6 -0.7 -1.  -1.2\n",
    " -1.5  1.6 -1.1  0.9]\n",
    " \t\t\"\"\"\n",
    "    \n",
    "    # split함수에서 받은 x_left, y_left, x_right, y_right로\n",
    "    # x를 기준으로 나뉜 x의 왼쪽과 x의 오른쪽에 존재하는 y값의 평균을 구하고,\n",
    "    # 그 평균을 기존의 y에서 빼서 각각의 잔차(residual)를 구한다. \n",
    "    # --> (매번 tree를 만들기 위해서) 최적의 y split값을 찾기 위한 리스트들을 만든다고 보면 됨.\n",
    "\tdef split_y(self, x, y):\n",
    "\t\tx_thresholds = self.split_x(x, self.x_split_val)\n",
    "\t\ty_list, left_list, right_list = [], [], []\n",
    "\t\tfor j in range(len(x_thresholds)):\n",
    "\t\t\tx_left, y_left, x_right, y_right = self.split(x, y, x_thresholds[j])\n",
    "# \t\t\tprint(\"x_left, y_left, x_right, y_right:\",x_left, y_left, x_right, y_right)\n",
    "\t\t\tsplit_y_left = np.mean(y_left)\n",
    "\t\t\ty_left_residual = y_left - split_y_left\n",
    "\t\t\tleft_list.append(split_y_left)\n",
    "\n",
    "\t\t\tsplit_y_right = np.mean(y_right)\n",
    "\t\t\ty_right_residual = y_right - split_y_right\n",
    "\t\t\tright_list.append(split_y_right)\n",
    "\n",
    "\t\t\ty_list.append(np.append(y_left_residual, y_right_residual))\n",
    "\t\treturn y_list, x_thresholds, left_list, right_list\n",
    "\n",
    "\n",
    "    \n",
    "\t# squared loss 함수를 이용해서 가장 최적의 new_y를 찾아가면서 tree를 구축할 수 있는\n",
    "    # 각각의 new_x_list, new_y_list, split_y_left_list, split_y_right_list, beststump, error을 반환하기 위한 함수\n",
    "\tdef select_residual(self):\n",
    "\t\tnew_x = None\n",
    "\t\tnew_y = self.y\n",
    "\t\tl_ = None\n",
    "\t\tr_ = None\n",
    "\t\terror = np.inf\n",
    "\t\tnew_x_list, new_y_list, split_y_left_list, split_y_right_list = [], [], [], []\n",
    "\t\tbeststump = {}\n",
    "\n",
    "\t\tfor s in range(self.tree):\n",
    "\t\t\tselected_y_list, x_thresholds, left_list, right_list = self.split_y(self.x, new_y)\n",
    "\t\t\t\n",
    "\t\t\tnew_x_list.append(new_x)\n",
    "\t\t\tnew_y_list.append(new_y)\n",
    "\n",
    "\t\t\tsplit_y_left_list.append(l_)\n",
    "\t\t\tsplit_y_right_list.append(r_)\n",
    "\t\t\tq_list = []\n",
    "            \n",
    "\t\t\tfor u in range(len(selected_y_list)):\n",
    "\t\t\t\tq = selected_y_list[u]\n",
    "\t\t\t\tq_list.append(self.squared_loss(q))\n",
    "\t\t\t\tmin_error = min(q_list)\n",
    "\t\t\t\tnew_y = selected_y_list[q_list.index(min(q_list))]\n",
    "\t\t\t\tnew_x = x_thresholds[q_list.index(min(q_list))]\n",
    "\t\t\t\tl_ = left_list[q_list.index(min(q_list))]\n",
    "\t\t\t\tr_ = right_list[q_list.index(min(q_list))]\n",
    "\t\t\t\tif min_error < error:\n",
    "\t\t\t\t\terror = min_error\n",
    "\t\t\t\t\tbeststump['s'] = s\n",
    "\t\treturn new_x_list, new_y_list, split_y_left_list, split_y_right_list, beststump, error\n",
    "\n",
    "    \n",
    "\t#loss function for regression - squared loss\n",
    "\tdef squared_loss(self, selected_list):\n",
    "\t\treturn sum( 0.5 *((selected_list) ** 2) )\n",
    "\n",
    "    \n",
    "\t# select_residual함수에서 얻은 최적의 x, x 기준 왼쪽 y, 오른쪽 y의 최적값을 가지고,\n",
    "    # testdata가 들어왔을 때, y를 예측하는 함수\n",
    "\tdef predict(self, testdata):\n",
    "\t\tnew_x_list, new_y_list, split_y_left_list, split_y_right_list, beststump, error = self.select_residual()\n",
    "\n",
    "\t\tpredicted_val_list = []\n",
    "\t\tfor m in range(len(testdata)):\n",
    "\t\t\tresidual_sum = []\n",
    "\t\t\tfor n in range(len(split_y_left_list)-1):\n",
    "\t\t\t\tif testdata[m] <= new_x_list[n+1]:\n",
    "\t\t\t\t\tresidual_sum.append(split_y_left_list[n+1])\n",
    "\t\t\t\telse:\n",
    "\t\t\t\t\tresidual_sum.append(split_y_right_list[n+1])\n",
    "\t\t\tprint(testdata[m], \"predict value: \", sum(residual_sum))\n",
    "\t\t\tpredicted_val_list.append(sum(residual_sum))\n",
    "\t\treturn predicted_val_list\n",
    "\n",
    "    \n",
    "#사용한 데이터\n",
    "def loadSimpleData():\n",
    "\ttrain_data = np.array([[1], [1.8], [3], [3.7], [4], [4.2], [4.5], [5], [5.3], [5.4], [5.9], [6.8], [7], [7.5], [7.6], [7.7],\n",
    "\t                 [8.1], [8.3], [9], [9.5]])\n",
    "\ttrain_label = np.array([2.2, 0.7, 0.6, 0.9, 1, 1.4, 1.5, 0.8, -0.7, -0.8, -0.9, 0.4, 0.6, -0.7, -1.0, -1.2, -1.5, 1.6, -1.1, 0.9])\n",
    "\t# train_data = np.array([[1], [1.8], [3], [3.7], [4], [4.2], [4.5], [5], [5.3], [5.4]])\n",
    "\t# train_label = np.array([2.2, 0.7, 0.6, 0.9, 1, 1.4, 1.5, 0.8, -0.7, -0.8])\n",
    "\ttest_data = np.array([[1], [3], [3.7], [4.2], [4.5]])\n",
    "\ttest_label = [2.2, 0.6, 1, 1.4, 1.5]\n",
    "\treturn train_data, train_label, test_data, test_label\n",
    "\n",
    "train_data, train_label, test_data, test_label = loadSimpleData()"
   ]
  },
  {
   "cell_type": "code",
   "execution_count": 272,
   "metadata": {},
   "outputs": [
    {
     "name": "stdout",
     "output_type": "stream",
     "text": [
      "start gbm...\n",
      "[ 1.] predict value:  2.19879837966\n",
      "[ 3.] predict value:  0.608453612267\n",
      "[ 3.7] predict value:  0.898959790869\n",
      "[ 4.2] predict value:  1.40280686442\n",
      "[ 4.5] predict value:  1.48462444339\n",
      "test_label:  [2.2, 0.6, 1, 1.4, 1.5]\n",
      "predicted_label:  [2.1987983796599662, 0.60845361226710359, 0.89895979086892064, 1.4028068644174896, 1.4846244433908051]\n",
      "MSE: 0.0021\n",
      "time:  2.335663318634033\n"
     ]
    },
    {
     "data": {
      "image/png": "[encoded data removed]",
      "text/plain": [
       "<matplotlib.figure.Figure at 0x1a48fa80978>"
      ]
     },
     "metadata": {},
     "output_type": "display_data"
    }
   ],
   "source": [
    "# tree = 160\n",
    "if __name__ == '__main__':\n",
    "\tstart = time.time()\n",
    "\tprint(\"start gbm...\")\n",
    "\tGBM = gbm(x=train_data, y=train_label, x_split_val=0.1, tree=160) # x값은 0.1씩 움직이면서 160개 tree를 만들어보자!\n",
    "\tnew_x_list, new_y_list, split_y_left_list, split_y_right_list, beststump, error = GBM.select_residual()\n",
    "# \tprint(\"best_tree: \", beststump.get('s'))\n",
    "\tpredicted_label = GBM.predict(testdata=test_data) # testdata를 넣어서 예측해보자!\n",
    "\tprint(\"test_label: \", test_label) # 실제 테스트 데이터의 y값\n",
    "\tprint(\"predicted_label: \", predicted_label) # 예측된 값\n",
    "\n",
    "\tmse = mean_squared_error(test_label, predicted_label) # mse값\n",
    "\tprint(\"MSE: %.4f\" % mse)\n",
    "\tend = time.time()\n",
    "\tprint(\"time: \", end-start)\n",
    "\n",
    "    ### ##### plot ####### ###\n",
    "\ti = 1\n",
    "\tplt.figure(figsize=(10, 20))\n",
    "\tfor e in range(1, 160, 40): #160까지 돌렸을 때, 40번째 tree마다 그래프로 확인해보자!\n",
    "\t\tplt.subplot(410 + i)\n",
    "\n",
    "\t\tplt.scatter(train_data, new_y_list[e - 1], s=10, c='black')\n",
    "\n",
    "\t\tx_split_val = new_x_list[e][0]\n",
    "\t\ty_left_val = split_y_left_list[e]\n",
    "\t\ty_right_val = split_y_right_list[e]\n",
    "\n",
    "\t\tplt.plot([x_split_val,x_split_val],[y_left_val,y_right_val], color='green')\n",
    "\t\tplt.plot([0, x_split_val], [y_left_val, y_left_val], color='red')\n",
    "\t\tplt.plot([x_split_val, 10], [y_right_val, y_right_val], color='red')\n",
    "\t\tplt.grid(True)\n",
    "\n",
    "\t\tplt.xlim(0, 10)\n",
    "\t\tplt.ylim(-2.0, 2.5)\n",
    "\t\tplt.xlabel(\"x\", fontsize=12)\n",
    "\t\tplt.ylabel(\"y\", fontsize=12)\n",
    "\t\tplt.annotate(str(round(x_split_val, 3)), xy=(x_split_val, (y_left_val+y_right_val)+0.1),\n",
    "\t\t             xytext=(x_split_val, (y_left_val+y_right_val)+0.4), arrowprops=dict(arrowstyle=\"->\"), fontsize=10)\n",
    "\t\tplt.annotate(str(round(y_left_val, 3)), xy=(x_split_val-1, y_left_val+0.5),\n",
    "\t\t             xytext=(x_split_val-1, y_left_val+0.1), fontsize=10)\n",
    "\t\tplt.annotate(str(round(y_right_val, 3)), xy=(x_split_val+1, y_right_val-0.5),\n",
    "\t\t             xytext=(x_split_val+1, y_right_val-0.3), fontsize=10)\n",
    "\t\tplt.title(\"Tree\"+str(e))\n",
    "\t\tplt.subplots_adjust(top=0.92, bottom=0.08, left=0.10, right=0.95, hspace=0.25, wspace=0.35)\n",
    "\n",
    "\t\ti = i + 1\n",
    "\tplt.tight_layout()\n",
    "\tplt.show()"
   ]
  },
  {
   "cell_type": "code",
   "execution_count": 254,
   "metadata": {},
   "outputs": [
    {
     "data": {
      "text/plain": [
       "[None, array([ 5.1]), array([ 8.2]), array([ 1.]), array([ 7.1])]"
      ]
     },
     "execution_count": 254,
     "metadata": {},
     "output_type": "execute_result"
    }
   ],
   "source": [
    "new_x_list[0:5]"
   ]
  },
  {
   "cell_type": "code",
   "execution_count": 255,
   "metadata": {},
   "outputs": [
    {
     "data": {
      "text/plain": [
       "[array([ 2.2,  0.7,  0.6,  0.9,  1. ,  1.4,  1.5,  0.8, -0.7, -0.8, -0.9,\n",
       "         0.4,  0.6, -0.7, -1. , -1.2, -1.5,  1.6, -1.1,  0.9]),\n",
       " array([ 1.0625    , -0.4375    , -0.5375    , -0.2375    , -0.1375    ,\n",
       "         0.2625    ,  0.3625    , -0.3375    , -0.33333333, -0.43333333,\n",
       "        -0.53333333,  0.76666667,  0.96666667, -0.33333333, -0.63333333,\n",
       "        -0.83333333, -1.13333333,  1.96666667, -0.73333333,  1.26666667]),\n",
       " array([ 1.20955882, -0.29044118, -0.39044118, -0.09044118,  0.00955882,\n",
       "         0.40955882,  0.50955882, -0.19044118, -0.18627451, -0.28627451,\n",
       "        -0.38627451,  0.91372549,  1.11372549, -0.18627451, -0.48627451,\n",
       "        -0.68627451, -0.98627451,  1.13333333, -1.56666667,  0.43333333]),\n",
       " array([ 0.        , -0.22678019, -0.32678019, -0.02678019,  0.07321981,\n",
       "         0.47321981,  0.57321981, -0.12678019, -0.12261352, -0.22261352,\n",
       "        -0.32261352,  0.97738648,  1.17738648, -0.12261352, -0.42261352,\n",
       "        -0.62261352, -0.92261352,  1.19699432, -1.50300568,  0.49699432]),\n",
       " array([-0.14611316, -0.37289335, -0.47289335, -0.17289335, -0.07289335,\n",
       "         0.32710665,  0.42710665, -0.27289335, -0.26872668, -0.36872668,\n",
       "        -0.46872668,  0.83127332,  1.03127332,  0.1487395 , -0.1512605 ,\n",
       "        -0.3512605 , -0.6512605 ,  1.46834734, -1.23165266,  0.76834734])]"
      ]
     },
     "execution_count": 255,
     "metadata": {},
     "output_type": "execute_result"
    }
   ],
   "source": [
    "new_y_list[0:5]"
   ]
  },
  {
   "cell_type": "code",
   "execution_count": 256,
   "metadata": {},
   "outputs": [
    {
     "data": {
      "text/plain": [
       "[None, 1.1375, -0.14705882352941171, 1.2095588235294119, 0.14611316186393586]"
      ]
     },
     "execution_count": 256,
     "metadata": {},
     "output_type": "execute_result"
    }
   ],
   "source": [
    "split_y_left_list[0:5]"
   ]
  },
  {
   "cell_type": "code",
   "execution_count": 257,
   "metadata": {},
   "outputs": [
    {
     "data": {
      "text/plain": [
       "[None,\n",
       " -0.3666666666666667,\n",
       " 0.83333333333333337,\n",
       " -0.063660990712074345,\n",
       " -0.27135301489016661]"
      ]
     },
     "execution_count": 257,
     "metadata": {},
     "output_type": "execute_result"
    }
   ],
   "source": [
    "split_y_right_list[0:5]"
   ]
  },
  {
   "cell_type": "code",
   "execution_count": 260,
   "metadata": {},
   "outputs": [
    {
     "data": {
      "text/plain": [
       "0.00073233728926643926"
      ]
     },
     "execution_count": 260,
     "metadata": {},
     "output_type": "execute_result"
    }
   ],
   "source": [
    "error"
   ]
  },
  {
   "cell_type": "markdown",
   "metadata": {},
   "source": [
    "<h4>2) error를 변경하면서 gbm돌려보기\n",
    " - ex) tree=160이고, error=0.1, 0.01, 0.001로 바꿔가면서 돌려보기"
   ]
  },
  {
   "cell_type": "code",
   "execution_count": 261,
   "metadata": {
    "collapsed": true
   },
   "outputs": [],
   "source": [
    "import numpy as np\n",
    "from sklearn.metrics import mean_squared_error\n",
    "import time\n",
    "import matplotlib.pyplot as plt\n",
    "\n",
    "class gbm:\n",
    "\tdef __init__(self, x, y, x_split_val=0.1, tree=160, error=0.1):\n",
    "\t\tself.x = x\n",
    "\t\tself.y = y\n",
    "\t\tself.x_split_val = x_split_val\n",
    "\t\tself.tree = tree\n",
    "\t\tself.error = error #앞 코드에서 추가된 부분\n",
    "\n",
    "\tdef split_x(self, x, x_split_val):\n",
    "\t\tx_sort = np.sort(x, axis=0)\n",
    "\t\txmin, xmax = x_sort[0], x_sort[-1]\n",
    "\t\tsplited_x = []\n",
    "\t\twhile xmin < xmax :\n",
    "\t\t\tsplited_x.append(xmin)\n",
    "\t\t\txmin = xmin + x_split_val\n",
    "\t\treturn splited_x\n",
    "\n",
    "\n",
    "\tdef split(self, x, y, x_threshold):\n",
    "\t\tindices_left = [i for i, x_i in enumerate(x) if x_i <= x_threshold]\n",
    "\t\tindices_right = [i for i, x_i in enumerate(x) if x_i > x_threshold]\n",
    "\n",
    "\t\tx_left = np.array([x[i] for i in indices_left])\n",
    "\t\ty_left = np.array([y[i] for i in indices_left])\n",
    "\t\tx_right = np.array([x[i] for i in indices_right])\n",
    "\t\ty_right = np.array([y[i] for i in indices_right])\n",
    "\t\treturn x_left, y_left, x_right, y_right\n",
    "\n",
    "\n",
    "\tdef split_y(self, x, y):\n",
    "\t\tx_thresholds = self.split_x(x, self.x_split_val)\n",
    "\t\ty_list, left_list, right_list = [], [], []\n",
    "\t\tfor j in range(len(x_thresholds)):\n",
    "\t\t\tx_left, y_left, x_right, y_right = self.split(x, y, x_thresholds[j])\n",
    "\t\t\tsplit_y_left = np.mean(y_left)\n",
    "\t\t\ty_left_residual = y_left - split_y_left\n",
    "\t\t\tleft_list.append(split_y_left)\n",
    "\n",
    "\t\t\tsplit_y_right = np.mean(y_right)\n",
    "\t\t\ty_right_residual = y_right - split_y_right\n",
    "\t\t\tright_list.append(split_y_right)\n",
    "\t\t\ty_list.append(np.append(y_left_residual, y_right_residual))\n",
    "\t\treturn y_list, x_thresholds, left_list, right_list\n",
    "\n",
    "\n",
    "\tdef select_residual(self):\n",
    "\t\tnew_x = None\n",
    "\t\tnew_y = self.y\n",
    "\t\tl_ = None\n",
    "\t\tr_ = None\n",
    "\t\tmin_error = np.inf\n",
    "\t\tnew_x_list, new_y_list, split_y_left_list, split_y_right_list = [], [], [], []\n",
    "\t\tbeststump = {}\n",
    "\n",
    "\t\tfor s in range(self.tree):\n",
    "\t\t\tselected_y_list, x_thresholds, left_list, right_list = self.split_y(self.x, new_y)\n",
    "\n",
    "\t\t\tnew_x_list.append(new_x)\n",
    "\t\t\tnew_y_list.append(new_y)\n",
    "\n",
    "\t\t\tsplit_y_left_list.append(l_)\n",
    "\t\t\tsplit_y_right_list.append(r_)\n",
    "            \n",
    "\t\t\tq_list = []\n",
    "\t\t\tfor u in range(len(selected_y_list)):\n",
    "\t\t\t\tq = selected_y_list[u]\n",
    "\t\t\t\tq_list.append(0.5*sum(q**2))\n",
    "\t\t\t\tmin_error = min(q_list)\n",
    "\t\t\t\tnew_y = selected_y_list[q_list.index(min(q_list))]\n",
    "\t\t\t\tnew_x = x_thresholds[q_list.index(min(q_list))]\n",
    "\t\t\t\tl_ = left_list[q_list.index(min(q_list))]\n",
    "\t\t\t\tr_ = right_list[q_list.index(min(q_list))]\n",
    "        ### 앞 코드와 다른 부분 ###\n",
    "\t\t\tif (min_error < self.error):\n",
    "\t\t\t\tbeststump['s'] = s\n",
    "\t\t\t\tbreak\n",
    "\t\t\telse:\n",
    "\t\t\t\tcontinue\n",
    "        ### ################## ###\n",
    "\t\treturn new_x_list, new_y_list, split_y_left_list, split_y_right_list, beststump, min_error\n",
    "\n",
    "\n",
    "\tdef predict(self, testdata):\n",
    "\t\tnew_x_list, new_y_list, split_y_left_list, split_y_right_list, beststump, min_error = self.select_residual()\n",
    "\n",
    "\t\tpredicted_val_list = []\n",
    "\t\tfor m in range(len(testdata)):\n",
    "\t\t\tresidual_sum = []\n",
    "\t\t\tfor n in range(len(split_y_left_list)-1):\n",
    "\t\t\t\tif testdata[m] <= new_x_list[n+1]:\n",
    "\t\t\t\t\tresidual_sum.append(split_y_left_list[n+1])\n",
    "\t\t\t\telse:\n",
    "\t\t\t\t\tresidual_sum.append(split_y_right_list[n+1])\n",
    "\t\t\tprint(testdata[m], \"predict value :\", sum(residual_sum))\n",
    "\t\t\tpredicted_val_list.append(sum(residual_sum))\n",
    "\t\treturn predicted_val_list\n",
    "\n",
    "\n",
    "def loadSimpleData():\n",
    "\ttrain_data = np.array([[1], [1.8], [3], [3.7], [4], [4.2], [4.5], [5], [5.3], [5.4], [5.9], [6.8], [7], [7.5], [7.6], [7.7],\n",
    "\t                 [8.1], [8.3], [9], [9.5]])\n",
    "\ttrain_label = np.array([2.2, 0.7, 0.6, 0.9, 1, 1.4, 1.5, 0.8, -0.7, -0.8, -0.9, 0.4, 0.6, -0.7, -1.0, -1.2, -1.5, 1.6, -1.1, 0.9])\n",
    "\t# train_data = np.array([[1], [1.8], [3], [3.7], [4], [4.2], [4.5], [5], [5.3], [5.4]])\n",
    "\t# train_label = np.array([2.2, 0.7, 0.6, 0.9, 1, 1.4, 1.5, 0.8, -0.7, -0.8])\n",
    "\ttest_data = np.array([[1], [3], [3.7], [4.2], [4.5]])\n",
    "\ttest_label = [2.2, 0.6, 1, 1.4, 1.5]\n",
    "\treturn train_data, train_label, test_data, test_label\n",
    "\n",
    "train_data, train_label, test_data, test_label = loadSimpleData()"
   ]
  },
  {
   "cell_type": "code",
   "execution_count": 262,
   "metadata": {
    "scrolled": true
   },
   "outputs": [
    {
     "name": "stdout",
     "output_type": "stream",
     "text": [
      "start gbm...\n",
      "best_tree: 50\n",
      "[ 1.] predict value : 2.1511000304\n",
      "[ 3.] predict value : 0.689337453853\n",
      "[ 3.7] predict value : 0.966640244639\n",
      "[ 4.2] predict value : 1.38348891686\n",
      "[ 4.5] predict value : 1.38348891686\n",
      "test_label:  [2.2, 0.6, 1, 1.4, 1.5]\n",
      "predicted_label:  [2.1511000303987333, 0.68933745385337331, 0.9666402446390675, 1.3834889168561659, 1.3834889168561659]\n",
      "MSE: 0.0051\n",
      "time:  0.7540535926818848\n"
     ]
    }
   ],
   "source": [
    "if __name__ == '__main__':\n",
    "\tstart = time.time()\n",
    "\tprint(\"start gbm...\")\n",
    "\tGBM = gbm(x=train_data, y=train_label, x_split_val=0.1, tree=160, error=0.1) #앞 코드와 달리 error값 추가 - error:0.1\n",
    "\tnew_x_list, new_y_list, split_y_left_list, split_y_right_list, beststump, min_error = GBM.select_residual()\n",
    "\tprint(\"best_tree:\", beststump.get('s'))\n",
    "\n",
    "\tpredicted_label = GBM.predict(testdata=test_data)\n",
    "\tprint(\"test_label: \", test_label)\n",
    "\tprint(\"predicted_label: \", predicted_label)\n",
    "\n",
    "\tmse = mean_squared_error(test_label, predicted_label)\n",
    "\tprint(\"MSE: %.4f\" % mse)\n",
    "\tend = time.time()\n",
    "\tprint(\"time: \", end-start)"
   ]
  },
  {
   "cell_type": "code",
   "execution_count": 263,
   "metadata": {
    "scrolled": true
   },
   "outputs": [
    {
     "name": "stdout",
     "output_type": "stream",
     "text": [
      "start gbm...\n",
      "best_tree: 96\n",
      "[ 1.] predict value : 2.1997660875\n",
      "[ 3.] predict value : 0.630753222175\n",
      "[ 3.7] predict value : 0.90805601296\n",
      "[ 4.2] predict value : 1.41190308651\n",
      "[ 4.5] predict value : 1.44847630813\n",
      "test_label:  [2.2, 0.6, 1, 1.4, 1.5]\n",
      "predicted_label:  [2.199766087504774, 0.6307532221747304, 0.9080560129604246, 1.4119030865089923, 1.4484763081282483]\n",
      "MSE: 0.0024\n",
      "time:  1.5280869007110596\n"
     ]
    }
   ],
   "source": [
    "if __name__ == '__main__':\n",
    "\tstart = time.time()\n",
    "\tprint(\"start gbm...\")\n",
    "\tGBM = gbm(x=train_data, y=train_label, x_split_val=0.1, tree=160, error=0.01) #앞 코드와 달리 error값 추가 - error:0.01\n",
    "\tnew_x_list, new_y_list, split_y_left_list, split_y_right_list, beststump, min_error = GBM.select_residual()\n",
    "\tprint(\"best_tree:\", beststump.get('s'))\n",
    "\n",
    "\tpredicted_label = GBM.predict(testdata=test_data)\n",
    "\tprint(\"test_label: \", test_label)\n",
    "\tprint(\"predicted_label: \", predicted_label)\n",
    "\n",
    "\tmse = mean_squared_error(test_label, predicted_label)\n",
    "\tprint(\"MSE: %.4f\" % mse)\n",
    "\tend = time.time()\n",
    "\tprint(\"time: \", end-start)"
   ]
  },
  {
   "cell_type": "code",
   "execution_count": 264,
   "metadata": {
    "scrolled": true
   },
   "outputs": [
    {
     "name": "stdout",
     "output_type": "stream",
     "text": [
      "start gbm...\n",
      "best_tree: 150\n",
      "[ 1.] predict value : 2.20123133074\n",
      "[ 3.] predict value : 0.610886563342\n",
      "[ 3.7] predict value : 0.901392741944\n",
      "[ 4.2] predict value : 1.40523981549\n",
      "[ 4.5] predict value : 1.48382833262\n",
      "test_label:  [2.2, 0.6, 1, 1.4, 1.5]\n",
      "predicted_label:  [2.2012313307350388, 0.61088656334217661, 0.90139274194399366, 1.405239815492562, 1.4838283326163038]\n",
      "MSE: 0.0020\n",
      "time:  2.6543898582458496\n"
     ]
    }
   ],
   "source": [
    "if __name__ == '__main__':\n",
    "\tstart = time.time()\n",
    "\tprint(\"start gbm...\")\n",
    "\tGBM = gbm(x=train_data, y=train_label, x_split_val=0.1, tree=160, error=0.001)  #앞 코드와 달리 error값 추가 - error:0.001\n",
    "\tnew_x_list, new_y_list, split_y_left_list, split_y_right_list, beststump, min_error = GBM.select_residual()\n",
    "\tprint(\"best_tree:\", beststump.get('s'))\n",
    "\n",
    "\tpredicted_label = GBM.predict(testdata=test_data)\n",
    "\tprint(\"test_label: \", test_label)\n",
    "\tprint(\"predicted_label: \", predicted_label)\n",
    "\n",
    "\tmse = mean_squared_error(test_label, predicted_label)\n",
    "\tprint(\"MSE: %.4f\" % mse)\n",
    "\tend = time.time()\n",
    "\tprint(\"time: \", end-start)"
   ]
  },
  {
   "cell_type": "markdown",
   "metadata": {},
   "source": [
    "<h4>3) scikit-learn: ensemble method 중 하나인 GradientBoostingRegressor로 돌려보기(tree=160)\n",
    "\n",
    "- 1) error가 가장 작아질 때까지 tree를 계속 나눠보기\n",
    "    - MSE: 0.0021\n",
    "    \n",
    "    \n",
    "- 2) error를 변경하면서 gbm돌려보기\n",
    "    - MSE: 0.0051 (error=0.1)\n",
    "    - MSE: 0.0024 (error=0.01)\n",
    "    - MSE: 0.0020 (error=0.001)"
   ]
  },
  {
   "cell_type": "code",
   "execution_count": 265,
   "metadata": {
    "scrolled": true
   },
   "outputs": [
    {
     "name": "stdout",
     "output_type": "stream",
     "text": [
      "MSE: 0.0020\n",
      "test_label:  [2.2, 0.6, 1, 1.4, 1.5]\n",
      "i: 159, y_pred: [ 2.20099489  0.61065012  0.9011563   1.40500337  1.48682095] \n"
     ]
    }
   ],
   "source": [
    "import numpy as np\n",
    "from sklearn import ensemble\n",
    "from sklearn.metrics import mean_squared_error\n",
    "import matplotlib.pyplot as plt\n",
    "\n",
    "\n",
    "# 튜토리얼에 사용한 데이터\n",
    "def loadSimpleData():\n",
    "\ttrain_data = np.array([[1], [1.8], [3], [3.7], [4], [4.2], [4.5], [5], [5.3], [5.4], [5.9], [6.8], [7], [7.5], [7.6], [7.7],\n",
    "\t                 [8.1], [8.3], [9], [9.5]])\n",
    "\ttrain_label = np.array([2.2, 0.7, 0.6, 0.9, 1, 1.4, 1.5, 0.8, -0.7, -0.8, -0.9, 0.4, 0.6, -0.7, -1.0, -1.2, -1.5, 1.6, -1.1, 0.9])\n",
    "\t# train_data = np.array([[1], [1.8], [3], [3.7], [4], [4.2], [4.5], [5], [5.3], [5.4]])\n",
    "\t# train_label = np.array([2.2, 0.7, 0.6, 0.9, 1, 1.4, 1.5, 0.8, -0.7, -0.8])\n",
    "\ttest_data = np.array([[1], [3], [3.7], [4.2], [4.5]])\n",
    "\ttest_label = [2.2, 0.6, 1, 1.4, 1.5]\n",
    "\treturn train_data, train_label, test_data, test_label\n",
    "\n",
    "train_data, train_label, test_data, test_label = loadSimpleData()\n",
    "params = {'n_estimators': 160, 'max_depth': 1,\n",
    "          'learning_rate': 1, 'loss': 'ls'}\n",
    "\n",
    "regr = ensemble.GradientBoostingRegressor(**params)\n",
    "regr.fit(train_data, train_label)\n",
    "mse = mean_squared_error(test_label, regr.predict(test_data))\n",
    "print(\"MSE: %.4f\" % mse)\n",
    "\n",
    "test_score = np.zeros((params['n_estimators'],), dtype=np.float64)\n",
    "for i, y_pred in enumerate(regr.staged_predict(test_data)):\n",
    "\ttest_score[i] = regr.loss_(test_label, y_pred)\n",
    "print(\"test_label: \", test_label)\n",
    "print(\"i: {}, y_pred: {} \".format(i, y_pred))"
   ]
  },
  {
   "cell_type": "markdown",
   "metadata": {},
   "source": [
    "<h4> 4) GradientBoostingRegressor으로 파라메터 적용(dataset: boston)\n",
    ": http://scikit-learn.org/stable/modules/generated/sklearn.ensemble.GradientBoostingRegressor.html#sklearn.ensemble.GradientBoostingRegressor"
   ]
  },
  {
   "cell_type": "code",
   "execution_count": 266,
   "metadata": {},
   "outputs": [
    {
     "name": "stdout",
     "output_type": "stream",
     "text": [
      "MSE: 6.4092\n"
     ]
    },
    {
     "data": {
      "image/png": "[encoded data removed]",
      "text/plain": [
       "<matplotlib.figure.Figure at 0x1a48fed8588>"
      ]
     },
     "metadata": {},
     "output_type": "display_data"
    },
    {
     "data": {
      "image/png": "[encoded data removed]",
      "text/plain": [
       "<matplotlib.figure.Figure at 0x1a48fb1d9b0>"
      ]
     },
     "metadata": {},
     "output_type": "display_data"
    }
   ],
   "source": [
    "import numpy as np\n",
    "import matplotlib.pyplot as plt\n",
    "\n",
    "from sklearn import ensemble\n",
    "from sklearn import datasets\n",
    "from sklearn.utils import shuffle\n",
    "from sklearn.metrics import mean_squared_error\n",
    "\n",
    "# #############################################################################\n",
    "# Load data\n",
    "boston = datasets.load_boston()\n",
    "X, y = shuffle(boston.data, boston.target, random_state=13)\n",
    "X = X.astype(np.float32)\n",
    "offset = int(X.shape[0] * 0.9)\n",
    "X_train, y_train = X[:offset], y[:offset]\n",
    "X_test, y_test = X[offset:], y[offset:]\n",
    "\n",
    "# #############################################################################\n",
    "# Fit regression model\n",
    "original_params = {'n_estimators': 500, 'max_depth': 4, 'min_samples_split': 2,\n",
    "          'learning_rate': 0.01, 'loss': 'ls'}\n",
    "\n",
    "clf = ensemble.GradientBoostingRegressor(**original_params)\n",
    "\n",
    "clf.fit(X_train, y_train)\n",
    "mse = mean_squared_error(y_test, clf.predict(X_test))\n",
    "print(\"MSE: %.4f\" % mse)\n",
    "\n",
    "# #############################################################################\n",
    "# gbm regularzation - 1) subsampling\n",
    "#                   - 2) shrinkage\n",
    "#                   - 3) early stopping\n",
    "for label, color, setting in  [('No shrinkage', 'orange',\n",
    "                               {'learning_rate': 1.0, 'subsample': 1.0}),\n",
    "                              ('subsample=0.5', 'blue',\n",
    "                               {'learning_rate': 1.0, 'subsample': 0.5}),\n",
    "                              ('learning_rate=0.1, subsample=0.5', 'gray',\n",
    "                               {'learning_rate': 0.1, 'subsample': 0.5}),\n",
    "                               ('learning_rate=0.1', 'turquoise',\n",
    "                               {'learning_rate': 0.1, 'subsample': 1.0}),\n",
    "                              ('learning_rate=0.1, max_features=2', 'magenta',\n",
    "                               {'learning_rate': 0.1, 'max_features': 2})]:\n",
    "    params = dict(original_params)\n",
    "    params.update(setting)\n",
    "    clf = ensemble.GradientBoostingRegressor(**params)\n",
    "    clf.fit(X_train, y_train)\n",
    "    test_score = np.zeros((params['n_estimators'],), dtype=np.float64)\n",
    "    for i, y_pred in enumerate(clf.staged_predict(X_test)):\n",
    "        test_score[i] = clf.loss_(y_test, y_pred)\n",
    "#         print(\"test_score: \", test_score[i])\n",
    "    plt.plot((np.arange(test_score.shape[0]) + 1)[::5], test_score[::5],\n",
    "             '-', color=color, label=label)\n",
    "\n",
    "plt.legend(loc='upper left')\n",
    "plt.xlabel('Boosting Iterations')\n",
    "plt.ylabel('Test Set Deviance')\n",
    "\n",
    "plt.show()\n",
    "\n",
    "# compute test set deviance\n",
    "# Plot training deviance\n",
    "plt.figure(figsize=(12, 6))\n",
    "plt.subplot(1, 2, 1)\n",
    "plt.title('Deviance')\n",
    "plt.plot(np.arange(original_params['n_estimators']) + 1, clf.train_score_, 'b-',\n",
    "         label='Training Set Deviance')\n",
    "plt.plot(np.arange(original_params['n_estimators']) + 1, test_score, 'r-',\n",
    "         label='Test Set Deviance')\n",
    "plt.legend(loc='upper right')\n",
    "plt.xlabel('Boosting Iterations')\n",
    "plt.ylabel('Deviance')\n",
    "\n",
    "# #############################################################################\n",
    "# Plot feature importance\n",
    "feature_importance = clf.feature_importances_\n",
    "# make importances relative to max importance\n",
    "feature_importance = 100.0 * (feature_importance / feature_importance.max())\n",
    "sorted_idx = np.argsort(feature_importance)\n",
    "pos = np.arange(sorted_idx.shape[0]) + .5\n",
    "plt.subplot(1, 2, 2)\n",
    "plt.barh(pos, feature_importance[sorted_idx], align='center')\n",
    "plt.yticks(pos, boston.feature_names[sorted_idx])\n",
    "plt.xlabel('Relative Importance')\n",
    "plt.title('Variable Importance')\n",
    "plt.show()"
   ]
  }
 ],
 "metadata": {
  "kernelspec": {
   "display_name": "Python 3",
   "language": "python",
   "name": "python3"
  },
  "language_info": {
   "codemirror_mode": {
    "name": "ipython",
    "version": 3
   },
   "file_extension": ".py",
   "mimetype": "text/x-python",
   "name": "python",
   "nbconvert_exporter": "python",
   "pygments_lexer": "ipython3",
   "version": "3.5.3"
  }
 },
 "nbformat": 4,
 "nbformat_minor": 1
}
